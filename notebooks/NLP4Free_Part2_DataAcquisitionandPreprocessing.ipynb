{
 "cells": [
  {
   "cell_type": "markdown",
   "metadata": {
    "id": "L4Ka41ZT964z"
   },
   "source": [
    "![image.png](https://raw.githubusercontent.com/nlpfromscratch/nlp4free/master/assets/NLP4Free%20-%20Part%202%20-%20Data%20Acquisition%20and%20Preprocessing.png)\n",
    "\n",
    "---\n",
    "\n",
    "### License\n",
    "\n",
    "This work is licensed under a [Creative Commons NonCommerical License](https://creativecommons.org/licenses/by-nc/4.0/).\n",
    "\n",
    " \n",
    "<img src='https://raw.githubusercontent.com/nlpfromscratch/nlp4free/master/assets/Cc_by-nc_icon.png' style=\"width:25%\"/>\n",
    "\n",
    "You are free to:\n",
    "- **Share** — copy and redistribute the material in any medium or format\n",
    "- **Adapt** — remix, transform, and build upon the material. The licensor cannot revoke these freedoms as long as you follow the license terms.\n",
    "\n",
    "\n",
    "Under the following terms:\n",
    "- **Attribution** — You must give appropriate credit, provide a link to the license, and indicate if changes were made. You may do so in any reasonable manner, but not in any way that suggests the licensor endorses you or your use.\n",
    "- **NonCommercial** — You may not use the material for commercial purposes.\n",
    "\n",
    "---"
   ]
  },
  {
   "cell_type": "markdown",
   "metadata": {
    "id": "L4Ka41ZT964z"
   },
   "source": [
    "# Part 2 - Data Acquisition and Preprocessing"
   ]
  },
  {
   "cell_type": "markdown",
   "metadata": {
    "id": "L4Ka41ZT964z"
   },
   "source": [
    "## Data Acqusition\n",
    "\n",
    "### Requesting Data From a Web Service with the `requests` library"
   ]
  },
  {
   "cell_type": "markdown",
   "metadata": {
    "id": "L4Ka41ZT964z"
   },
   "source": [
    "<a target=\"_blank\" href=\"https://colab.research.google.com/github/nlpfromscratch/nlp4free/blob/master/notebooks/NLP4Free_Part2_DataAcquisitionandPreprocessing.ipynb\"><img src=\"https://colab.research.google.com/assets/colab-badge.svg\" alt=\"Open In Colab\" align=\"left\"/></a>"
   ]
  },
  {
   "cell_type": "markdown",
   "metadata": {},
   "source": [
    "In this notebook, we will acquire and preprocess text data from online sources. We have already been introduced to the [requests library](https://requests.readthedocs.io/en/latest/) and we will show how using it, with a few simple lines of code, we can pull data from a web service (REST API).\n",
    "\n",
    "[The Cocktail DB](https://www.thecocktaildb.com/) is an open source database of cocktails and drinks from around the world, and their ingredients. It also has an API that is free to use for educational purposes. \n",
    "\n",
    "Let's get some text data using the `requests` library, here a description of gin. The URL pattern for a given web service is up to its designer, and should be well documented. The Cocktail DB tells us to use the URL pattern `https://www.thecocktaildb.com/api/json/v1/1/search.php?i=<ingredient name>` in order to get information back on a drink ingredient.\n",
    "\n",
    "First, we import the requests library, than simply make a request using the `get` method and the URL:"
   ]
  },
  {
   "cell_type": "code",
   "execution_count": 1,
   "metadata": {
    "id": "tdOoclo3xX1f"
   },
   "outputs": [],
   "source": [
    "# Import the requests library\n",
    "import requests\n",
    "\n",
    "# Make a call to the API\n",
    "r = requests.get(\"https://www.thecocktaildb.com/api/json/v1/1/search.php?i=gin\")"
   ]
  },
  {
   "cell_type": "markdown",
   "metadata": {},
   "source": [
    "Our machine has now made the request and hopefully gotten a response from the server! Let's check the response code."
   ]
  },
  {
   "cell_type": "code",
   "execution_count": 2,
   "metadata": {
    "colab": {
     "base_uri": "https://localhost:8080/"
    },
    "id": "v3j4XGvdxhr1",
    "outputId": "10cbf336-e97b-4c40-e651-d7436b340d3d"
   },
   "outputs": [
    {
     "data": {
      "text/plain": [
       "<Response [200]>"
      ]
     },
     "execution_count": 2,
     "metadata": {},
     "output_type": "execute_result"
    }
   ],
   "source": [
    "# Check the response\n",
    "r"
   ]
  },
  {
   "cell_type": "markdown",
   "metadata": {},
   "source": [
    "We can see we have received a response code of 200, which means \"OK\" and that data was returned successfully. Let's check what was returned from our request. There are two ways to do this: the most straightforward is just to return using the `.text` attribute, which shows the contents of the response as an ordinary python string:"
   ]
  },
  {
   "cell_type": "code",
   "execution_count": 3,
   "metadata": {
    "colab": {
     "base_uri": "https://localhost:8080/",
     "height": 36
    },
    "id": "Zvs8PgFuxix5",
    "outputId": "af028c2a-3688-41a9-d6d6-08858a87e662"
   },
   "outputs": [
    {
     "data": {
      "text/plain": [
       "'{\"ingredients\":[{\"idIngredient\":\"2\",\"strIngredient\":\"Gin\",\"strDescription\":\"Gin is a distilled alcoholic drink that derives its predominant flavour from juniper berries (Juniperus communis). Gin is one of the broadest categories of spirits, all of various origins, styles, and flavour profiles, that revolve around juniper as a common ingredient.\\\\r\\\\n\\\\r\\\\nFrom its earliest origins in the Middle Ages, the drink has evolved from a herbal medicine to an object of commerce in the spirits industry. Gin emerged in England after the introduction of the jenever, a Dutch liquor which originally had been a medicine. Although this development had been taking place since early 17th century, gin became widespread after the William of Orange-led 1688 Glorious Revolution and subsequent import restrictions on French brandy.\\\\r\\\\n\\\\r\\\\nGin today is produced in subtly different ways, from a wide range of herbal ingredients, giving rise to a number of distinct styles and brands. After juniper, gin tends to be flavoured with botanical\\\\/herbal, spice, floral or fruit-flavours or often a combination. It is most commonly consumed mixed with tonic water. Gin is also often used as a base spirit to produce flavoured gin-based liqueurs such as, for example, Sloe gin, traditionally by the addition of fruit, flavourings and sugar.\",\"strType\":\"Gin\",\"strAlcohol\":\"Yes\",\"strABV\":\"40\"}]}'"
      ]
     },
     "execution_count": 3,
     "metadata": {},
     "output_type": "execute_result"
    }
   ],
   "source": [
    "# What are the contents\n",
    "r.text"
   ]
  },
  {
   "cell_type": "markdown",
   "metadata": {},
   "source": [
    "We can see there is some nesting of data here, as the response is actually returned in [Javascript Object Notation (JSON) format ](https://en.wikipedia.org/wiki/JSON), or what someone who works in python might instead call a [dictionary](https://docs.python.org/3/tutorial/datastructures.html#dictionaries). We can see the resposne in JSON format as well using `.json` method of the response object:"
   ]
  },
  {
   "cell_type": "code",
   "execution_count": 4,
   "metadata": {
    "colab": {
     "base_uri": "https://localhost:8080/"
    },
    "id": "6LamGPIxxlFi",
    "outputId": "55524cd6-46db-45fb-d96a-aa9cb2d9c7b6"
   },
   "outputs": [
    {
     "data": {
      "text/plain": [
       "{'ingredients': [{'idIngredient': '2',\n",
       "   'strIngredient': 'Gin',\n",
       "   'strDescription': 'Gin is a distilled alcoholic drink that derives its predominant flavour from juniper berries (Juniperus communis). Gin is one of the broadest categories of spirits, all of various origins, styles, and flavour profiles, that revolve around juniper as a common ingredient.\\r\\n\\r\\nFrom its earliest origins in the Middle Ages, the drink has evolved from a herbal medicine to an object of commerce in the spirits industry. Gin emerged in England after the introduction of the jenever, a Dutch liquor which originally had been a medicine. Although this development had been taking place since early 17th century, gin became widespread after the William of Orange-led 1688 Glorious Revolution and subsequent import restrictions on French brandy.\\r\\n\\r\\nGin today is produced in subtly different ways, from a wide range of herbal ingredients, giving rise to a number of distinct styles and brands. After juniper, gin tends to be flavoured with botanical/herbal, spice, floral or fruit-flavours or often a combination. It is most commonly consumed mixed with tonic water. Gin is also often used as a base spirit to produce flavoured gin-based liqueurs such as, for example, Sloe gin, traditionally by the addition of fruit, flavourings and sugar.',\n",
       "   'strType': 'Gin',\n",
       "   'strAlcohol': 'Yes',\n",
       "   'strABV': '40'}]}"
      ]
     },
     "execution_count": 4,
     "metadata": {},
     "output_type": "execute_result"
    }
   ],
   "source": [
    "# Convert to JSON and dict\n",
    "r.json()"
   ]
  },
  {
   "cell_type": "markdown",
   "metadata": {},
   "source": [
    "Now to pull out the description, it is a matter of subsetting the returned list associated with the `ingredients` key (there is only one element, element 0) and the getting the value associated with the `strDescription` key within it:"
   ]
  },
  {
   "cell_type": "code",
   "execution_count": 5,
   "metadata": {},
   "outputs": [
    {
     "name": "stdout",
     "output_type": "stream",
     "text": [
      "Gin is a distilled alcoholic drink that derives its predominant flavour from juniper berries (Juniperus communis). Gin is one of the broadest categories of spirits, all of various origins, styles, and flavour profiles, that revolve around juniper as a common ingredient.\r\n",
      "\r\n",
      "From its earliest origins in the Middle Ages, the drink has evolved from a herbal medicine to an object of commerce in the spirits industry. Gin emerged in England after the introduction of the jenever, a Dutch liquor which originally had been a medicine. Although this development had been taking place since early 17th century, gin became widespread after the William of Orange-led 1688 Glorious Revolution and subsequent import restrictions on French brandy.\r\n",
      "\r\n",
      "Gin today is produced in subtly different ways, from a wide range of herbal ingredients, giving rise to a number of distinct styles and brands. After juniper, gin tends to be flavoured with botanical/herbal, spice, floral or fruit-flavours or often a combination. It is most commonly consumed mixed with tonic water. Gin is also often used as a base spirit to produce flavoured gin-based liqueurs such as, for example, Sloe gin, traditionally by the addition of fruit, flavourings and sugar.\n"
     ]
    }
   ],
   "source": [
    "description = r.json()['ingredients'][0]['strDescription']\n",
    "print(description)"
   ]
  },
  {
   "cell_type": "markdown",
   "metadata": {},
   "source": [
    "Great! We have sucessfully retrieved some text from an API using `requests`. We could write more code to return more data programatically and stored in a data structure such as a list or pandas dataframe to work with in an NLP task:"
   ]
  },
  {
   "cell_type": "code",
   "execution_count": 6,
   "metadata": {},
   "outputs": [],
   "source": [
    "# List of ingredients for building request URLs\n",
    "ingredients = ['gin', 'vodka', 'rum']\n",
    "\n",
    "# Empty list to hold descriptions returned from API\n",
    "description_list = list()\n",
    "\n",
    "# Iterate over the ingredients\n",
    "for ingredient in ingredients:\n",
    "    \n",
    "    # Make a call to the API\n",
    "    r = requests.get(f\"https://www.thecocktaildb.com/api/json/v1/1/search.php?i={ingredient}\")\n",
    "    \n",
    "    # Pull out the description and append to the list\n",
    "    description = r.json()['ingredients'][0]['strDescription']\n",
    "    description_list.append({'ingredient':ingredient, 'description':description})"
   ]
  },
  {
   "cell_type": "markdown",
   "metadata": {},
   "source": [
    "Now we have a list storing the description field from data returned from the API calls:"
   ]
  },
  {
   "cell_type": "code",
   "execution_count": 7,
   "metadata": {
    "scrolled": true
   },
   "outputs": [
    {
     "data": {
      "text/plain": [
       "[{'ingredient': 'gin',\n",
       "  'description': 'Gin is a distilled alcoholic drink that derives its predominant flavour from juniper berries (Juniperus communis). Gin is one of the broadest categories of spirits, all of various origins, styles, and flavour profiles, that revolve around juniper as a common ingredient.\\r\\n\\r\\nFrom its earliest origins in the Middle Ages, the drink has evolved from a herbal medicine to an object of commerce in the spirits industry. Gin emerged in England after the introduction of the jenever, a Dutch liquor which originally had been a medicine. Although this development had been taking place since early 17th century, gin became widespread after the William of Orange-led 1688 Glorious Revolution and subsequent import restrictions on French brandy.\\r\\n\\r\\nGin today is produced in subtly different ways, from a wide range of herbal ingredients, giving rise to a number of distinct styles and brands. After juniper, gin tends to be flavoured with botanical/herbal, spice, floral or fruit-flavours or often a combination. It is most commonly consumed mixed with tonic water. Gin is also often used as a base spirit to produce flavoured gin-based liqueurs such as, for example, Sloe gin, traditionally by the addition of fruit, flavourings and sugar.'},\n",
       " {'ingredient': 'vodka',\n",
       "  'description': 'Vodka is a distilled beverage composed primarily of water and ethanol, sometimes with traces of impurities and flavorings. Traditionally, vodka is made by the distillation of fermented cereal grains or potatoes, though some modern brands use other substances, such as fruits or sugar.\\r\\n\\r\\nSince the 1890s, the standard Polish, Russian, Belarusian, Ukrainian, Estonian, Latvian, Lithuanian and Czech vodkas are 40% alcohol by volume ABV (80 US proof), a percentage that is widely misattributed to Dmitri Mendeleev. The European Union has established a minimum of 37.5% ABV for any \"European vodka\" to be named as such. Products sold as \"vodka\" in the United States must have a minimum alcohol content of 40%. Even with these loose restrictions, most vodka sold contains 40% ABV. For homemade vodkas and distilled beverages referred to as \"moonshine\", see moonshine by country.\\r\\n\\r\\nVodka is traditionally drunk neat (not mixed with any water, ice, or other mixer), though it is often served chilled in the vodka belt countries (Belarus, Estonia, Finland, Iceland, Latvia, Lithuania, Norway, Poland, Russia, Sweden, Ukraine). It is also commonly used in cocktails and mixed drinks, such as the vodka martini, Cosmopolitan, vodka tonic, Screwdriver, Greyhound, Black or White Russian, Moscow Mule, and Bloody Mary.\\r\\n\\r\\nScholars debate the beginnings of vodka. It is a contentious issue because very little historical material is available. For many centuries, beverages differed significantly compared to the vodka of today, as the spirit at that time had a different flavor, color and smell, and was originally used as medicine. It contained little alcohol, an estimated maximum of about 14%, as only this amount can be attained by natural fermentation. The still, allowing for distillation (\"burning of wine\"), increased purity, and increased alcohol content, was invented in the 8th century.\\r\\n\\r\\nA common property of the vodkas produced in the United States and Europe is the extensive use of filtration prior to any additional processing including the addition of flavorants. Filtering is sometimes done in the still during distillation, as well as afterwards, where the distilled vodka is filtered through activated charcoal and other media to absorb trace amounts of substances that alter or impart off-flavors to the vodka. However, this is not the case in the traditional vodka-producing nations, so many distillers from these countries prefer to use very accurate distillation but minimal filtering, thus preserving the unique flavors and characteristics of their products.\\r\\n\\r\\nThe master distiller is in charge of distilling the vodka and directing its filtration, which includes the removal of the \"fore-shots\", \"heads\" and \"tails\". These components of the distillate contain flavor compounds such as ethyl acetate and ethyl lactate (heads) as well as the fusel oils (tails) that impact the usually desired clean taste of vodka. Through numerous rounds of distillation, or the use of a fractioning still, the taste is modified and clarity is increased. In contrast, distillery process for liquors such as whiskey, rum, and baijiu allow portions of the \"heads\" and \"tails\" to remain, giving them their unique flavors.\\r\\n\\r\\nRepeated distillation of vodka will make its ethanol level much higher than is acceptable to most end users, whether legislation determines strength limits or not. Depending on the distillation method and the technique of the stillmaster, the final filtered and distilled vodka may have as much as 95–96% ethanol. As such, most vodka is diluted with water prior to bottling.\\r\\n\\r\\nPolish distilleries make a very pure (96%, 192 proof, formerly also 98%) rectified spirit (Polish language: spirytus rektyfikowany). Technically a form of vodka, it is sold in liquor stores rather than pharmacies. Similarly, the German market often carries German, Hungarian, Polish, and Ukrainian-made varieties of vodka of 90 to 95% ABV. A Bulgarian vodka, Balkan 176°, has an 88% alcohol content. Everclear, an American brand, is also sold at 95% ABV.'},\n",
       " {'ingredient': 'rum',\n",
       "  'description': 'Rum is a distilled alcoholic beverage made from sugarcane byproducts, such as molasses, or directly from sugarcane juice, by a process of fermentation and distillation. The distillate, a clear liquid, is then usually aged in oak barrels.\\r\\n\\r\\nThe majority of the world\\'s rum production occurs in the Caribbean and Latin America. Rum is also produced in Scotland, Austria, Spain, Australia, New Zealand, Fiji, the Philippines, India, Reunion Island, Mauritius, South Africa, Taiwan, Thailand, Japan, the United States, and Canada.\\r\\n\\r\\nRums are produced in various grades. Light rums are commonly used in cocktails, whereas \"golden\" and \"dark\" rums were typically consumed straight or neat, on the rocks, or used for cooking, but are now commonly consumed with mixers. Premium rums are also available, made to be consumed either straight or iced.\\r\\n\\r\\nRum plays a part in the culture of most islands of the West Indies as well as in The Maritimes and Newfoundland. This beverage has famous associations with the Royal Navy (where it was mixed with water or beer to make grog) and piracy (where it was consumed as bumbo). Rum has also served as a popular medium of economic exchange, used to help fund enterprises such as slavery (see Triangular trade), organized crime, and military insurgencies (e.g., the American Revolution and Australia\\'s Rum Rebellion).\\r\\n\\r\\nThe precursors to rum date back to antiquity. Development of fermented drinks produced from sugarcane juice is believed to have first occurred either in ancient India or in China, and to have spread from there. An example of such an early drink is brum. Produced by the Malay people, brum dates back thousands of years. Marco Polo also recorded a 14th-century account of a \"very good wine of sugar\" that was offered to him in the area that became modern-day Iran.\\r\\n\\r\\nThe first distillation of rum took place on the sugarcane plantations of the Caribbean in the 17th century. Plantation slaves first discovered molasses, a byproduct of the sugar refining process, could be fermented into alcohol. Later, distillation of these alcoholic byproducts concentrated the alcohol and removed impurities, producing the first true rums. Tradition suggests rum first originated on the island of Barbados. However, in the decade of the 1620s, rum production was recorded in Brazil. A liquid identified as rum has been found in a tin bottle found on the Swedish warship Vasa, which sank in 1628.\\r\\n\\r\\nA 1651 document from Barbados stated, \"The chief fuddling they make in the island is Rumbullion, alias Kill-Divil, and thi is made of sugar canes distilled, a hot, hellish, and terrible liquor.\"'}]"
      ]
     },
     "execution_count": 7,
     "metadata": {},
     "output_type": "execute_result"
    }
   ],
   "source": [
    "description_list"
   ]
  },
  {
   "cell_type": "markdown",
   "metadata": {},
   "source": [
    "Finally, we can plunk this into a pandas dataframe to make things a bit nicer:"
   ]
  },
  {
   "cell_type": "code",
   "execution_count": 8,
   "metadata": {},
   "outputs": [
    {
     "data": {
      "text/html": [
       "<div>\n",
       "<style scoped>\n",
       "    .dataframe tbody tr th:only-of-type {\n",
       "        vertical-align: middle;\n",
       "    }\n",
       "\n",
       "    .dataframe tbody tr th {\n",
       "        vertical-align: top;\n",
       "    }\n",
       "\n",
       "    .dataframe thead th {\n",
       "        text-align: right;\n",
       "    }\n",
       "</style>\n",
       "<table border=\"1\" class=\"dataframe\">\n",
       "  <thead>\n",
       "    <tr style=\"text-align: right;\">\n",
       "      <th></th>\n",
       "      <th>ingredient</th>\n",
       "      <th>description</th>\n",
       "    </tr>\n",
       "  </thead>\n",
       "  <tbody>\n",
       "    <tr>\n",
       "      <th>0</th>\n",
       "      <td>gin</td>\n",
       "      <td>Gin is a distilled alcoholic drink that derive...</td>\n",
       "    </tr>\n",
       "    <tr>\n",
       "      <th>1</th>\n",
       "      <td>vodka</td>\n",
       "      <td>Vodka is a distilled beverage composed primari...</td>\n",
       "    </tr>\n",
       "    <tr>\n",
       "      <th>2</th>\n",
       "      <td>rum</td>\n",
       "      <td>Rum is a distilled alcoholic beverage made fro...</td>\n",
       "    </tr>\n",
       "  </tbody>\n",
       "</table>\n",
       "</div>"
      ],
      "text/plain": [
       "  ingredient                                        description\n",
       "0        gin  Gin is a distilled alcoholic drink that derive...\n",
       "1      vodka  Vodka is a distilled beverage composed primari...\n",
       "2        rum  Rum is a distilled alcoholic beverage made fro..."
      ]
     },
     "execution_count": 8,
     "metadata": {},
     "output_type": "execute_result"
    }
   ],
   "source": [
    "# Check ouput\n",
    "import pandas as pd\n",
    "\n",
    "# Create a pandas dataframe from the list of key-value pairs\n",
    "# Keys are the column name, values are the values for each row\n",
    "desc_df = pd.DataFrame(description_list)\n",
    "\n",
    "# Check\n",
    "desc_df.head()"
   ]
  },
  {
   "cell_type": "markdown",
   "metadata": {},
   "source": [
    "## Scraping Web Pages with BeautifulSoup\n",
    "\n",
    "Unfortunately, the data we need is not always available for download or from a web service. In some cases we may have to [web scrape](https://en.wikipedia.org/wiki/Web_scraping) data if it is \"locked up\" in pages that are meant to be viewed in the browser.\n",
    "\n",
    "It should be noted that web scraping is a bit of a gray area legally, but as with free and open APIs, be respectful of whomever is hosting the content and associated resources (*i.e.* do not make excessive requests, or scrape entire sites without permission).\n",
    "\n",
    "Because the data is locked up in the code of the web page (a \"beautiful soup\" of HTML, Javascript, CSS, and other languages) we may also have to apply some elbow grease and do some work to pull out the elements in the page code that we want. Fortunately, [BeautifulSoup](https://www.crummy.com/software/BeautifulSoup/bs4/doc/) makes this easy, and we'll see you can almost treat the page code like a searchable database.\n",
    "\n",
    "Here we will scrape some text from the excellent online resource [Interpretable Machine Learning](https://christophm.github.io/interpretable-ml-book/ ), in particular [this page](https://christophm.github.io/interpretable-ml-book/what-is-machine-learning.html). Given its simple page structure, this should be relatively straightforward to do. `requests` has already been imported above, and we will now import the `BeautifulSoup` class for use shortly (the library name in python for BeautifulSoup is `bs4`, as it is version 4):"
   ]
  },
  {
   "cell_type": "code",
   "execution_count": 9,
   "metadata": {},
   "outputs": [],
   "source": [
    "from bs4 import BeautifulSoup\n",
    "\n",
    "# Page to scrape\n",
    "url = 'https://christophm.github.io/interpretable-ml-book/what-is-machine-learning.html'"
   ]
  },
  {
   "cell_type": "markdown",
   "metadata": {},
   "source": [
    "Next, we make a request for the page using `requests`, just like we did for an API. The difference here is we are hitting a web server, which will return a web page, normally requested by and rendered in a browser:"
   ]
  },
  {
   "cell_type": "code",
   "execution_count": 10,
   "metadata": {},
   "outputs": [],
   "source": [
    "# Make the request\n",
    "r = requests.get(url)"
   ]
  },
  {
   "cell_type": "markdown",
   "metadata": {},
   "source": [
    "Let's take a look at the first 2000 characters of the result as a string:"
   ]
  },
  {
   "cell_type": "code",
   "execution_count": 11,
   "metadata": {},
   "outputs": [
    {
     "data": {
      "text/plain": [
       "'<!DOCTYPE html>\\n<html lang=\"\" xml:lang=\"\">\\n<head>\\n\\n  <meta charset=\"utf-8\" />\\n  <meta http-equiv=\"X-UA-Compatible\" content=\"IE=edge\" />\\n  <title>2.2 What Is Machine Learning? | Interpretable Machine Learning</title>\\n  <meta name=\"description\" content=\"Machine learning algorithms usually operate as black boxes and it is unclear how they derived a certain decision. This book is a guide for practitioners to make machine learning decisions interpretable.\" />\\n  <meta name=\"generator\" content=\"bookdown 0.32 and GitBook 2.6.7\" />\\n\\n  <meta property=\"og:title\" content=\"2.2 What Is Machine Learning? | Interpretable Machine Learning\" />\\n  <meta property=\"og:type\" content=\"book\" />\\n  \\n  <meta property=\"og:description\" content=\"Machine learning algorithms usually operate as black boxes and it is unclear how they derived a certain decision. This book is a guide for practitioners to make machine learning decisions interpretable.\" />\\n  \\n\\n  <meta name=\"twitter:card\" content=\"summary\" />\\n  <meta name=\"twitter:title\" content=\"2.2 What Is Machine Learning? | Interpretable Machine Learning\" />\\n  \\n  <meta name=\"twitter:description\" content=\"Machine learning algorithms usually operate as black boxes and it is unclear how they derived a certain decision. This book is a guide for practitioners to make machine learning decisions interpretable.\" />\\n  \\n\\n<meta name=\"author\" content=\"Christoph Molnar\" />\\n\\n\\n<meta name=\"date\" content=\"2023-03-02\" />\\n\\n  <meta name=\"viewport\" content=\"width=device-width, initial-scale=1\" />\\n  <meta name=\"apple-mobile-web-app-capable\" content=\"yes\" />\\n  <meta name=\"apple-mobile-web-app-status-bar-style\" content=\"black\" />\\n  \\n  \\n<link rel=\"prev\" href=\"storytime.html\"/>\\n<link rel=\"next\" href=\"terminology.html\"/>\\n<script src=\"libs/jquery-3.6.0/jquery-3.6.0.min.js\"></script>\\n<script src=\"https://cdn.jsdelivr.net/npm/fuse.js@6.4.6/dist/fuse.min.js\"></script>\\n<link href=\"libs/gitbook-2.6.7/css/style.css\" rel=\"stylesheet\" />\\n<link href=\"libs/gitbook-2.6.7/css/plugin-table.c'"
      ]
     },
     "execution_count": 11,
     "metadata": {},
     "output_type": "execute_result"
    }
   ],
   "source": [
    "r.text[0:2000]"
   ]
  },
  {
   "cell_type": "markdown",
   "metadata": {},
   "source": [
    "Yep, that's the page code alright, but it's a bit difficult to read. Let's pass this into the BeautifulSoup class and create a BeautifulSoup object:"
   ]
  },
  {
   "cell_type": "code",
   "execution_count": 12,
   "metadata": {
    "scrolled": true
   },
   "outputs": [
    {
     "data": {
      "text/plain": [
       "<!DOCTYPE html>\n",
       "<html lang=\"\" xml:lang=\"\">\n",
       "<head>\n",
       "<meta charset=\"utf-8\"/>\n",
       "<meta content=\"IE=edge\" http-equiv=\"X-UA-Compatible\"/>\n",
       "<title>2.2 What Is Machine Learning? | Interpretable Machine Learning</title>\n",
       "<meta content=\"Machine learning algorithms usually operate as black boxes and it is unclear how they derived a certain decision. This book is a guide for practitioners to make machine learning decisions interpretable.\" name=\"description\"/>\n",
       "<meta content=\"bookdown 0.32 and GitBook 2.6.7\" name=\"generator\"/>\n",
       "<meta content=\"2.2 What Is Machine Learning? | Interpretable Machine Learning\" property=\"og:title\"/>\n",
       "<meta content=\"book\" property=\"og:type\"/>\n",
       "<meta content=\"Machine learning algorithms usually operate as black boxes and it is unclear how they derived a certain decision. This book is a guide for practitioners to make machine learning decisions interpretable.\" property=\"og:description\"/>\n",
       "<meta content=\"summary\" name=\"twitter:card\"/>\n",
       "<meta content=\"2.2 What Is Machine Learning? | Interpretable Machine Learning\" name=\"twitter:title\"/>\n",
       "<meta content=\"Machine learning algorithms usually operate as black boxes and it is unclear how they derived a certain decision. This book is a guide for practitioners to make machine learning decisions interpretable.\" name=\"twitter:description\"/>\n",
       "<meta content=\"Christoph Molnar\" name=\"author\"/>\n",
       "<meta content=\"2023-03-02\" name=\"date\"/>\n",
       "<meta content=\"width=device-width, initial-scale=1\" name=\"viewport\"/>\n",
       "<meta content=\"yes\" name=\"apple-mobile-web-app-capable\"/>\n",
       "<meta content=\"black\" name=\"apple-mobile-web-app-status-bar-style\"/>\n",
       "<link href=\"storytime.html\" rel=\"prev\"/>\n",
       "<link href=\"terminology.html\" rel=\"next\"/>\n",
       "<script src=\"libs/jquery-3.6.0/jquery-3.6.0.min.js\"></script>\n",
       "<script src=\"https://cdn.jsdelivr.net/npm/fuse.js@6.4.6/dist/fuse.min.js\"></script>\n",
       "<link href=\"libs/gitbook-2.6.7/css/style.css\" rel=\"stylesheet\"/>\n",
       "<link href=\"libs/gitbook-2.6.7/css/plugin-table.css\" rel=\"stylesheet\"/>\n",
       "<link href=\"libs/gitbook-2.6.7/css/plugin-bookdown.css\" rel=\"stylesheet\"/>\n",
       "<link href=\"libs/gitbook-2.6.7/css/plugin-highlight.css\" rel=\"stylesheet\"/>\n",
       "<link href=\"libs/gitbook-2.6.7/css/plugin-search.css\" rel=\"stylesheet\"/>\n",
       "<link href=\"libs/gitbook-2.6.7/css/plugin-fontsettings.css\" rel=\"stylesheet\"/>\n",
       "<link href=\"libs/gitbook-2.6.7/css/plugin-clipboard.css\" rel=\"stylesheet\"/>\n",
       "<link href=\"libs/anchor-sections-1.1.0/anchor-sections.css\" rel=\"stylesheet\"/>\n",
       "<link href=\"libs/anchor-sections-1.1.0/anchor-sections-hash.css\" rel=\"stylesheet\"/>\n",
       "<script src=\"libs/anchor-sections-1.1.0/anchor-sections.js\"></script>\n",
       "<script src=\"libs/kePrint-0.0.1/kePrint.js\"></script>\n",
       "<link href=\"libs/lightable-0.0.1/lightable.css\" rel=\"stylesheet\"/>\n",
       "<!-- Global site tag (gtag.js) - Google Analytics -->\n",
       "<script>\n",
       "(function(i,s,o,g,r,a,m){i['GoogleAnalyticsObject']=r;i[r]=i[r]||function(){\n",
       "(i[r].q=i[r].q||[]).push(arguments)},i[r].l=1*new Date();a=s.createElement(o),\n",
       "m=s.getElementsByTagName(o)[0];a.async=1;a.src=g;m.parentNode.insertBefore(a,m)\n",
       "})(window,document,'script','//www.google-analytics.com/analytics.js','ga');\n",
       "\n",
       "ga('create', 'UA-110543840-1', 'https://christophm.github.io/interpretable-ml-book/', {\n",
       "  'anonymizeIp': true\n",
       "  , 'storage': 'none'\n",
       "  , 'clientId': window.localStorage.getItem('ga_clientId')\n",
       "});\n",
       "ga(function(tracker) {\n",
       "  window.localStorage.setItem('ga_clientId', tracker.get('clientId'));\n",
       "});\n",
       "ga('send', 'pageview');\n",
       "</script>\n",
       "<link href=\"css/cookieconsent.min.css\" rel=\"stylesheet\" type=\"text/css\"/>\n",
       "<script src=\"javascript/cookieconsent.min.js\"></script>\n",
       "<script>\n",
       "window.addEventListener(\"load\", function(){\n",
       "window.cookieconsent.initialise({\n",
       "  \"palette\": {\n",
       "    \"popup\": {\n",
       "      \"background\": \"#000\"\n",
       "    },\n",
       "    \"button\": {\n",
       "      \"background\": \"#f1d600\"\n",
       "    }\n",
       "  },\n",
       "  \"position\": \"bottom-right\",\n",
       "  \"content\": {\n",
       "    \"message\": \"This website uses cookies for Google Analytics so that I know how many people are reading the book and which chapters are the most popular. The book website doesn't collect any personal data.\"\n",
       "  }\n",
       "})});\n",
       "</script>\n",
       "<style>\n",
       "\n",
       "#cta-button-desktop:hover, #cta-button-device:hover {\n",
       "  background-color:   #ffc266; \n",
       "  border-color:   #ffc266; \n",
       "  box-shadow: none;\n",
       "}\n",
       "#cta-button-desktop, #cta-button-device{\n",
       "  color: white;\n",
       "  background-color:  #ffa31a;\n",
       "  text-shadow:1px 1px 0 #444;\n",
       "  text-decoration: none;\n",
       "  border: 2px solid  #ffa31a;\n",
       "  border-radius: 10px;\n",
       "  position: fixed;\n",
       "  padding: 5px 10px;\n",
       "  z-index: 10;\n",
       "  }\n",
       "\n",
       "#cta-button-device {\n",
       "  box-shadow: 0px 10px 10px -5px rgba(194,180,190,1);\n",
       "  display:none;\n",
       "  right: 20px;\n",
       "  bottom: 20px;\n",
       "  font-size: 20px;\n",
       " }\n",
       "\n",
       "#cta-button-desktop {\n",
       "  box-shadow: 0px 20px 20px -10px rgba(194,180,190,1);\n",
       "  display:display;\n",
       "  padding: 8px 16px;\n",
       "  right: 40px;\n",
       "  bottom: 40px;\n",
       "  font-size: 25px;\n",
       "}\n",
       "\n",
       "@media (max-width : 450px) {\n",
       "  #cta-button-device {display:block;}\n",
       "  #cta-button-desktop {display:none;}\n",
       "}\n",
       "\n",
       "\n",
       "</style>\n",
       "<link href=\"css/style.css\" rel=\"stylesheet\" type=\"text/css\"/>\n",
       "</head>\n",
       "<body>\n",
       "<div class=\"book without-animation with-summary font-size-2 font-family-1\" data-basepath=\".\">\n",
       "<div class=\"book-summary\">\n",
       "<nav role=\"navigation\">\n",
       "<ul class=\"summary\">\n",
       "<li><a href=\"./\">Interpretable machine learning</a></li>\n",
       "<li class=\"divider\"></li>\n",
       "<li class=\"chapter\" data-level=\"\" data-path=\"index.html\"><a href=\"index.html\"><i class=\"fa fa-check\"></i>Summary</a></li>\n",
       "<li class=\"chapter\" data-level=\"1\" data-path=\"preface-by-the-author.html\"><a href=\"preface-by-the-author.html\"><i class=\"fa fa-check\"></i><b>1</b> Preface by the Author</a></li>\n",
       "<li class=\"chapter\" data-level=\"2\" data-path=\"intro.html\"><a href=\"intro.html\"><i class=\"fa fa-check\"></i><b>2</b> Introduction</a>\n",
       "<ul>\n",
       "<li class=\"chapter\" data-level=\"2.1\" data-path=\"storytime.html\"><a href=\"storytime.html\"><i class=\"fa fa-check\"></i><b>2.1</b> Story Time</a>\n",
       "<ul>\n",
       "<li class=\"chapter\" data-level=\"\" data-path=\"storytime.html\"><a href=\"storytime.html#lightning-never-strikes-twice\"><i class=\"fa fa-check\"></i>Lightning Never Strikes Twice</a></li>\n",
       "<li class=\"chapter\" data-level=\"\" data-path=\"storytime.html\"><a href=\"storytime.html#trust-fall\"><i class=\"fa fa-check\"></i>Trust Fall</a></li>\n",
       "<li class=\"chapter\" data-level=\"\" data-path=\"storytime.html\"><a href=\"storytime.html#fermis-paperclips\"><i class=\"fa fa-check\"></i>Fermi’s Paperclips</a></li>\n",
       "</ul></li>\n",
       "<li class=\"chapter\" data-level=\"2.2\" data-path=\"what-is-machine-learning.html\"><a href=\"what-is-machine-learning.html\"><i class=\"fa fa-check\"></i><b>2.2</b> What Is Machine Learning?</a></li>\n",
       "<li class=\"chapter\" data-level=\"2.3\" data-path=\"terminology.html\"><a href=\"terminology.html\"><i class=\"fa fa-check\"></i><b>2.3</b> Terminology</a></li>\n",
       "</ul></li>\n",
       "<li class=\"chapter\" data-level=\"3\" data-path=\"interpretability.html\"><a href=\"interpretability.html\"><i class=\"fa fa-check\"></i><b>3</b> Interpretability</a>\n",
       "<ul>\n",
       "<li class=\"chapter\" data-level=\"3.1\" data-path=\"interpretability-importance.html\"><a href=\"interpretability-importance.html\"><i class=\"fa fa-check\"></i><b>3.1</b> Importance of Interpretability</a></li>\n",
       "<li class=\"chapter\" data-level=\"3.2\" data-path=\"taxonomy-of-interpretability-methods.html\"><a href=\"taxonomy-of-interpretability-methods.html\"><i class=\"fa fa-check\"></i><b>3.2</b> Taxonomy of Interpretability Methods</a></li>\n",
       "<li class=\"chapter\" data-level=\"3.3\" data-path=\"scope-of-interpretability.html\"><a href=\"scope-of-interpretability.html\"><i class=\"fa fa-check\"></i><b>3.3</b> Scope of Interpretability</a>\n",
       "<ul>\n",
       "<li class=\"chapter\" data-level=\"3.3.1\" data-path=\"scope-of-interpretability.html\"><a href=\"scope-of-interpretability.html#algorithm-transparency\"><i class=\"fa fa-check\"></i><b>3.3.1</b> Algorithm Transparency</a></li>\n",
       "<li class=\"chapter\" data-level=\"3.3.2\" data-path=\"scope-of-interpretability.html\"><a href=\"scope-of-interpretability.html#global-holistic-model-interpretability\"><i class=\"fa fa-check\"></i><b>3.3.2</b> Global, Holistic Model Interpretability</a></li>\n",
       "<li class=\"chapter\" data-level=\"3.3.3\" data-path=\"scope-of-interpretability.html\"><a href=\"scope-of-interpretability.html#global-model-interpretability-on-a-modular-level\"><i class=\"fa fa-check\"></i><b>3.3.3</b> Global Model Interpretability on a Modular Level</a></li>\n",
       "<li class=\"chapter\" data-level=\"3.3.4\" data-path=\"scope-of-interpretability.html\"><a href=\"scope-of-interpretability.html#local-interpretability-for-a-single-prediction\"><i class=\"fa fa-check\"></i><b>3.3.4</b> Local Interpretability for a Single Prediction</a></li>\n",
       "<li class=\"chapter\" data-level=\"3.3.5\" data-path=\"scope-of-interpretability.html\"><a href=\"scope-of-interpretability.html#local-interpretability-for-a-group-of-predictions\"><i class=\"fa fa-check\"></i><b>3.3.5</b> Local Interpretability for a Group of Predictions</a></li>\n",
       "</ul></li>\n",
       "<li class=\"chapter\" data-level=\"3.4\" data-path=\"evaluation-of-interpretability.html\"><a href=\"evaluation-of-interpretability.html\"><i class=\"fa fa-check\"></i><b>3.4</b> Evaluation of Interpretability</a></li>\n",
       "<li class=\"chapter\" data-level=\"3.5\" data-path=\"properties.html\"><a href=\"properties.html\"><i class=\"fa fa-check\"></i><b>3.5</b> Properties of Explanations</a></li>\n",
       "<li class=\"chapter\" data-level=\"3.6\" data-path=\"explanation.html\"><a href=\"explanation.html\"><i class=\"fa fa-check\"></i><b>3.6</b> Human-friendly Explanations</a>\n",
       "<ul>\n",
       "<li class=\"chapter\" data-level=\"3.6.1\" data-path=\"explanation.html\"><a href=\"explanation.html#what-is-an-explanation\"><i class=\"fa fa-check\"></i><b>3.6.1</b> What Is an Explanation?</a></li>\n",
       "<li class=\"chapter\" data-level=\"3.6.2\" data-path=\"explanation.html\"><a href=\"explanation.html#good-explanation\"><i class=\"fa fa-check\"></i><b>3.6.2</b> What Is a Good Explanation?</a></li>\n",
       "</ul></li>\n",
       "</ul></li>\n",
       "<li class=\"chapter\" data-level=\"4\" data-path=\"data.html\"><a href=\"data.html\"><i class=\"fa fa-check\"></i><b>4</b> Datasets</a>\n",
       "<ul>\n",
       "<li class=\"chapter\" data-level=\"4.1\" data-path=\"bike-data.html\"><a href=\"bike-data.html\"><i class=\"fa fa-check\"></i><b>4.1</b> Bike Rentals (Regression)</a></li>\n",
       "<li class=\"chapter\" data-level=\"4.2\" data-path=\"spam-data.html\"><a href=\"spam-data.html\"><i class=\"fa fa-check\"></i><b>4.2</b> YouTube Spam Comments (Text Classification)</a></li>\n",
       "<li class=\"chapter\" data-level=\"4.3\" data-path=\"cervical.html\"><a href=\"cervical.html\"><i class=\"fa fa-check\"></i><b>4.3</b> Risk Factors for Cervical Cancer (Classification)</a></li>\n",
       "</ul></li>\n",
       "<li class=\"chapter\" data-level=\"5\" data-path=\"simple.html\"><a href=\"simple.html\"><i class=\"fa fa-check\"></i><b>5</b> Interpretable Models</a>\n",
       "<ul>\n",
       "<li class=\"chapter\" data-level=\"5.1\" data-path=\"limo.html\"><a href=\"limo.html\"><i class=\"fa fa-check\"></i><b>5.1</b> Linear Regression</a>\n",
       "<ul>\n",
       "<li class=\"chapter\" data-level=\"5.1.1\" data-path=\"limo.html\"><a href=\"limo.html#interpretation\"><i class=\"fa fa-check\"></i><b>5.1.1</b> Interpretation</a></li>\n",
       "<li class=\"chapter\" data-level=\"5.1.2\" data-path=\"limo.html\"><a href=\"limo.html#example\"><i class=\"fa fa-check\"></i><b>5.1.2</b> Example</a></li>\n",
       "<li class=\"chapter\" data-level=\"5.1.3\" data-path=\"limo.html\"><a href=\"limo.html#visual-interpretation\"><i class=\"fa fa-check\"></i><b>5.1.3</b> Visual Interpretation</a></li>\n",
       "<li class=\"chapter\" data-level=\"5.1.4\" data-path=\"limo.html\"><a href=\"limo.html#explain-individual-predictions\"><i class=\"fa fa-check\"></i><b>5.1.4</b> Explain Individual Predictions</a></li>\n",
       "<li class=\"chapter\" data-level=\"5.1.5\" data-path=\"limo.html\"><a href=\"limo.html#cat-code\"><i class=\"fa fa-check\"></i><b>5.1.5</b> Encoding of Categorical Features</a></li>\n",
       "<li class=\"chapter\" data-level=\"5.1.6\" data-path=\"limo.html\"><a href=\"limo.html#do-linear-models-create-good-explanations\"><i class=\"fa fa-check\"></i><b>5.1.6</b> Do Linear Models Create Good Explanations?</a></li>\n",
       "<li class=\"chapter\" data-level=\"5.1.7\" data-path=\"limo.html\"><a href=\"limo.html#sparse-linear\"><i class=\"fa fa-check\"></i><b>5.1.7</b> Sparse Linear Models</a></li>\n",
       "<li class=\"chapter\" data-level=\"5.1.8\" data-path=\"limo.html\"><a href=\"limo.html#advantages\"><i class=\"fa fa-check\"></i><b>5.1.8</b> Advantages</a></li>\n",
       "<li class=\"chapter\" data-level=\"5.1.9\" data-path=\"limo.html\"><a href=\"limo.html#disadvantages\"><i class=\"fa fa-check\"></i><b>5.1.9</b> Disadvantages</a></li>\n",
       "</ul></li>\n",
       "<li class=\"chapter\" data-level=\"5.2\" data-path=\"logistic.html\"><a href=\"logistic.html\"><i class=\"fa fa-check\"></i><b>5.2</b> Logistic Regression</a>\n",
       "<ul>\n",
       "<li class=\"chapter\" data-level=\"5.2.1\" data-path=\"logistic.html\"><a href=\"logistic.html#what-is-wrong-with-linear-regression-for-classification\"><i class=\"fa fa-check\"></i><b>5.2.1</b> What is Wrong with Linear Regression for Classification?</a></li>\n",
       "<li class=\"chapter\" data-level=\"5.2.2\" data-path=\"logistic.html\"><a href=\"logistic.html#theory\"><i class=\"fa fa-check\"></i><b>5.2.2</b> Theory</a></li>\n",
       "<li class=\"chapter\" data-level=\"5.2.3\" data-path=\"logistic.html\"><a href=\"logistic.html#interpretation-1\"><i class=\"fa fa-check\"></i><b>5.2.3</b> Interpretation</a></li>\n",
       "<li class=\"chapter\" data-level=\"5.2.4\" data-path=\"logistic.html\"><a href=\"logistic.html#example-1\"><i class=\"fa fa-check\"></i><b>5.2.4</b> Example</a></li>\n",
       "<li class=\"chapter\" data-level=\"5.2.5\" data-path=\"logistic.html\"><a href=\"logistic.html#advantages-and-disadvantages\"><i class=\"fa fa-check\"></i><b>5.2.5</b> Advantages and Disadvantages</a></li>\n",
       "<li class=\"chapter\" data-level=\"5.2.6\" data-path=\"logistic.html\"><a href=\"logistic.html#software\"><i class=\"fa fa-check\"></i><b>5.2.6</b> Software</a></li>\n",
       "</ul></li>\n",
       "<li class=\"chapter\" data-level=\"5.3\" data-path=\"extend-lm.html\"><a href=\"extend-lm.html\"><i class=\"fa fa-check\"></i><b>5.3</b> GLM, GAM and more</a>\n",
       "<ul>\n",
       "<li class=\"chapter\" data-level=\"5.3.1\" data-path=\"extend-lm.html\"><a href=\"extend-lm.html#glm\"><i class=\"fa fa-check\"></i><b>5.3.1</b> Non-Gaussian Outcomes - GLMs</a></li>\n",
       "<li class=\"chapter\" data-level=\"5.3.2\" data-path=\"extend-lm.html\"><a href=\"extend-lm.html#lm-interact\"><i class=\"fa fa-check\"></i><b>5.3.2</b> Interactions</a></li>\n",
       "<li class=\"chapter\" data-level=\"5.3.3\" data-path=\"extend-lm.html\"><a href=\"extend-lm.html#gam\"><i class=\"fa fa-check\"></i><b>5.3.3</b> Nonlinear Effects - GAMs</a></li>\n",
       "<li class=\"chapter\" data-level=\"5.3.4\" data-path=\"extend-lm.html\"><a href=\"extend-lm.html#advantages-1\"><i class=\"fa fa-check\"></i><b>5.3.4</b> Advantages</a></li>\n",
       "<li class=\"chapter\" data-level=\"5.3.5\" data-path=\"extend-lm.html\"><a href=\"extend-lm.html#disadvantages-1\"><i class=\"fa fa-check\"></i><b>5.3.5</b> Disadvantages</a></li>\n",
       "<li class=\"chapter\" data-level=\"5.3.6\" data-path=\"extend-lm.html\"><a href=\"extend-lm.html#software-1\"><i class=\"fa fa-check\"></i><b>5.3.6</b> Software</a></li>\n",
       "<li class=\"chapter\" data-level=\"5.3.7\" data-path=\"extend-lm.html\"><a href=\"extend-lm.html#more-lm-extension\"><i class=\"fa fa-check\"></i><b>5.3.7</b> Further Extensions</a></li>\n",
       "</ul></li>\n",
       "<li class=\"chapter\" data-level=\"5.4\" data-path=\"tree.html\"><a href=\"tree.html\"><i class=\"fa fa-check\"></i><b>5.4</b> Decision Tree</a>\n",
       "<ul>\n",
       "<li class=\"chapter\" data-level=\"5.4.1\" data-path=\"tree.html\"><a href=\"tree.html#interpretation-2\"><i class=\"fa fa-check\"></i><b>5.4.1</b> Interpretation</a></li>\n",
       "<li class=\"chapter\" data-level=\"5.4.2\" data-path=\"tree.html\"><a href=\"tree.html#example-2\"><i class=\"fa fa-check\"></i><b>5.4.2</b> Example</a></li>\n",
       "<li class=\"chapter\" data-level=\"5.4.3\" data-path=\"tree.html\"><a href=\"tree.html#advantages-2\"><i class=\"fa fa-check\"></i><b>5.4.3</b> Advantages</a></li>\n",
       "<li class=\"chapter\" data-level=\"5.4.4\" data-path=\"tree.html\"><a href=\"tree.html#disadvantages-2\"><i class=\"fa fa-check\"></i><b>5.4.4</b> Disadvantages</a></li>\n",
       "<li class=\"chapter\" data-level=\"5.4.5\" data-path=\"tree.html\"><a href=\"tree.html#software-2\"><i class=\"fa fa-check\"></i><b>5.4.5</b> Software</a></li>\n",
       "</ul></li>\n",
       "<li class=\"chapter\" data-level=\"5.5\" data-path=\"rules.html\"><a href=\"rules.html\"><i class=\"fa fa-check\"></i><b>5.5</b> Decision Rules</a>\n",
       "<ul>\n",
       "<li class=\"chapter\" data-level=\"5.5.1\" data-path=\"rules.html\"><a href=\"rules.html#learn-rules-from-a-single-feature-oner\"><i class=\"fa fa-check\"></i><b>5.5.1</b> Learn Rules from a Single Feature (OneR)</a></li>\n",
       "<li class=\"chapter\" data-level=\"5.5.2\" data-path=\"rules.html\"><a href=\"rules.html#sequential-covering\"><i class=\"fa fa-check\"></i><b>5.5.2</b> Sequential Covering</a></li>\n",
       "<li class=\"chapter\" data-level=\"5.5.3\" data-path=\"rules.html\"><a href=\"rules.html#bayesian-rule-lists\"><i class=\"fa fa-check\"></i><b>5.5.3</b> Bayesian Rule Lists</a></li>\n",
       "<li class=\"chapter\" data-level=\"5.5.4\" data-path=\"rules.html\"><a href=\"rules.html#advantages-3\"><i class=\"fa fa-check\"></i><b>5.5.4</b> Advantages</a></li>\n",
       "<li class=\"chapter\" data-level=\"5.5.5\" data-path=\"rules.html\"><a href=\"rules.html#disadvantages-3\"><i class=\"fa fa-check\"></i><b>5.5.5</b> Disadvantages</a></li>\n",
       "<li class=\"chapter\" data-level=\"5.5.6\" data-path=\"rules.html\"><a href=\"rules.html#software-and-alternatives\"><i class=\"fa fa-check\"></i><b>5.5.6</b> Software and Alternatives</a></li>\n",
       "</ul></li>\n",
       "<li class=\"chapter\" data-level=\"5.6\" data-path=\"rulefit.html\"><a href=\"rulefit.html\"><i class=\"fa fa-check\"></i><b>5.6</b> RuleFit</a>\n",
       "<ul>\n",
       "<li class=\"chapter\" data-level=\"5.6.1\" data-path=\"rulefit.html\"><a href=\"rulefit.html#interpretation-and-example\"><i class=\"fa fa-check\"></i><b>5.6.1</b> Interpretation and Example</a></li>\n",
       "<li class=\"chapter\" data-level=\"5.6.2\" data-path=\"rulefit.html\"><a href=\"rulefit.html#theory-1\"><i class=\"fa fa-check\"></i><b>5.6.2</b> Theory</a></li>\n",
       "<li class=\"chapter\" data-level=\"5.6.3\" data-path=\"rulefit.html\"><a href=\"rulefit.html#advantages-4\"><i class=\"fa fa-check\"></i><b>5.6.3</b> Advantages</a></li>\n",
       "<li class=\"chapter\" data-level=\"5.6.4\" data-path=\"rulefit.html\"><a href=\"rulefit.html#disadvantages-4\"><i class=\"fa fa-check\"></i><b>5.6.4</b> Disadvantages</a></li>\n",
       "<li class=\"chapter\" data-level=\"5.6.5\" data-path=\"rulefit.html\"><a href=\"rulefit.html#software-and-alternative\"><i class=\"fa fa-check\"></i><b>5.6.5</b> Software and Alternative</a></li>\n",
       "</ul></li>\n",
       "<li class=\"chapter\" data-level=\"5.7\" data-path=\"other-interpretable.html\"><a href=\"other-interpretable.html\"><i class=\"fa fa-check\"></i><b>5.7</b> Other Interpretable Models</a>\n",
       "<ul>\n",
       "<li class=\"chapter\" data-level=\"5.7.1\" data-path=\"other-interpretable.html\"><a href=\"other-interpretable.html#naive-bayes-classifier\"><i class=\"fa fa-check\"></i><b>5.7.1</b> Naive Bayes Classifier</a></li>\n",
       "<li class=\"chapter\" data-level=\"5.7.2\" data-path=\"other-interpretable.html\"><a href=\"other-interpretable.html#k-nearest-neighbors\"><i class=\"fa fa-check\"></i><b>5.7.2</b> K-Nearest Neighbors</a></li>\n",
       "</ul></li>\n",
       "</ul></li>\n",
       "<li class=\"chapter\" data-level=\"6\" data-path=\"agnostic.html\"><a href=\"agnostic.html\"><i class=\"fa fa-check\"></i><b>6</b> Model-Agnostic Methods</a></li>\n",
       "<li class=\"chapter\" data-level=\"7\" data-path=\"example-based.html\"><a href=\"example-based.html\"><i class=\"fa fa-check\"></i><b>7</b> Example-Based Explanations</a></li>\n",
       "<li class=\"chapter\" data-level=\"8\" data-path=\"global-methods.html\"><a href=\"global-methods.html\"><i class=\"fa fa-check\"></i><b>8</b> Global Model-Agnostic Methods</a>\n",
       "<ul>\n",
       "<li class=\"chapter\" data-level=\"8.1\" data-path=\"pdp.html\"><a href=\"pdp.html\"><i class=\"fa fa-check\"></i><b>8.1</b> Partial Dependence Plot (PDP)</a>\n",
       "<ul>\n",
       "<li class=\"chapter\" data-level=\"8.1.1\" data-path=\"pdp.html\"><a href=\"pdp.html#pdp-based-feature-importance\"><i class=\"fa fa-check\"></i><b>8.1.1</b> PDP-based Feature Importance</a></li>\n",
       "<li class=\"chapter\" data-level=\"8.1.2\" data-path=\"pdp.html\"><a href=\"pdp.html#examples\"><i class=\"fa fa-check\"></i><b>8.1.2</b> Examples</a></li>\n",
       "<li class=\"chapter\" data-level=\"8.1.3\" data-path=\"pdp.html\"><a href=\"pdp.html#advantages-5\"><i class=\"fa fa-check\"></i><b>8.1.3</b> Advantages</a></li>\n",
       "<li class=\"chapter\" data-level=\"8.1.4\" data-path=\"pdp.html\"><a href=\"pdp.html#disadvantages-5\"><i class=\"fa fa-check\"></i><b>8.1.4</b> Disadvantages</a></li>\n",
       "<li class=\"chapter\" data-level=\"8.1.5\" data-path=\"pdp.html\"><a href=\"pdp.html#software-and-alternatives-1\"><i class=\"fa fa-check\"></i><b>8.1.5</b> Software and Alternatives</a></li>\n",
       "</ul></li>\n",
       "<li class=\"chapter\" data-level=\"8.2\" data-path=\"ale.html\"><a href=\"ale.html\"><i class=\"fa fa-check\"></i><b>8.2</b> Accumulated Local Effects (ALE) Plot</a>\n",
       "<ul>\n",
       "<li class=\"chapter\" data-level=\"8.2.1\" data-path=\"ale.html\"><a href=\"ale.html#motivation-and-intuition\"><i class=\"fa fa-check\"></i><b>8.2.1</b> Motivation and Intuition</a></li>\n",
       "<li class=\"chapter\" data-level=\"8.2.2\" data-path=\"ale.html\"><a href=\"ale.html#theory-2\"><i class=\"fa fa-check\"></i><b>8.2.2</b> Theory</a></li>\n",
       "<li class=\"chapter\" data-level=\"8.2.3\" data-path=\"ale.html\"><a href=\"ale.html#estimation\"><i class=\"fa fa-check\"></i><b>8.2.3</b> Estimation</a></li>\n",
       "<li class=\"chapter\" data-level=\"8.2.4\" data-path=\"ale.html\"><a href=\"ale.html#examples-1\"><i class=\"fa fa-check\"></i><b>8.2.4</b> Examples</a></li>\n",
       "<li class=\"chapter\" data-level=\"8.2.5\" data-path=\"ale.html\"><a href=\"ale.html#advantages-6\"><i class=\"fa fa-check\"></i><b>8.2.5</b> Advantages</a></li>\n",
       "<li class=\"chapter\" data-level=\"8.2.6\" data-path=\"ale.html\"><a href=\"ale.html#disadvantages-6\"><i class=\"fa fa-check\"></i><b>8.2.6</b> Disadvantages</a></li>\n",
       "<li class=\"chapter\" data-level=\"8.2.7\" data-path=\"ale.html\"><a href=\"ale.html#implementation-and-alternatives\"><i class=\"fa fa-check\"></i><b>8.2.7</b> Implementation and Alternatives</a></li>\n",
       "</ul></li>\n",
       "<li class=\"chapter\" data-level=\"8.3\" data-path=\"interaction.html\"><a href=\"interaction.html\"><i class=\"fa fa-check\"></i><b>8.3</b> Feature Interaction</a>\n",
       "<ul>\n",
       "<li class=\"chapter\" data-level=\"8.3.1\" data-path=\"interaction.html\"><a href=\"interaction.html#feature-interaction\"><i class=\"fa fa-check\"></i><b>8.3.1</b> Feature Interaction?</a></li>\n",
       "<li class=\"chapter\" data-level=\"8.3.2\" data-path=\"interaction.html\"><a href=\"interaction.html#theory-friedmans-h-statistic\"><i class=\"fa fa-check\"></i><b>8.3.2</b> Theory: Friedman’s H-statistic</a></li>\n",
       "<li class=\"chapter\" data-level=\"8.3.3\" data-path=\"interaction.html\"><a href=\"interaction.html#examples-2\"><i class=\"fa fa-check\"></i><b>8.3.3</b> Examples</a></li>\n",
       "<li class=\"chapter\" data-level=\"8.3.4\" data-path=\"interaction.html\"><a href=\"interaction.html#advantages-7\"><i class=\"fa fa-check\"></i><b>8.3.4</b> Advantages</a></li>\n",
       "<li class=\"chapter\" data-level=\"8.3.5\" data-path=\"interaction.html\"><a href=\"interaction.html#disadvantages-7\"><i class=\"fa fa-check\"></i><b>8.3.5</b> Disadvantages</a></li>\n",
       "<li class=\"chapter\" data-level=\"8.3.6\" data-path=\"interaction.html\"><a href=\"interaction.html#implementations\"><i class=\"fa fa-check\"></i><b>8.3.6</b> Implementations</a></li>\n",
       "<li class=\"chapter\" data-level=\"8.3.7\" data-path=\"interaction.html\"><a href=\"interaction.html#alternatives\"><i class=\"fa fa-check\"></i><b>8.3.7</b> Alternatives</a></li>\n",
       "</ul></li>\n",
       "<li class=\"chapter\" data-level=\"8.4\" data-path=\"decomposition.html\"><a href=\"decomposition.html\"><i class=\"fa fa-check\"></i><b>8.4</b> Functional Decomposition</a>\n",
       "<ul>\n",
       "<li class=\"chapter\" data-level=\"8.4.1\" data-path=\"decomposition.html\"><a href=\"decomposition.html#how-not-to-compute-the-components-i\"><i class=\"fa fa-check\"></i><b>8.4.1</b> How not to Compute the Components I</a></li>\n",
       "<li class=\"chapter\" data-level=\"8.4.2\" data-path=\"decomposition.html\"><a href=\"decomposition.html#functional-decomposition\"><i class=\"fa fa-check\"></i><b>8.4.2</b> Functional Decomposition</a></li>\n",
       "<li class=\"chapter\" data-level=\"8.4.3\" data-path=\"decomposition.html\"><a href=\"decomposition.html#how-not-to-compute-the-components-ii\"><i class=\"fa fa-check\"></i><b>8.4.3</b> How not to Compute the Components II</a></li>\n",
       "<li class=\"chapter\" data-level=\"8.4.4\" data-path=\"decomposition.html\"><a href=\"decomposition.html#functional-anova\"><i class=\"fa fa-check\"></i><b>8.4.4</b> Functional ANOVA</a></li>\n",
       "<li class=\"chapter\" data-level=\"8.4.5\" data-path=\"decomposition.html\"><a href=\"decomposition.html#generalized-functional-anova-for-dependent-features\"><i class=\"fa fa-check\"></i><b>8.4.5</b> Generalized Functional ANOVA for Dependent Features</a></li>\n",
       "<li class=\"chapter\" data-level=\"8.4.6\" data-path=\"decomposition.html\"><a href=\"decomposition.html#accumulated-local-effect-plots\"><i class=\"fa fa-check\"></i><b>8.4.6</b> Accumulated Local Effect Plots</a></li>\n",
       "<li class=\"chapter\" data-level=\"8.4.7\" data-path=\"decomposition.html\"><a href=\"decomposition.html#statistical-regression-models\"><i class=\"fa fa-check\"></i><b>8.4.7</b> Statistical Regression Models</a></li>\n",
       "<li class=\"chapter\" data-level=\"8.4.8\" data-path=\"decomposition.html\"><a href=\"decomposition.html#bonus-partial-dependence-plot\"><i class=\"fa fa-check\"></i><b>8.4.8</b> Bonus: Partial Dependence Plot</a></li>\n",
       "<li class=\"chapter\" data-level=\"8.4.9\" data-path=\"decomposition.html\"><a href=\"decomposition.html#advantages-8\"><i class=\"fa fa-check\"></i><b>8.4.9</b> Advantages</a></li>\n",
       "<li class=\"chapter\" data-level=\"8.4.10\" data-path=\"decomposition.html\"><a href=\"decomposition.html#disadvantages-8\"><i class=\"fa fa-check\"></i><b>8.4.10</b> Disadvantages</a></li>\n",
       "</ul></li>\n",
       "<li class=\"chapter\" data-level=\"8.5\" data-path=\"feature-importance.html\"><a href=\"feature-importance.html\"><i class=\"fa fa-check\"></i><b>8.5</b> Permutation Feature Importance</a>\n",
       "<ul>\n",
       "<li class=\"chapter\" data-level=\"8.5.1\" data-path=\"feature-importance.html\"><a href=\"feature-importance.html#theory-3\"><i class=\"fa fa-check\"></i><b>8.5.1</b> Theory</a></li>\n",
       "<li class=\"chapter\" data-level=\"8.5.2\" data-path=\"feature-importance.html\"><a href=\"feature-importance.html#feature-importance-data\"><i class=\"fa fa-check\"></i><b>8.5.2</b> Should I Compute Importance on Training or Test Data?</a></li>\n",
       "<li class=\"chapter\" data-level=\"8.5.3\" data-path=\"feature-importance.html\"><a href=\"feature-importance.html#example-and-interpretation\"><i class=\"fa fa-check\"></i><b>8.5.3</b> Example and Interpretation</a></li>\n",
       "<li class=\"chapter\" data-level=\"8.5.4\" data-path=\"feature-importance.html\"><a href=\"feature-importance.html#advantages-9\"><i class=\"fa fa-check\"></i><b>8.5.4</b> Advantages</a></li>\n",
       "<li class=\"chapter\" data-level=\"8.5.5\" data-path=\"feature-importance.html\"><a href=\"feature-importance.html#disadvantages-9\"><i class=\"fa fa-check\"></i><b>8.5.5</b> Disadvantages</a></li>\n",
       "<li class=\"chapter\" data-level=\"8.5.6\" data-path=\"feature-importance.html\"><a href=\"feature-importance.html#alternatives-1\"><i class=\"fa fa-check\"></i><b>8.5.6</b> Alternatives</a></li>\n",
       "<li class=\"chapter\" data-level=\"8.5.7\" data-path=\"feature-importance.html\"><a href=\"feature-importance.html#software-3\"><i class=\"fa fa-check\"></i><b>8.5.7</b> Software</a></li>\n",
       "</ul></li>\n",
       "<li class=\"chapter\" data-level=\"8.6\" data-path=\"global.html\"><a href=\"global.html\"><i class=\"fa fa-check\"></i><b>8.6</b> Global Surrogate</a>\n",
       "<ul>\n",
       "<li class=\"chapter\" data-level=\"8.6.1\" data-path=\"global.html\"><a href=\"global.html#theory-4\"><i class=\"fa fa-check\"></i><b>8.6.1</b> Theory</a></li>\n",
       "<li class=\"chapter\" data-level=\"8.6.2\" data-path=\"global.html\"><a href=\"global.html#example-3\"><i class=\"fa fa-check\"></i><b>8.6.2</b> Example</a></li>\n",
       "<li class=\"chapter\" data-level=\"8.6.3\" data-path=\"global.html\"><a href=\"global.html#advantages-10\"><i class=\"fa fa-check\"></i><b>8.6.3</b> Advantages</a></li>\n",
       "<li class=\"chapter\" data-level=\"8.6.4\" data-path=\"global.html\"><a href=\"global.html#disadvantages-10\"><i class=\"fa fa-check\"></i><b>8.6.4</b> Disadvantages</a></li>\n",
       "<li class=\"chapter\" data-level=\"8.6.5\" data-path=\"global.html\"><a href=\"global.html#software-4\"><i class=\"fa fa-check\"></i><b>8.6.5</b> Software</a></li>\n",
       "</ul></li>\n",
       "<li class=\"chapter\" data-level=\"8.7\" data-path=\"proto.html\"><a href=\"proto.html\"><i class=\"fa fa-check\"></i><b>8.7</b> Prototypes and Criticisms</a>\n",
       "<ul>\n",
       "<li class=\"chapter\" data-level=\"8.7.1\" data-path=\"proto.html\"><a href=\"proto.html#theory-5\"><i class=\"fa fa-check\"></i><b>8.7.1</b> Theory</a></li>\n",
       "<li class=\"chapter\" data-level=\"8.7.2\" data-path=\"proto.html\"><a href=\"proto.html#examples-3\"><i class=\"fa fa-check\"></i><b>8.7.2</b> Examples</a></li>\n",
       "<li class=\"chapter\" data-level=\"8.7.3\" data-path=\"proto.html\"><a href=\"proto.html#advantages-11\"><i class=\"fa fa-check\"></i><b>8.7.3</b> Advantages</a></li>\n",
       "<li class=\"chapter\" data-level=\"8.7.4\" data-path=\"proto.html\"><a href=\"proto.html#disadvantages-11\"><i class=\"fa fa-check\"></i><b>8.7.4</b> Disadvantages</a></li>\n",
       "<li class=\"chapter\" data-level=\"8.7.5\" data-path=\"proto.html\"><a href=\"proto.html#code-and-alternatives\"><i class=\"fa fa-check\"></i><b>8.7.5</b> Code and Alternatives</a></li>\n",
       "</ul></li>\n",
       "</ul></li>\n",
       "<li class=\"chapter\" data-level=\"9\" data-path=\"local-methods.html\"><a href=\"local-methods.html\"><i class=\"fa fa-check\"></i><b>9</b> Local Model-Agnostic Methods</a>\n",
       "<ul>\n",
       "<li class=\"chapter\" data-level=\"9.1\" data-path=\"ice.html\"><a href=\"ice.html\"><i class=\"fa fa-check\"></i><b>9.1</b> Individual Conditional Expectation (ICE)</a>\n",
       "<ul>\n",
       "<li class=\"chapter\" data-level=\"9.1.1\" data-path=\"ice.html\"><a href=\"ice.html#examples-4\"><i class=\"fa fa-check\"></i><b>9.1.1</b> Examples</a></li>\n",
       "<li class=\"chapter\" data-level=\"9.1.2\" data-path=\"ice.html\"><a href=\"ice.html#advantages-12\"><i class=\"fa fa-check\"></i><b>9.1.2</b> Advantages</a></li>\n",
       "<li class=\"chapter\" data-level=\"9.1.3\" data-path=\"ice.html\"><a href=\"ice.html#disadvantages-12\"><i class=\"fa fa-check\"></i><b>9.1.3</b> Disadvantages</a></li>\n",
       "<li class=\"chapter\" data-level=\"9.1.4\" data-path=\"ice.html\"><a href=\"ice.html#software-and-alternatives-2\"><i class=\"fa fa-check\"></i><b>9.1.4</b> Software and Alternatives</a></li>\n",
       "</ul></li>\n",
       "<li class=\"chapter\" data-level=\"9.2\" data-path=\"lime.html\"><a href=\"lime.html\"><i class=\"fa fa-check\"></i><b>9.2</b> Local Surrogate (LIME)</a>\n",
       "<ul>\n",
       "<li class=\"chapter\" data-level=\"9.2.1\" data-path=\"lime.html\"><a href=\"lime.html#lime-for-tabular-data\"><i class=\"fa fa-check\"></i><b>9.2.1</b> LIME for Tabular Data</a></li>\n",
       "<li class=\"chapter\" data-level=\"9.2.2\" data-path=\"lime.html\"><a href=\"lime.html#lime-for-text\"><i class=\"fa fa-check\"></i><b>9.2.2</b> LIME for Text</a></li>\n",
       "<li class=\"chapter\" data-level=\"9.2.3\" data-path=\"lime.html\"><a href=\"lime.html#images-lime\"><i class=\"fa fa-check\"></i><b>9.2.3</b> LIME for Images</a></li>\n",
       "<li class=\"chapter\" data-level=\"9.2.4\" data-path=\"lime.html\"><a href=\"lime.html#advantages-13\"><i class=\"fa fa-check\"></i><b>9.2.4</b> Advantages</a></li>\n",
       "<li class=\"chapter\" data-level=\"9.2.5\" data-path=\"lime.html\"><a href=\"lime.html#disadvantages-13\"><i class=\"fa fa-check\"></i><b>9.2.5</b> Disadvantages</a></li>\n",
       "</ul></li>\n",
       "<li class=\"chapter\" data-level=\"9.3\" data-path=\"counterfactual.html\"><a href=\"counterfactual.html\"><i class=\"fa fa-check\"></i><b>9.3</b> Counterfactual Explanations</a>\n",
       "<ul>\n",
       "<li class=\"chapter\" data-level=\"9.3.1\" data-path=\"counterfactual.html\"><a href=\"counterfactual.html#generating-counterfactual-explanations\"><i class=\"fa fa-check\"></i><b>9.3.1</b> Generating Counterfactual Explanations</a></li>\n",
       "<li class=\"chapter\" data-level=\"9.3.2\" data-path=\"counterfactual.html\"><a href=\"counterfactual.html#example-8\"><i class=\"fa fa-check\"></i><b>9.3.2</b> Example</a></li>\n",
       "<li class=\"chapter\" data-level=\"9.3.3\" data-path=\"counterfactual.html\"><a href=\"counterfactual.html#advantages-14\"><i class=\"fa fa-check\"></i><b>9.3.3</b> Advantages</a></li>\n",
       "<li class=\"chapter\" data-level=\"9.3.4\" data-path=\"counterfactual.html\"><a href=\"counterfactual.html#disadvantages-14\"><i class=\"fa fa-check\"></i><b>9.3.4</b> Disadvantages</a></li>\n",
       "<li class=\"chapter\" data-level=\"9.3.5\" data-path=\"counterfactual.html\"><a href=\"counterfactual.html#example-software\"><i class=\"fa fa-check\"></i><b>9.3.5</b> Software and Alternatives</a></li>\n",
       "</ul></li>\n",
       "<li class=\"chapter\" data-level=\"9.4\" data-path=\"anchors.html\"><a href=\"anchors.html\"><i class=\"fa fa-check\"></i><b>9.4</b> Scoped Rules (Anchors)</a>\n",
       "<ul>\n",
       "<li class=\"chapter\" data-level=\"9.4.1\" data-path=\"anchors.html\"><a href=\"anchors.html#finding-anchors\"><i class=\"fa fa-check\"></i><b>9.4.1</b> Finding Anchors</a></li>\n",
       "<li class=\"chapter\" data-level=\"9.4.2\" data-path=\"anchors.html\"><a href=\"anchors.html#complexity-and-runtime\"><i class=\"fa fa-check\"></i><b>9.4.2</b> Complexity and Runtime</a></li>\n",
       "<li class=\"chapter\" data-level=\"9.4.3\" data-path=\"anchors.html\"><a href=\"anchors.html#tabular-data-example\"><i class=\"fa fa-check\"></i><b>9.4.3</b> Tabular Data Example</a></li>\n",
       "<li class=\"chapter\" data-level=\"9.4.4\" data-path=\"anchors.html\"><a href=\"anchors.html#advantages-15\"><i class=\"fa fa-check\"></i><b>9.4.4</b> Advantages</a></li>\n",
       "<li class=\"chapter\" data-level=\"9.4.5\" data-path=\"anchors.html\"><a href=\"anchors.html#disadvantages-15\"><i class=\"fa fa-check\"></i><b>9.4.5</b> Disadvantages</a></li>\n",
       "<li class=\"chapter\" data-level=\"9.4.6\" data-path=\"anchors.html\"><a href=\"anchors.html#software-and-alternatives-3\"><i class=\"fa fa-check\"></i><b>9.4.6</b> Software and Alternatives</a></li>\n",
       "</ul></li>\n",
       "<li class=\"chapter\" data-level=\"9.5\" data-path=\"shapley.html\"><a href=\"shapley.html\"><i class=\"fa fa-check\"></i><b>9.5</b> Shapley Values</a>\n",
       "<ul>\n",
       "<li class=\"chapter\" data-level=\"9.5.1\" data-path=\"shapley.html\"><a href=\"shapley.html#general-idea\"><i class=\"fa fa-check\"></i><b>9.5.1</b> General Idea</a></li>\n",
       "<li class=\"chapter\" data-level=\"9.5.2\" data-path=\"shapley.html\"><a href=\"shapley.html#examples-and-interpretation\"><i class=\"fa fa-check\"></i><b>9.5.2</b> Examples and Interpretation</a></li>\n",
       "<li class=\"chapter\" data-level=\"9.5.3\" data-path=\"shapley.html\"><a href=\"shapley.html#the-shapley-value-in-detail\"><i class=\"fa fa-check\"></i><b>9.5.3</b> The Shapley Value in Detail</a></li>\n",
       "<li class=\"chapter\" data-level=\"9.5.4\" data-path=\"shapley.html\"><a href=\"shapley.html#advantages-16\"><i class=\"fa fa-check\"></i><b>9.5.4</b> Advantages</a></li>\n",
       "<li class=\"chapter\" data-level=\"9.5.5\" data-path=\"shapley.html\"><a href=\"shapley.html#disadvantages-16\"><i class=\"fa fa-check\"></i><b>9.5.5</b> Disadvantages</a></li>\n",
       "<li class=\"chapter\" data-level=\"9.5.6\" data-path=\"shapley.html\"><a href=\"shapley.html#software-and-alternatives-4\"><i class=\"fa fa-check\"></i><b>9.5.6</b> Software and Alternatives</a></li>\n",
       "</ul></li>\n",
       "<li class=\"chapter\" data-level=\"9.6\" data-path=\"shap.html\"><a href=\"shap.html\"><i class=\"fa fa-check\"></i><b>9.6</b> SHAP (SHapley Additive exPlanations)</a>\n",
       "<ul>\n",
       "<li class=\"chapter\" data-level=\"9.6.1\" data-path=\"shap.html\"><a href=\"shap.html#definition\"><i class=\"fa fa-check\"></i><b>9.6.1</b> Definition</a></li>\n",
       "<li class=\"chapter\" data-level=\"9.6.2\" data-path=\"shap.html\"><a href=\"shap.html#kernelshap\"><i class=\"fa fa-check\"></i><b>9.6.2</b> KernelSHAP</a></li>\n",
       "<li class=\"chapter\" data-level=\"9.6.3\" data-path=\"shap.html\"><a href=\"shap.html#treeshap\"><i class=\"fa fa-check\"></i><b>9.6.3</b> TreeSHAP</a></li>\n",
       "<li class=\"chapter\" data-level=\"9.6.4\" data-path=\"shap.html\"><a href=\"shap.html#examples-5\"><i class=\"fa fa-check\"></i><b>9.6.4</b> Examples</a></li>\n",
       "<li class=\"chapter\" data-level=\"9.6.5\" data-path=\"shap.html\"><a href=\"shap.html#shap-feature-importance\"><i class=\"fa fa-check\"></i><b>9.6.5</b> SHAP Feature Importance</a></li>\n",
       "<li class=\"chapter\" data-level=\"9.6.6\" data-path=\"shap.html\"><a href=\"shap.html#shap-summary-plot\"><i class=\"fa fa-check\"></i><b>9.6.6</b> SHAP Summary Plot</a></li>\n",
       "<li class=\"chapter\" data-level=\"9.6.7\" data-path=\"shap.html\"><a href=\"shap.html#shap-dependence-plot\"><i class=\"fa fa-check\"></i><b>9.6.7</b> SHAP Dependence Plot</a></li>\n",
       "<li class=\"chapter\" data-level=\"9.6.8\" data-path=\"shap.html\"><a href=\"shap.html#shap-interaction-values\"><i class=\"fa fa-check\"></i><b>9.6.8</b> SHAP Interaction Values</a></li>\n",
       "<li class=\"chapter\" data-level=\"9.6.9\" data-path=\"shap.html\"><a href=\"shap.html#clustering-shapley-values\"><i class=\"fa fa-check\"></i><b>9.6.9</b> Clustering Shapley Values</a></li>\n",
       "<li class=\"chapter\" data-level=\"9.6.10\" data-path=\"shap.html\"><a href=\"shap.html#advantages-17\"><i class=\"fa fa-check\"></i><b>9.6.10</b> Advantages</a></li>\n",
       "<li class=\"chapter\" data-level=\"9.6.11\" data-path=\"shap.html\"><a href=\"shap.html#disadvantages-17\"><i class=\"fa fa-check\"></i><b>9.6.11</b> Disadvantages</a></li>\n",
       "<li class=\"chapter\" data-level=\"9.6.12\" data-path=\"shap.html\"><a href=\"shap.html#software-5\"><i class=\"fa fa-check\"></i><b>9.6.12</b> Software</a></li>\n",
       "</ul></li>\n",
       "</ul></li>\n",
       "<li class=\"chapter\" data-level=\"10\" data-path=\"neural-networks.html\"><a href=\"neural-networks.html\"><i class=\"fa fa-check\"></i><b>10</b> Neural Network Interpretation</a>\n",
       "<ul>\n",
       "<li class=\"chapter\" data-level=\"10.1\" data-path=\"cnn-features.html\"><a href=\"cnn-features.html\"><i class=\"fa fa-check\"></i><b>10.1</b> Learned Features</a>\n",
       "<ul>\n",
       "<li class=\"chapter\" data-level=\"10.1.1\" data-path=\"cnn-features.html\"><a href=\"cnn-features.html#feature-visualization\"><i class=\"fa fa-check\"></i><b>10.1.1</b> Feature Visualization</a></li>\n",
       "<li class=\"chapter\" data-level=\"10.1.2\" data-path=\"cnn-features.html\"><a href=\"cnn-features.html#network-dissection\"><i class=\"fa fa-check\"></i><b>10.1.2</b> Network Dissection</a></li>\n",
       "<li class=\"chapter\" data-level=\"10.1.3\" data-path=\"cnn-features.html\"><a href=\"cnn-features.html#advantages-18\"><i class=\"fa fa-check\"></i><b>10.1.3</b> Advantages</a></li>\n",
       "<li class=\"chapter\" data-level=\"10.1.4\" data-path=\"cnn-features.html\"><a href=\"cnn-features.html#disadvantages-18\"><i class=\"fa fa-check\"></i><b>10.1.4</b> Disadvantages</a></li>\n",
       "<li class=\"chapter\" data-level=\"10.1.5\" data-path=\"cnn-features.html\"><a href=\"cnn-features.html#software-and-further-material\"><i class=\"fa fa-check\"></i><b>10.1.5</b> Software and Further Material</a></li>\n",
       "</ul></li>\n",
       "<li class=\"chapter\" data-level=\"10.2\" data-path=\"pixel-attribution.html\"><a href=\"pixel-attribution.html\"><i class=\"fa fa-check\"></i><b>10.2</b> Pixel Attribution (Saliency Maps)</a>\n",
       "<ul>\n",
       "<li class=\"chapter\" data-level=\"10.2.1\" data-path=\"pixel-attribution.html\"><a href=\"pixel-attribution.html#vanilla-gradient-saliency-maps\"><i class=\"fa fa-check\"></i><b>10.2.1</b> Vanilla Gradient (Saliency Maps)</a></li>\n",
       "<li class=\"chapter\" data-level=\"10.2.2\" data-path=\"pixel-attribution.html\"><a href=\"pixel-attribution.html#deconvnet\"><i class=\"fa fa-check\"></i><b>10.2.2</b> DeconvNet</a></li>\n",
       "<li class=\"chapter\" data-level=\"10.2.3\" data-path=\"pixel-attribution.html\"><a href=\"pixel-attribution.html#grad-cam\"><i class=\"fa fa-check\"></i><b>10.2.3</b> Grad-CAM</a></li>\n",
       "<li class=\"chapter\" data-level=\"10.2.4\" data-path=\"pixel-attribution.html\"><a href=\"pixel-attribution.html#guided-grad-cam\"><i class=\"fa fa-check\"></i><b>10.2.4</b> Guided Grad-CAM</a></li>\n",
       "<li class=\"chapter\" data-level=\"10.2.5\" data-path=\"pixel-attribution.html\"><a href=\"pixel-attribution.html#smoothgrad\"><i class=\"fa fa-check\"></i><b>10.2.5</b> SmoothGrad</a></li>\n",
       "<li class=\"chapter\" data-level=\"10.2.6\" data-path=\"pixel-attribution.html\"><a href=\"pixel-attribution.html#examples-6\"><i class=\"fa fa-check\"></i><b>10.2.6</b> Examples</a></li>\n",
       "<li class=\"chapter\" data-level=\"10.2.7\" data-path=\"pixel-attribution.html\"><a href=\"pixel-attribution.html#advantages-19\"><i class=\"fa fa-check\"></i><b>10.2.7</b> Advantages</a></li>\n",
       "<li class=\"chapter\" data-level=\"10.2.8\" data-path=\"pixel-attribution.html\"><a href=\"pixel-attribution.html#disadvantages-19\"><i class=\"fa fa-check\"></i><b>10.2.8</b> Disadvantages</a></li>\n",
       "<li class=\"chapter\" data-level=\"10.2.9\" data-path=\"pixel-attribution.html\"><a href=\"pixel-attribution.html#software-6\"><i class=\"fa fa-check\"></i><b>10.2.9</b> Software</a></li>\n",
       "</ul></li>\n",
       "<li class=\"chapter\" data-level=\"10.3\" data-path=\"detecting-concepts.html\"><a href=\"detecting-concepts.html\"><i class=\"fa fa-check\"></i><b>10.3</b> Detecting Concepts</a>\n",
       "<ul>\n",
       "<li class=\"chapter\" data-level=\"10.3.1\" data-path=\"detecting-concepts.html\"><a href=\"detecting-concepts.html#tcav-testing-with-concept-activation-vectors\"><i class=\"fa fa-check\"></i><b>10.3.1</b> TCAV: Testing with Concept Activation Vectors</a></li>\n",
       "<li class=\"chapter\" data-level=\"10.3.2\" data-path=\"detecting-concepts.html\"><a href=\"detecting-concepts.html#example-9\"><i class=\"fa fa-check\"></i><b>10.3.2</b> Example</a></li>\n",
       "<li class=\"chapter\" data-level=\"10.3.3\" data-path=\"detecting-concepts.html\"><a href=\"detecting-concepts.html#advantages-20\"><i class=\"fa fa-check\"></i><b>10.3.3</b> Advantages</a></li>\n",
       "<li class=\"chapter\" data-level=\"10.3.4\" data-path=\"detecting-concepts.html\"><a href=\"detecting-concepts.html#disadvantages-20\"><i class=\"fa fa-check\"></i><b>10.3.4</b> Disadvantages</a></li>\n",
       "<li class=\"chapter\" data-level=\"10.3.5\" data-path=\"detecting-concepts.html\"><a href=\"detecting-concepts.html#bonus-other-concept-based-approaches\"><i class=\"fa fa-check\"></i><b>10.3.5</b> Bonus: Other Concept-based Approaches</a></li>\n",
       "<li class=\"chapter\" data-level=\"10.3.6\" data-path=\"detecting-concepts.html\"><a href=\"detecting-concepts.html#software-7\"><i class=\"fa fa-check\"></i><b>10.3.6</b> Software</a></li>\n",
       "</ul></li>\n",
       "<li class=\"chapter\" data-level=\"10.4\" data-path=\"adversarial.html\"><a href=\"adversarial.html\"><i class=\"fa fa-check\"></i><b>10.4</b> Adversarial Examples</a>\n",
       "<ul>\n",
       "<li class=\"chapter\" data-level=\"10.4.1\" data-path=\"adversarial.html\"><a href=\"adversarial.html#methods-and-examples\"><i class=\"fa fa-check\"></i><b>10.4.1</b> Methods and Examples</a></li>\n",
       "<li class=\"chapter\" data-level=\"10.4.2\" data-path=\"adversarial.html\"><a href=\"adversarial.html#the-cybersecurity-perspective\"><i class=\"fa fa-check\"></i><b>10.4.2</b> The Cybersecurity Perspective</a></li>\n",
       "</ul></li>\n",
       "<li class=\"chapter\" data-level=\"10.5\" data-path=\"influential.html\"><a href=\"influential.html\"><i class=\"fa fa-check\"></i><b>10.5</b> Influential Instances</a>\n",
       "<ul>\n",
       "<li class=\"chapter\" data-level=\"10.5.1\" data-path=\"influential.html\"><a href=\"influential.html#deletion-diagnostics\"><i class=\"fa fa-check\"></i><b>10.5.1</b> Deletion Diagnostics</a></li>\n",
       "<li class=\"chapter\" data-level=\"10.5.2\" data-path=\"influential.html\"><a href=\"influential.html#influence-functions\"><i class=\"fa fa-check\"></i><b>10.5.2</b> Influence Functions</a></li>\n",
       "<li class=\"chapter\" data-level=\"10.5.3\" data-path=\"influential.html\"><a href=\"influential.html#advantages-of-identifying-influential-instances\"><i class=\"fa fa-check\"></i><b>10.5.3</b> Advantages of Identifying Influential Instances</a></li>\n",
       "<li class=\"chapter\" data-level=\"10.5.4\" data-path=\"influential.html\"><a href=\"influential.html#disadvantages-of-identifying-influential-instances\"><i class=\"fa fa-check\"></i><b>10.5.4</b> Disadvantages of Identifying Influential Instances</a></li>\n",
       "<li class=\"chapter\" data-level=\"10.5.5\" data-path=\"influential.html\"><a href=\"influential.html#software-and-alternatives-5\"><i class=\"fa fa-check\"></i><b>10.5.5</b> Software and Alternatives</a></li>\n",
       "</ul></li>\n",
       "</ul></li>\n",
       "<li class=\"chapter\" data-level=\"11\" data-path=\"future.html\"><a href=\"future.html\"><i class=\"fa fa-check\"></i><b>11</b> A Look into the Crystal Ball</a>\n",
       "<ul>\n",
       "<li class=\"chapter\" data-level=\"11.1\" data-path=\"the-future-of-machine-learning.html\"><a href=\"the-future-of-machine-learning.html\"><i class=\"fa fa-check\"></i><b>11.1</b> The Future of Machine Learning</a></li>\n",
       "<li class=\"chapter\" data-level=\"11.2\" data-path=\"the-future-of-interpretability.html\"><a href=\"the-future-of-interpretability.html\"><i class=\"fa fa-check\"></i><b>11.2</b> The Future of Interpretability</a></li>\n",
       "</ul></li>\n",
       "<li class=\"chapter\" data-level=\"12\" data-path=\"contribute.html\"><a href=\"contribute.html\"><i class=\"fa fa-check\"></i><b>12</b> Contribute to the Book</a></li>\n",
       "<li class=\"chapter\" data-level=\"13\" data-path=\"cite.html\"><a href=\"cite.html\"><i class=\"fa fa-check\"></i><b>13</b> Citing this Book</a></li>\n",
       "<li class=\"chapter\" data-level=\"14\" data-path=\"translations.html\"><a href=\"translations.html\"><i class=\"fa fa-check\"></i><b>14</b> Translations</a></li>\n",
       "<li class=\"chapter\" data-level=\"15\" data-path=\"acknowledgements.html\"><a href=\"acknowledgements.html\"><i class=\"fa fa-check\"></i><b>15</b> Acknowledgements</a></li>\n",
       "<li class=\"chapter\" data-level=\"\" data-path=\"references.html\"><a href=\"references.html\"><i class=\"fa fa-check\"></i>References</a>\n",
       "<ul>\n",
       "<li class=\"chapter\" data-level=\"\" data-path=\"r-packages-used.html\"><a href=\"r-packages-used.html\"><i class=\"fa fa-check\"></i>R Packages Used</a></li>\n",
       "</ul></li>\n",
       "<li class=\"divider\"></li>\n",
       "<li><a href=\"https://bookdown.org\" target=\"_blank\">Published with bookdown</a></li>\n",
       "<li><a href=\"https://christophmolnar.com/impressum/\" target=\"_blank\">Impressum</a></li>\n",
       "</ul>\n",
       "</nav>\n",
       "</div>\n",
       "<div class=\"book-body\">\n",
       "<div class=\"body-inner\">\n",
       "<div class=\"book-header\" role=\"navigation\">\n",
       "<h1>\n",
       "<i class=\"fa fa-circle-o-notch fa-spin\"></i><a href=\"./\">Interpretable Machine Learning</a>\n",
       "</h1>\n",
       "</div>\n",
       "<div class=\"page-wrapper\" role=\"main\" tabindex=\"-1\">\n",
       "<div class=\"page-inner\">\n",
       "<section class=\"normal\" id=\"section-\">\n",
       "<a href=\"https://bit.ly/3K3AV1y\" id=\"cta-button-desktop\" rel=\"noopener noreferrer\" target=\"blank\"> Buy Book </a>\n",
       "<a href=\"https://leanpub.com/interpretable-machine-learning\" id=\"cta-button-device\" rel=\"noopener noreferrer\" target=\"blank\">Buy</a>\n",
       "<div class=\"section level2 hasAnchor\" id=\"what-is-machine-learning\" number=\"2.2\">\n",
       "<h2><span class=\"header-section-number\">2.2</span> What Is Machine Learning?<a aria-label=\"Anchor link to header\" class=\"anchor-section\" href=\"what-is-machine-learning.html#what-is-machine-learning\"></a></h2>\n",
       "<p>Machine learning is a set of methods that computers use to make and improve predictions or behaviors based on data.</p>\n",
       "<p>For example, to predict the value of a house, the computer would learn patterns from past house sales.\n",
       "The book focuses on supervised machine learning, which covers all prediction problems where we have a dataset for which we already know the outcome of interest (e.g. past house prices) and want to learn to predict the outcome for new data.\n",
       "Excluded from supervised learning are for example clustering tasks (= unsupervised learning) where we do not have a specific outcome of interest, but want to find clusters of data points.\n",
       "Also excluded are things like reinforcement learning, where an agent learns to optimize a certain reward by acting in an environment (e.g. a computer playing Tetris).\n",
       "The goal of supervised learning is to learn a predictive model that maps features of the data (e.g. house size, location, floor type, …) to an output (e.g. house price).\n",
       "If the output is categorical, the task is called classification, and if it is numerical, it is called regression.\n",
       "The machine learning algorithm learns a model by estimating parameters (like weights) or learning structures (like trees).\n",
       "The algorithm is guided by a score or loss function that is minimized.\n",
       "In the house value example, the machine minimizes the difference between the estimated house price and the predicted price.\n",
       "A fully trained machine learning model can then be used to make predictions for new instances.</p>\n",
       "<p>Estimation of house prices, product recommendations, street sign detection, credit default prediction and fraud detection:\n",
       "All these examples have in common that they can be solved by machine learning.\n",
       "The tasks are different, but the approach is the same:<br/>\n",
       "Step 1: Data collection.\n",
       "The more, the better.\n",
       "The data must contain the outcome you want to predict and additional information from which to make the prediction.\n",
       "For a street sign detector (“Is there a street sign in the image?”), you would collect street images and label whether a street sign is visible or not.\n",
       "For a credit default predictor, you need past data on actual loans, information on whether the customers were in default with their loans, and data that will help you make predictions, such as income, past credit defaults, and so on.\n",
       "For an automatic house value estimator program, you could collect data from past house sales and information about the real estate such as size, location, and so on.<br/>\n",
       "Step 2: Enter this information into a machine learning algorithm that generates a sign detector model, a credit rating model or a house value estimator.<br/>\n",
       "Step 3: Use model with new data.\n",
       "Integrate the model into a product or process, such as a self-driving car, a credit application process or a real estate marketplace website.</p>\n",
       "<p>Machines surpass humans in many tasks, such as playing chess (or more recently Go) or predicting the weather.\n",
       "Even if the machine is as good as a human or a bit worse at a task, there remain great advantages in terms of speed, reproducibility and scaling.\n",
       "A once implemented machine learning model can complete a task much faster than humans, reliably delivers consistent results and can be copied infinitely.\n",
       "Replicating a machine learning model on another machine is fast and cheap.\n",
       "The training of a human for a task can take decades (especially when they are young) and is very costly.\n",
       "A major disadvantage of using machine learning is that insights about the data and the task the machine solves is hidden in increasingly complex models.\n",
       "You need millions of numbers to describe a deep neural network, and there is no way to understand the model in its entirety.\n",
       "Other models, such as the random forest, consist of hundreds of decision trees that “vote” for predictions.\n",
       "To understand how the decision was made, you would have to look into the votes and structures of each of the hundreds of trees.\n",
       "That just does not work no matter how clever you are or how good your working memory is.\n",
       "The best performing models are often blends of several models (also called ensembles) that cannot be interpreted, even if each single model could be interpreted.\n",
       "If you focus only on performance, you will automatically get more and more opaque models.\n",
       "<!--\n",
       "Just take a look at [interviews with winners on the kaggle.com machine learning competition platform](http://blog.kaggle.com/):\n",
       "-->\n",
       "The winning models on machine learning competitions are often ensembles of models or very complex models such as boosted trees or deep neural networks.</p>\n",
       "<!--{pagebreak}-->\n",
       "</div>\n",
       "</section>\n",
       "</div>\n",
       "</div>\n",
       "</div>\n",
       "<a aria-label=\"Previous page\" class=\"navigation navigation-prev\" href=\"storytime.html\"><i class=\"fa fa-angle-left\"></i></a>\n",
       "<a aria-label=\"Next page\" class=\"navigation navigation-next\" href=\"terminology.html\"><i class=\"fa fa-angle-right\"></i></a>\n",
       "</div>\n",
       "</div>\n",
       "<script src=\"libs/gitbook-2.6.7/js/app.min.js\"></script>\n",
       "<script src=\"libs/gitbook-2.6.7/js/clipboard.min.js\"></script>\n",
       "<script src=\"libs/gitbook-2.6.7/js/plugin-search.js\"></script>\n",
       "<script src=\"libs/gitbook-2.6.7/js/plugin-sharing.js\"></script>\n",
       "<script src=\"libs/gitbook-2.6.7/js/plugin-fontsettings.js\"></script>\n",
       "<script src=\"libs/gitbook-2.6.7/js/plugin-bookdown.js\"></script>\n",
       "<script src=\"libs/gitbook-2.6.7/js/jquery.highlight.js\"></script>\n",
       "<script src=\"libs/gitbook-2.6.7/js/plugin-clipboard.js\"></script>\n",
       "<script>\n",
       "gitbook.require([\"gitbook\"], function(gitbook) {\n",
       "gitbook.start({\n",
       "\"sharing\": {\n",
       "\"github\": true,\n",
       "\"facebook\": false,\n",
       "\"twitter\": true,\n",
       "\"linkedin\": true,\n",
       "\"weibo\": false,\n",
       "\"instapaper\": false,\n",
       "\"vk\": false,\n",
       "\"whatsapp\": false,\n",
       "\"all\": [\"facebook\", \"twitter\", \"linkedin\", \"weibo\", \"instapaper\"]\n",
       "},\n",
       "\"fontsettings\": {\n",
       "\"theme\": \"white\",\n",
       "\"family\": \"sans\",\n",
       "\"size\": 2\n",
       "},\n",
       "\"edit\": {\n",
       "\"link\": \"https://github.com/christophM/interpretable-ml-book/edit/master/manuscript/01.3-ml-definitions.Rmd\",\n",
       "\"text\": \"Edit\"\n",
       "},\n",
       "\"history\": {\n",
       "\"link\": null,\n",
       "\"text\": null\n",
       "},\n",
       "\"view\": {\n",
       "\"link\": null,\n",
       "\"text\": null\n",
       "},\n",
       "\"download\": null,\n",
       "\"search\": {\n",
       "\"engine\": \"fuse\",\n",
       "\"options\": null\n",
       "},\n",
       "\"toc\": {\n",
       "\"collapse\": \"subsection\"\n",
       "}\n",
       "});\n",
       "});\n",
       "</script>\n",
       "<!-- dynamically load mathjax for compatibility with self-contained -->\n",
       "<script>\n",
       "  (function () {\n",
       "    var script = document.createElement(\"script\");\n",
       "    script.type = \"text/javascript\";\n",
       "    var src = \"true\";\n",
       "    if (src === \"\" || src === \"true\") src = \"https://cdnjs.cloudflare.com/ajax/libs/mathjax/2.7.9/latest.js?config=TeX-MML-AM_CHTML\";\n",
       "    if (location.protocol !== \"file:\")\n",
       "      if (/^https?:/.test(src))\n",
       "        src = src.replace(/^https?:/, '');\n",
       "    script.src = src;\n",
       "    document.getElementsByTagName(\"head\")[0].appendChild(script);\n",
       "  })();\n",
       "</script>\n",
       "</body>\n",
       "</html>"
      ]
     },
     "execution_count": 12,
     "metadata": {},
     "output_type": "execute_result"
    }
   ],
   "source": [
    "soup = BeautifulSoup(r.text)\n",
    "\n",
    "soup"
   ]
  },
  {
   "cell_type": "markdown",
   "metadata": {},
   "source": [
    "That seems more or less the same but now a little easier to read. What has BeautifulSoup done? Now, we can use the `.find` method to pull out individual page elements, by [tag, class, or id](https://en.wikipedia.org/wiki/HTML#Elements). Here we will just grab the first paragraph element:"
   ]
  },
  {
   "cell_type": "code",
   "execution_count": 13,
   "metadata": {},
   "outputs": [
    {
     "data": {
      "text/plain": [
       "<p>Machine learning is a set of methods that computers use to make and improve predictions or behaviors based on data.</p>"
      ]
     },
     "execution_count": 13,
     "metadata": {},
     "output_type": "execute_result"
    }
   ],
   "source": [
    "soup.find('p')"
   ]
  },
  {
   "cell_type": "markdown",
   "metadata": {},
   "source": [
    "Furthermore, we can use `find_all` to return all elements of a given type in the page as an array and iterate over it, and pull out only the text of each paragraph using the `.text` attribute. Let's look at the first 3 paragraphs:"
   ]
  },
  {
   "cell_type": "code",
   "execution_count": 14,
   "metadata": {},
   "outputs": [
    {
     "name": "stdout",
     "output_type": "stream",
     "text": [
      "Machine learning is a set of methods that computers use to make and improve predictions or behaviors based on data.\n",
      "For example, to predict the value of a house, the computer would learn patterns from past house sales.\n",
      "The book focuses on supervised machine learning, which covers all prediction problems where we have a dataset for which we already know the outcome of interest (e.g. past house prices) and want to learn to predict the outcome for new data.\n",
      "Excluded from supervised learning are for example clustering tasks (= unsupervised learning) where we do not have a specific outcome of interest, but want to find clusters of data points.\n",
      "Also excluded are things like reinforcement learning, where an agent learns to optimize a certain reward by acting in an environment (e.g. a computer playing Tetris).\n",
      "The goal of supervised learning is to learn a predictive model that maps features of the data (e.g. house size, location, floor type, …) to an output (e.g. house price).\n",
      "If the output is categorical, the task is called classification, and if it is numerical, it is called regression.\n",
      "The machine learning algorithm learns a model by estimating parameters (like weights) or learning structures (like trees).\n",
      "The algorithm is guided by a score or loss function that is minimized.\n",
      "In the house value example, the machine minimizes the difference between the estimated house price and the predicted price.\n",
      "A fully trained machine learning model can then be used to make predictions for new instances.\n"
     ]
    }
   ],
   "source": [
    "# Check first 3 elements\n",
    "for elem in soup.find_all(\"p\")[0:2]:\n",
    "    print(elem.text)"
   ]
  },
  {
   "cell_type": "markdown",
   "metadata": {},
   "source": [
    "Great, now let's join it all together, and replace the newline characters with spaces, to create one giant string of text:"
   ]
  },
  {
   "cell_type": "code",
   "execution_count": 35,
   "metadata": {
    "scrolled": true
   },
   "outputs": [
    {
     "name": "stdout",
     "output_type": "stream",
     "text": [
      "Machine learning is a set of methods that computers use to make and improve predictions or behaviors based on data. For example, to predict the value of a house, the computer would learn patterns from past house sales. The book focuses on supervised machine learning, which covers all prediction problems where we have a dataset for which we already know the outcome of interest (e.g. past house prices) and want to learn to predict the outcome for new data. Excluded from supervised learning are for example clustering tasks (= unsupervised learning) where we do not have a specific outcome of interest, but want to find clusters of data points. Also excluded are things like reinforcement learning, where an agent learns to optimize a certain reward by acting in an environment (e.g. a computer playing Tetris). The goal of supervised learning is to learn a predictive model that maps features of the data (e.g. house size, location, floor type, …) to an output (e.g. house price). If the output is categorical, the task is called classification, and if it is numerical, it is called regression. The machine learning algorithm learns a model by estimating parameters (like weights) or learning structures (like trees). The algorithm is guided by a score or loss function that is minimized. In the house value example, the machine minimizes the difference between the estimated house price and the predicted price. A fully trained machine learning model can then be used to make predictions for new instances. Estimation of house prices, product recommendations, street sign detection, credit default prediction and fraud detection: All these examples have in common that they can be solved by machine learning. The tasks are different, but the approach is the same: Step 1: Data collection. The more, the better. The data must contain the outcome you want to predict and additional information from which to make the prediction. For a street sign detector (“Is there a street sign in the image?”), you would collect street images and label whether a street sign is visible or not. For a credit default predictor, you need past data on actual loans, information on whether the customers were in default with their loans, and data that will help you make predictions, such as income, past credit defaults, and so on. For an automatic house value estimator program, you could collect data from past house sales and information about the real estate such as size, location, and so on. Step 2: Enter this information into a machine learning algorithm that generates a sign detector model, a credit rating model or a house value estimator. Step 3: Use model with new data. Integrate the model into a product or process, such as a self-driving car, a credit application process or a real estate marketplace website. Machines surpass humans in many tasks, such as playing chess (or more recently Go) or predicting the weather. Even if the machine is as good as a human or a bit worse at a task, there remain great advantages in terms of speed, reproducibility and scaling. A once implemented machine learning model can complete a task much faster than humans, reliably delivers consistent results and can be copied infinitely. Replicating a machine learning model on another machine is fast and cheap. The training of a human for a task can take decades (especially when they are young) and is very costly. A major disadvantage of using machine learning is that insights about the data and the task the machine solves is hidden in increasingly complex models. You need millions of numbers to describe a deep neural network, and there is no way to understand the model in its entirety. Other models, such as the random forest, consist of hundreds of decision trees that “vote” for predictions. To understand how the decision was made, you would have to look into the votes and structures of each of the hundreds of trees. That just does not work no matter how clever you are or how good your working memory is. The best performing models are often blends of several models (also called ensembles) that cannot be interpreted, even if each single model could be interpreted. If you focus only on performance, you will automatically get more and more opaque models.  The winning models on machine learning competitions are often ensembles of models or very complex models such as boosted trees or deep neural networks. \n"
     ]
    }
   ],
   "source": [
    "text = \"\"\n",
    "\n",
    "for paragraph in soup.find_all(\"p\"):\n",
    "    text += paragraph.text.replace('\\n', ' ') + ' '\n",
    "\n",
    "print(text)"
   ]
  },
  {
   "cell_type": "markdown",
   "metadata": {},
   "source": [
    "We now have a scraped text data from a website! Doing so for more complicated pages or programatically over many pages can be accomplished with more code and inspecting the different pages' structure. The difficulty or ease of doing so will depend upon how the page is site is structured and page code."
   ]
  },
  {
   "cell_type": "markdown",
   "metadata": {},
   "source": [
    "## Data Preprocessing\n",
    "\n",
    "We have now acquired some text. Before using this text in an ML application of NLP, we first need to preprocess the data.\n",
    "\n",
    "As outlined in the slides, major steps in preprocessing text are:\n",
    "- Normalization (addressing case, removing punctuation and stop words, stemming or lemmatization)\n",
    "- Tokenization (breaking up into individual units of language, usually words)\n",
    "- Vectorization (converting tokens to structured numeric data)"
   ]
  },
  {
   "cell_type": "markdown",
   "metadata": {},
   "source": [
    "### Normalization\n",
    "\n",
    "There are a few things we need to do here: *addressing case, removing punctuation, and stemming or lemmatization*. For simplicity's sake, we will not expand contractions (don't, won't, can't, etc.) though this would be another normalization step. We will also only try the simpler technique of stemming, though there are lemmatizers built in to packages such as [nltk](https://www.nltk.org/_modules/nltk/stem/wordnet.html) and [TextBlob](https://textblob.readthedocs.io/en/dev/quickstart.html#words-inflection-and-lemmatization).\n",
    "\n",
    "To standardize the case, we simply convert everything to lowercase:"
   ]
  },
  {
   "cell_type": "code",
   "execution_count": 36,
   "metadata": {},
   "outputs": [
    {
     "data": {
      "text/plain": [
       "'machine learning is a set of methods that computers use to make and improve predictions or behaviors based on data. for example, to predict the value of a house, the computer would learn patterns from past house sales. the book focuses on supervised machine learning, which covers all prediction problems where we have a dataset for which we already know the outcome of interest (e.g.\\xa0past house prices) and want to learn to predict the outcome for new data. excluded from supervised learning are for'"
      ]
     },
     "execution_count": 36,
     "metadata": {},
     "output_type": "execute_result"
    }
   ],
   "source": [
    "# Convert to lower case\n",
    "text = text.lower()\n",
    "text[0:500]"
   ]
  },
  {
   "cell_type": "markdown",
   "metadata": {},
   "source": [
    "It appears there are also some unicode characters mixed in there, which is never good. Dealing with special characters and different text encodings can be one of the challenge parts of doing NLP. We will change the encoding to ASCII to address these:"
   ]
  },
  {
   "cell_type": "code",
   "execution_count": 37,
   "metadata": {},
   "outputs": [
    {
     "data": {
      "text/plain": [
       "'machine learning is a set of methods that computers use to make and improve predictions or behaviors based on data. for example, to predict the value of a house, the computer would learn patterns from past house sales. the book focuses on supervised machine learning, which covers all prediction problems where we have a dataset for which we already know the outcome of interest (e.g.past house prices) and want to learn to predict the outcome for new data. excluded from supervised learning are for '"
      ]
     },
     "execution_count": 37,
     "metadata": {},
     "output_type": "execute_result"
    }
   ],
   "source": [
    "text = text.encode('ASCII', errors='ignore').decode()\n",
    "text[0:500]"
   ]
  },
  {
   "cell_type": "markdown",
   "metadata": {},
   "source": [
    "That's better, we can see the special characters like `\\xa0` that were present before are now gone. Next we will remove all punctuation. Fortunately, all the punctuation characters are contained in a string stored in the python `string` base module:"
   ]
  },
  {
   "cell_type": "code",
   "execution_count": 38,
   "metadata": {},
   "outputs": [
    {
     "name": "stdout",
     "output_type": "stream",
     "text": [
      "!\"#$%&'()*+,-./:;<=>?@[\\]^_`{|}~\n"
     ]
    }
   ],
   "source": [
    "from string import punctuation\n",
    "\n",
    "print(punctuation)"
   ]
  },
  {
   "cell_type": "markdown",
   "metadata": {},
   "source": [
    "We can now iterate over each punctuation character, and update the text, replacing it with the empty string `''`:"
   ]
  },
  {
   "cell_type": "code",
   "execution_count": 39,
   "metadata": {},
   "outputs": [],
   "source": [
    "for punctuation_mark in punctuation:\n",
    "    text = text.replace(punctuation_mark, '')"
   ]
  },
  {
   "cell_type": "code",
   "execution_count": 40,
   "metadata": {},
   "outputs": [
    {
     "data": {
      "text/plain": [
       "'machine learning is a set of methods that computers use to make and improve predictions or behaviors based on data for example to predict the value of a house the computer would learn patterns from past house sales the book focuses on supervised machine learning which covers all prediction problems where we have a dataset for which we already know the outcome of interest egpast house prices and want to learn to predict the outcome for new data excluded from supervised learning are for example clustering tasks  unsupervised learning where we do not have a specific outcome of interest but want to find clusters of data points also excluded are things like reinforcement learning where an agent learns to optimize a certain reward by acting in an environment ega computer playing tetris the goal of supervised learning is to learn a predictive model that maps features of the data eghouse size location floor type  to an output eghouse price if the output is categorical the task is called classi'"
      ]
     },
     "execution_count": 40,
     "metadata": {},
     "output_type": "execute_result"
    }
   ],
   "source": [
    "# Check the result\n",
    "text[0:1000]"
   ]
  },
  {
   "cell_type": "markdown",
   "metadata": {},
   "source": [
    "We can already see some strange things are happening, such as the *e.g.* getting folded into the words \"past\" and \"house\" to create the tokens \"egpast\" and \"eghouse\". Preprocessing text is not an exact science... we will proceed as is for now, though there perhaps could have been better ways to tokenize or deal with problematic portions of this text such as abbreviations."
   ]
  },
  {
   "cell_type": "markdown",
   "metadata": {},
   "source": [
    "### Stemming\n",
    "Stemming and lemmatization are built into the very powerful [nltk toolkit](https://www.nltk.org/). Here we choose to do simple stemming using the `SnowBallStemmer` (a particular type of stemming algorithm):"
   ]
  },
  {
   "cell_type": "code",
   "execution_count": 42,
   "metadata": {},
   "outputs": [
    {
     "data": {
      "text/plain": [
       "'run'"
      ]
     },
     "execution_count": 42,
     "metadata": {},
     "output_type": "execute_result"
    }
   ],
   "source": [
    "from nltk.stem import SnowballStemmer\n",
    "\n",
    "# Instantiate stemmer for english\n",
    "sbstem = SnowballStemmer('english')\n",
    "\n",
    "# Check\n",
    "sbstem.stem('running')"
   ]
  },
  {
   "cell_type": "markdown",
   "metadata": {},
   "source": [
    "Stemmers in `nltk` operation on individual tokens, so we must iterate over the freeform text, then join everything back together again:"
   ]
  },
  {
   "cell_type": "code",
   "execution_count": 43,
   "metadata": {},
   "outputs": [],
   "source": [
    "# Create an empty list for the stemmed words\n",
    "stemmed_words = list()\n",
    "\n",
    "# Iterate over each word and stem and add to new string\n",
    "for word in text.split(' '):\n",
    "    stemmed_words.append(sbstem.stem(word))\n",
    "    \n",
    "# Join it all back together and remove any repeated or extraneous spaces\n",
    "text = ' '.join(stemmed_words).strip()"
   ]
  },
  {
   "cell_type": "code",
   "execution_count": 44,
   "metadata": {},
   "outputs": [
    {
     "data": {
      "text/plain": [
       "'machin learn is a set of method that comput use to make and improv predict or behavior base on data for exampl to predict the valu of a hous the comput would learn pattern from past hous sale the book focus on supervis machin learn which cover all predict problem where we have a dataset for which we alreadi know the outcom of interest egpast hous price and want to learn to predict the outcom for new data exclud from supervis learn are for exampl cluster task  unsupervis learn where we do not hav'"
      ]
     },
     "execution_count": 44,
     "metadata": {},
     "output_type": "execute_result"
    }
   ],
   "source": [
    "# Check\n",
    "text[0:500]"
   ]
  },
  {
   "cell_type": "markdown",
   "metadata": {},
   "source": [
    "We can see that words like *machine* have been stemmed to *machin*, and *improve* to *improv*, and so on, so we appear to have applied stemming correctly. This is enough normalization for now, and we can move on to tokenizing and vectorizing our text."
   ]
  },
  {
   "cell_type": "markdown",
   "metadata": {},
   "source": [
    "### Tokenization"
   ]
  },
  {
   "cell_type": "markdown",
   "metadata": {},
   "source": [
    "Our approach for tokenization could be as simple as splitting on whitespace. As we saw above, we actually did this step and then undid it, as the `nltk` stemmer works on individual words. Alternatively, we could have applied stemming *after* or as part of tokenization, as the different steps in text preprocessing are not necessarily always in a particular order depending upon implementation).\n",
    "\n",
    "Splitting on whitespace is as simple as using the `.split()` method in base python built in to any string variable:"
   ]
  },
  {
   "cell_type": "code",
   "execution_count": 45,
   "metadata": {},
   "outputs": [
    {
     "data": {
      "text/plain": [
       "['machin', 'learn', 'is', 'a', 'set', 'of', 'method', 'that', 'comput', 'use']"
      ]
     },
     "execution_count": 45,
     "metadata": {},
     "output_type": "execute_result"
    }
   ],
   "source": [
    "# Tokenize and show first 10 tokens\n",
    "text.split(' ')[0:10]"
   ]
  },
  {
   "cell_type": "markdown",
   "metadata": {},
   "source": [
    "More sophisticated approaches for tokenization exist. We actually do not need do this step manually, as it is included in the vectorization step in code as part of `scikit-learn` as we will see below."
   ]
  },
  {
   "cell_type": "markdown",
   "metadata": {},
   "source": [
    "### Vectorization\n",
    "\n",
    "There are two standard types of vectorization used in traditional NLP: *count vectorization* and *term frequency - inverse document frequency (tf-idf)* vectorization. Binary (\"One-hot\") encoding with a boolean (0/1) flag for word occurrence in each document can also be done, though this is less common.\n",
    "\n",
    "The two former vectorization methods are implemented in `scikit-learn` in the `feature_extraction.text` submodule and we can apply as below:"
   ]
  },
  {
   "cell_type": "code",
   "execution_count": 46,
   "metadata": {},
   "outputs": [],
   "source": [
    "from sklearn.feature_extraction.text import CountVectorizer, TfidfVectorizer\n",
    "\n",
    "# Instatiate, fit and transform - Count vectorization\n",
    "cv = CountVectorizer()\n",
    "count_vectorized = cv.fit_transform([text])\n",
    "\n",
    "# Instatiate, fit and transform - TF-IDF vectorization\n",
    "tfidf = TfidfVectorizer()\n",
    "tfidf_vectorized = tfidf.fit_transform([text])"
   ]
  },
  {
   "cell_type": "markdown",
   "metadata": {},
   "source": [
    "Let's take a look at the outputs:"
   ]
  },
  {
   "cell_type": "code",
   "execution_count": 47,
   "metadata": {},
   "outputs": [
    {
     "data": {
      "text/plain": [
       "<1x263 sparse matrix of type '<class 'numpy.int64'>'\n",
       "\twith 263 stored elements in Compressed Sparse Row format>"
      ]
     },
     "execution_count": 47,
     "metadata": {},
     "output_type": "execute_result"
    }
   ],
   "source": [
    "count_vectorized"
   ]
  },
  {
   "cell_type": "markdown",
   "metadata": {},
   "source": [
    "This is a sparse matrix - the *document-term matrix* - with each feature (column) being a token that appeared in the documents (rows), so there are 263 unique tokens in our single document of text. This can be cast into a dense array and we can pass the tokens as the column names using pandas:"
   ]
  },
  {
   "cell_type": "code",
   "execution_count": 48,
   "metadata": {},
   "outputs": [
    {
     "data": {
      "text/html": [
       "<div>\n",
       "<style scoped>\n",
       "    .dataframe tbody tr th:only-of-type {\n",
       "        vertical-align: middle;\n",
       "    }\n",
       "\n",
       "    .dataframe tbody tr th {\n",
       "        vertical-align: top;\n",
       "    }\n",
       "\n",
       "    .dataframe thead th {\n",
       "        text-align: right;\n",
       "    }\n",
       "</style>\n",
       "<table border=\"1\" class=\"dataframe\">\n",
       "  <thead>\n",
       "    <tr style=\"text-align: right;\">\n",
       "      <th></th>\n",
       "      <th>about</th>\n",
       "      <th>act</th>\n",
       "      <th>actual</th>\n",
       "      <th>addit</th>\n",
       "      <th>advantag</th>\n",
       "      <th>agent</th>\n",
       "      <th>algorithm</th>\n",
       "      <th>all</th>\n",
       "      <th>alreadi</th>\n",
       "      <th>also</th>\n",
       "      <th>...</th>\n",
       "      <th>which</th>\n",
       "      <th>will</th>\n",
       "      <th>win</th>\n",
       "      <th>with</th>\n",
       "      <th>work</th>\n",
       "      <th>wors</th>\n",
       "      <th>would</th>\n",
       "      <th>you</th>\n",
       "      <th>young</th>\n",
       "      <th>your</th>\n",
       "    </tr>\n",
       "  </thead>\n",
       "  <tbody>\n",
       "    <tr>\n",
       "      <th>0</th>\n",
       "      <td>2</td>\n",
       "      <td>1</td>\n",
       "      <td>1</td>\n",
       "      <td>1</td>\n",
       "      <td>1</td>\n",
       "      <td>1</td>\n",
       "      <td>3</td>\n",
       "      <td>2</td>\n",
       "      <td>1</td>\n",
       "      <td>2</td>\n",
       "      <td>...</td>\n",
       "      <td>3</td>\n",
       "      <td>2</td>\n",
       "      <td>1</td>\n",
       "      <td>2</td>\n",
       "      <td>2</td>\n",
       "      <td>1</td>\n",
       "      <td>3</td>\n",
       "      <td>10</td>\n",
       "      <td>1</td>\n",
       "      <td>1</td>\n",
       "    </tr>\n",
       "  </tbody>\n",
       "</table>\n",
       "<p>1 rows × 263 columns</p>\n",
       "</div>"
      ],
      "text/plain": [
       "   about  act  actual  addit  advantag  agent  algorithm  all  alreadi  also  \\\n",
       "0      2    1       1      1         1      1          3    2        1     2   \n",
       "\n",
       "   ...  which  will  win  with  work  wors  would  you  young  your  \n",
       "0  ...      3     2    1     2     2     1      3   10      1     1  \n",
       "\n",
       "[1 rows x 263 columns]"
      ]
     },
     "execution_count": 48,
     "metadata": {},
     "output_type": "execute_result"
    }
   ],
   "source": [
    "import pandas as pd\n",
    "count_df = pd.DataFrame(count_vectorized.todense(), columns=cv.get_feature_names_out())\n",
    "\n",
    "count_df.head()"
   ]
  },
  {
   "cell_type": "markdown",
   "metadata": {},
   "source": [
    "Great, we now have a count of the number of occurrences of each token in our text!\n",
    "\n",
    "Contrast this with the floating point numbers from tf-idf vectorization:"
   ]
  },
  {
   "cell_type": "code",
   "execution_count": 49,
   "metadata": {},
   "outputs": [
    {
     "data": {
      "text/html": [
       "<div>\n",
       "<style scoped>\n",
       "    .dataframe tbody tr th:only-of-type {\n",
       "        vertical-align: middle;\n",
       "    }\n",
       "\n",
       "    .dataframe tbody tr th {\n",
       "        vertical-align: top;\n",
       "    }\n",
       "\n",
       "    .dataframe thead th {\n",
       "        text-align: right;\n",
       "    }\n",
       "</style>\n",
       "<table border=\"1\" class=\"dataframe\">\n",
       "  <thead>\n",
       "    <tr style=\"text-align: right;\">\n",
       "      <th></th>\n",
       "      <th>about</th>\n",
       "      <th>act</th>\n",
       "      <th>actual</th>\n",
       "      <th>addit</th>\n",
       "      <th>advantag</th>\n",
       "      <th>agent</th>\n",
       "      <th>algorithm</th>\n",
       "      <th>all</th>\n",
       "      <th>alreadi</th>\n",
       "      <th>also</th>\n",
       "      <th>...</th>\n",
       "      <th>which</th>\n",
       "      <th>will</th>\n",
       "      <th>win</th>\n",
       "      <th>with</th>\n",
       "      <th>work</th>\n",
       "      <th>wors</th>\n",
       "      <th>would</th>\n",
       "      <th>you</th>\n",
       "      <th>young</th>\n",
       "      <th>your</th>\n",
       "    </tr>\n",
       "  </thead>\n",
       "  <tbody>\n",
       "    <tr>\n",
       "      <th>0</th>\n",
       "      <td>0.02557</td>\n",
       "      <td>0.012785</td>\n",
       "      <td>0.012785</td>\n",
       "      <td>0.012785</td>\n",
       "      <td>0.012785</td>\n",
       "      <td>0.012785</td>\n",
       "      <td>0.038355</td>\n",
       "      <td>0.02557</td>\n",
       "      <td>0.012785</td>\n",
       "      <td>0.02557</td>\n",
       "      <td>...</td>\n",
       "      <td>0.038355</td>\n",
       "      <td>0.02557</td>\n",
       "      <td>0.012785</td>\n",
       "      <td>0.02557</td>\n",
       "      <td>0.02557</td>\n",
       "      <td>0.012785</td>\n",
       "      <td>0.038355</td>\n",
       "      <td>0.127848</td>\n",
       "      <td>0.012785</td>\n",
       "      <td>0.012785</td>\n",
       "    </tr>\n",
       "  </tbody>\n",
       "</table>\n",
       "<p>1 rows × 263 columns</p>\n",
       "</div>"
      ],
      "text/plain": [
       "     about       act    actual     addit  advantag     agent  algorithm  \\\n",
       "0  0.02557  0.012785  0.012785  0.012785  0.012785  0.012785   0.038355   \n",
       "\n",
       "       all   alreadi     also  ...     which     will       win     with  \\\n",
       "0  0.02557  0.012785  0.02557  ...  0.038355  0.02557  0.012785  0.02557   \n",
       "\n",
       "      work      wors     would       you     young      your  \n",
       "0  0.02557  0.012785  0.038355  0.127848  0.012785  0.012785  \n",
       "\n",
       "[1 rows x 263 columns]"
      ]
     },
     "execution_count": 49,
     "metadata": {},
     "output_type": "execute_result"
    }
   ],
   "source": [
    "tfidf_df = pd.DataFrame(tfidf_vectorized.todense(), columns=tfidf.get_feature_names_out())\n",
    "\n",
    "tfidf_df.head()"
   ]
  },
  {
   "cell_type": "markdown",
   "metadata": {},
   "source": [
    "From our count vectorization, we now have a count of each token. Normally our document-term matrix would have many rows, one for each document in our corpus. Nonetheless, we can find the most frequently occurring tokens in the text we scraped by doing a simple sort and making a bar chart:"
   ]
  },
  {
   "cell_type": "code",
   "execution_count": 50,
   "metadata": {},
   "outputs": [
    {
     "data": {
      "image/png": "[encoded data removed]",
      "text/plain": [
       "<Figure size 640x480 with 1 Axes>"
      ]
     },
     "metadata": {},
     "output_type": "display_data"
    }
   ],
   "source": [
    "import matplotlib.pyplot as plt\n",
    "count_df.T[0].sort_values().tail(10).plot(kind='barh')\n",
    "plt.xlabel('Count of occurrence')\n",
    "plt.ylabel('Token')\n",
    "plt.title('Most Frequently Occuring Tokens')\n",
    "plt.show()"
   ]
  },
  {
   "cell_type": "markdown",
   "metadata": {},
   "source": [
    "We can see that many of the most frequently occuring tokens are [stop words](https://en.wikipedia.org/wiki/Stop_word). We could have dealt with these as part of preprocessing, however, fortunately for us basic stopword removal is built into the vectorizers in scikit-learn and so this can be done concurrently. \n",
    "\n",
    "So we will take a step back here and re-vectorize our data, while removing stopwords, then replot the result:"
   ]
  },
  {
   "cell_type": "code",
   "execution_count": 51,
   "metadata": {},
   "outputs": [
    {
     "data": {
      "image/png": "[encoded data removed]",
      "text/plain": [
       "<Figure size 640x480 with 1 Axes>"
      ]
     },
     "metadata": {},
     "output_type": "display_data"
    }
   ],
   "source": [
    "from sklearn.feature_extraction.text import CountVectorizer, TfidfVectorizer\n",
    "\n",
    "# Instatiate, fit and transform - Count vectorization\n",
    "cv = CountVectorizer(stop_words='english')\n",
    "count_vectorized = cv.fit_transform([text])\n",
    "\n",
    "# Recreate the dataframe\n",
    "count_df = pd.DataFrame(count_vectorized.todense(), columns=cv.get_feature_names_out())\n",
    "\n",
    "# Visualize again\n",
    "count_df.T[0].sort_values().tail(10).plot(kind='barh')\n",
    "plt.xlabel('Count of occurrence')\n",
    "plt.ylabel('Token')\n",
    "plt.title('Most Frequently Occuring Tokens')\n",
    "plt.show()"
   ]
  },
  {
   "cell_type": "markdown",
   "metadata": {},
   "source": [
    "This seems to be more representative, given what we know about the topic of the original text. Without doing any machine learning, we have done some basic text analytics (content analysis) given we now have structured data!\n",
    "\n",
    "Here we have performed the basics of the preprocessing steps for text on a single document. In practice, this would be done over a very large corpus of many documents, and the document-term matrix produced from vectorization can grown quite large. "
   ]
  },
  {
   "cell_type": "markdown",
   "metadata": {},
   "source": [
    "----\n",
    "<table border=\"0\" bgcolor=\"white\">\n",
    "  <tr></tr>\n",
    "  <tr>\n",
    "      <th align=\"left\" style=\"align:left; vertical-align: bottom;\"><p><img src=\"https://raw.githubusercontent.com/nlpfromscratch/nlp4free/master/assets/Cc_by-nc_icon.png\" style=\"width:15%; float:left\">\n",
    "</p></th>\n",
    "      <th aligh=\"right\" width=\"33%\"><a href=\"https://www.nlpfromscratch.com?utm_source=notebook&utm_medium=nb-footer-img\"><img src=\"https://drive.google.com/uc?export=view&id=1-lt6Uft8lgBG9jPD0dO6w3dAcv_EUQRP\"></th>\n",
    "</tr>\n",
    "</table>"
   ]
  }
 ],
 "metadata": {
  "colab": {
   "provenance": []
  },
  "kernelspec": {
   "display_name": "Python 3 (ipykernel)",
   "language": "python",
   "name": "python3"
  },
  "language_info": {
   "codemirror_mode": {
    "name": "ipython",
    "version": 3
   },
   "file_extension": ".py",
   "mimetype": "text/x-python",
   "name": "python",
   "nbconvert_exporter": "python",
   "pygments_lexer": "ipython3",
   "version": "3.11.1"
  }
 },
 "nbformat": 4,
 "nbformat_minor": 4
}
