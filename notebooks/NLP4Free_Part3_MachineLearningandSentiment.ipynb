{
 "cells": [
  {
   "cell_type": "markdown",
   "id": "d6c54d8e",
   "metadata": {
    "id": "d6c54d8e"
   },
   "source": [
    "![image.png](https://raw.githubusercontent.com/mylesmharrison/nlp4free/master/assets/NLP4Free%20-%20Part%203%20-%20Machine%20Learning%20%26%20Sentiment%20Analysis.png)\n",
    "\n",
    "---\n",
    "\n",
    "### License\n",
    "\n",
    "This work is licensed under a [Creative Commons NonCommerical License](https://creativecommons.org/licenses/by-nc/4.0/).\n",
    "\n",
    "\n",
    "<img src='https://raw.githubusercontent.com/nlpfromscratch/nlp4free/master/assets/Cc_by-nc_icon.png' style=\"width:25%\"/>\n",
    "\n",
    "You are free to:\n",
    "- **Share** — copy and redistribute the material in any medium or format\n",
    "- **Adapt** — remix, transform, and build upon the material. The licensor cannot revoke these freedoms as long as you follow the license terms.\n",
    "\n",
    "Under the following terms:\n",
    "- **Attribution** — You must give appropriate credit, provide a link to the license, and indicate if changes were made. You may do so in any reasonable manner, but not in any way that suggests the licensor endorses you or your use.\n",
    "- **NonCommercial** — You may not use the material for commercial purposes.\n",
    "\n",
    "---"
   ]
  },
  {
   "cell_type": "markdown",
   "id": "f323b7bd",
   "metadata": {
    "id": "2b6200c8"
   },
   "source": [
    "# Part 3 - Machine Learning and Sentiment Analysis"
   ]
  },
  {
   "cell_type": "markdown",
   "id": "982def44",
   "metadata": {
    "id": "2b6200c8"
   },
   "source": [
    "<a target=\"_blank\" href=\"https://colab.research.google.com/github/mylesmharrison/nlp4free/blob/master/notebooks/NLP4Free_Part3_MachineLearningandSentiment.ipynb\"><img src=\"https://colab.research.google.com/assets/colab-badge.svg\" alt=\"Open In Colab\" align=\"left\"/></a>"
   ]
  },
  {
   "cell_type": "markdown",
   "id": "cb5d20f3",
   "metadata": {
    "id": "d2109366"
   },
   "source": [
    "## Sentiment Analysis using Pretrained Models"
   ]
  },
  {
   "cell_type": "markdown",
   "id": "6953670f",
   "metadata": {
    "id": "eb425e78"
   },
   "source": [
    "### Using `nltk`\n",
    "A sentiment model scoring model is built into `nltk`. It is based upon the [VADER (*V*alence *A*ware *D*ictionary and s*E*ntiment *R*easoner) model](https://github.com/cjhutto/vaderSentiment) which is a rules and lexicon based sentiment scoring model, by C.J. Hutto and E.E. Gilbert.\n",
    "\n",
    "First we must download the `vader` package within NLTK:"
   ]
  },
  {
   "cell_type": "code",
   "execution_count": 2,
   "id": "582f558c",
   "metadata": {
    "colab": {
     "base_uri": "https://localhost:8080/"
    },
    "id": "49124e77",
    "outputId": "b439f664-47b0-4497-9453-8a2ce0703940"
   },
   "outputs": [
    {
     "name": "stderr",
     "output_type": "stream",
     "text": [
      "[nltk_data] Downloading package vader_lexicon to\n",
      "[nltk_data]     C:\\Users\\myles\\AppData\\Roaming\\nltk_data...\n",
      "[nltk_data]   Package vader_lexicon is already up-to-date!\n"
     ]
    },
    {
     "data": {
      "text/plain": [
       "True"
      ]
     },
     "execution_count": 2,
     "metadata": {},
     "output_type": "execute_result"
    }
   ],
   "source": [
    "import nltk\n",
    "nltk.download('vader_lexicon')"
   ]
  },
  {
   "cell_type": "markdown",
   "id": "d55daf7e",
   "metadata": {},
   "source": [
    "Now that the package has been downloaded, we create an object of type `SentimentIntensityAnalyzer`:"
   ]
  },
  {
   "cell_type": "code",
   "execution_count": 3,
   "id": "de438c62",
   "metadata": {
    "id": "1b56ce63"
   },
   "outputs": [],
   "source": [
    "from nltk.sentiment import SentimentIntensityAnalyzer\n",
    "\n",
    "sia = SentimentIntensityAnalyzer()"
   ]
  },
  {
   "cell_type": "markdown",
   "id": "62e6e9db",
   "metadata": {
    "id": "49f37879"
   },
   "source": [
    "Now we can pass string data into the analyzer and receive sentiment scores in return by calling the `polarity_scores` method:"
   ]
  },
  {
   "cell_type": "code",
   "execution_count": 4,
   "id": "d458a746",
   "metadata": {
    "colab": {
     "base_uri": "https://localhost:8080/",
     "height": 36
    },
    "id": "161c9748",
    "outputId": "14034495-de7d-47c5-901a-ce7bc03d2b14"
   },
   "outputs": [
    {
     "data": {
      "text/plain": [
       "\"I love applesauce, it's the greatest!\""
      ]
     },
     "metadata": {},
     "output_type": "display_data"
    }
   ],
   "source": [
    "samplestring = \"I love applesauce, it's the greatest!\"\n",
    "display(samplestring)"
   ]
  },
  {
   "cell_type": "code",
   "execution_count": 5,
   "id": "918b6c29",
   "metadata": {
    "colab": {
     "base_uri": "https://localhost:8080/"
    },
    "id": "6b39db7d",
    "outputId": "6d837096-adbd-4543-b50f-a59de7021441"
   },
   "outputs": [
    {
     "data": {
      "text/plain": [
       "{'neg': 0.0, 'neu': 0.257, 'pos': 0.743, 'compound': 0.8655}"
      ]
     },
     "metadata": {},
     "output_type": "display_data"
    }
   ],
   "source": [
    "scores = sia.polarity_scores(samplestring)\n",
    "display(scores)"
   ]
  },
  {
   "cell_type": "markdown",
   "id": "88b372c3",
   "metadata": {},
   "source": [
    "We can see the analyzer returns multiple scores:\n",
    "- A `neg`ative score, the likelihood the sentiment is negative\n",
    "- A `neu`tral score, the likelihood the sentiment is neutral\n",
    "- A `pos`itive score, the likelihood the sentiment is positive\n",
    "\n",
    "All of these above are expressed as probabilities from 0-1, and so should add to 1:"
   ]
  },
  {
   "cell_type": "code",
   "execution_count": 6,
   "id": "4c3efac5",
   "metadata": {},
   "outputs": [
    {
     "name": "stdout",
     "output_type": "stream",
     "text": [
      "1.0\n"
     ]
    }
   ],
   "source": [
    "print(scores['neg'] + scores['neu'] + scores['pos'])"
   ]
  },
  {
   "cell_type": "markdown",
   "id": "0a464991",
   "metadata": {},
   "source": [
    "Furthermore, a `compound` score is returned, which is the standard sentiment score, a real value between -1 and 1 for negative and positive sentiment respectively:"
   ]
  },
  {
   "cell_type": "code",
   "execution_count": 7,
   "id": "16895ac9",
   "metadata": {},
   "outputs": [
    {
     "data": {
      "text/plain": [
       "0.8555"
      ]
     },
     "execution_count": 7,
     "metadata": {},
     "output_type": "execute_result"
    }
   ],
   "source": [
    "# Positive\n",
    "sia.polarity_scores('I love applesauce, it is the greatest')['compound']"
   ]
  },
  {
   "cell_type": "code",
   "execution_count": 8,
   "id": "7d5c6f3b",
   "metadata": {},
   "outputs": [
    {
     "data": {
      "text/plain": [
       "-0.8316"
      ]
     },
     "execution_count": 8,
     "metadata": {},
     "output_type": "execute_result"
    }
   ],
   "source": [
    "# Negative\n",
    "sia.polarity_scores('I hate applesauce, it is just the worst')['compound']"
   ]
  },
  {
   "cell_type": "code",
   "execution_count": 9,
   "id": "c48c954a",
   "metadata": {},
   "outputs": [
    {
     "data": {
      "text/plain": [
       "0.1027"
      ]
     },
     "execution_count": 9,
     "metadata": {},
     "output_type": "execute_result"
    }
   ],
   "source": [
    "# Neutral\n",
    "sia.polarity_scores('Applesauce is ok, I guess. I am indifferent toward it.')['compound']"
   ]
  },
  {
   "cell_type": "markdown",
   "id": "18c904dc",
   "metadata": {
    "id": "534073f6"
   },
   "source": [
    "### Using `TextBlob`"
   ]
  },
  {
   "cell_type": "markdown",
   "id": "92f3abfb",
   "metadata": {},
   "source": [
    "[TextBlob](https://textblob.readthedocs.io/) is a general-purpose text processing and NLP library for a number of tasks, including sentiment. The sentiment scoring model in TextBlob is based upon that in the [pattern library](https://github.com/clips/pattern) for information mining.\n",
    "\n",
    "To do sentiment analysis with TextBlob, we create a `TextBlob` object:"
   ]
  },
  {
   "cell_type": "code",
   "execution_count": 10,
   "id": "516729d0",
   "metadata": {
    "colab": {
     "base_uri": "https://localhost:8080/"
    },
    "id": "8857f307",
    "outputId": "838f0651-d460-4e54-fdb9-a67ad1cad6cb"
   },
   "outputs": [
    {
     "data": {
      "text/plain": [
       "TextBlob(\"I love applesauce, it's the greatest!\")"
      ]
     },
     "execution_count": 10,
     "metadata": {},
     "output_type": "execute_result"
    }
   ],
   "source": [
    "from textblob import TextBlob\n",
    "\n",
    "sampleblob = TextBlob(samplestring)\n",
    "sampleblob"
   ]
  },
  {
   "cell_type": "markdown",
   "id": "8a9e9d6d",
   "metadata": {},
   "source": [
    "By default, the object has a precomputed `sentiment` attribute:"
   ]
  },
  {
   "cell_type": "code",
   "execution_count": 11,
   "id": "3454335b",
   "metadata": {
    "colab": {
     "base_uri": "https://localhost:8080/"
    },
    "id": "db27458c",
    "outputId": "43559d74-9598-4583-fd1e-f9646f56a7df"
   },
   "outputs": [
    {
     "data": {
      "text/plain": [
       "Sentiment(polarity=0.75, subjectivity=0.8)"
      ]
     },
     "execution_count": 11,
     "metadata": {},
     "output_type": "execute_result"
    }
   ],
   "source": [
    "sampleblob.sentiment"
   ]
  },
  {
   "cell_type": "markdown",
   "id": "839cf56f",
   "metadata": {},
   "source": [
    "We can see TextBlob returns both a sentiment polarity which ranges from -1 to 1, as well as a subjectivity score (0-1):\n"
   ]
  },
  {
   "cell_type": "code",
   "execution_count": 12,
   "id": "52c712de",
   "metadata": {},
   "outputs": [
    {
     "data": {
      "text/plain": [
       "Sentiment(polarity=0.5, subjectivity=0.5)"
      ]
     },
     "execution_count": 12,
     "metadata": {},
     "output_type": "execute_result"
    }
   ],
   "source": [
    "TextBlob('Applesauce is ok, I guess. I am indifferent toward it.').sentiment"
   ]
  },
  {
   "cell_type": "markdown",
   "id": "a108cd29",
   "metadata": {},
   "source": [
    "## Training a Sentiment Model from Scratch"
   ]
  },
  {
   "cell_type": "markdown",
   "id": "2b6200c8",
   "metadata": {
    "id": "2b6200c8"
   },
   "source": [
    "Now we will be apply supervised learning to a sentiment analysis problem by training a model on labelled data. First we will load and preprocess a labelled text dataset, then fit and use a simple linear model for the binary classification task of positive and negative sentiment.\n",
    "\n",
    "Here we be working a random 10% sample of the [Large Movie Review Dataset](https://www.kaggle.com/datasets/lakshmi25npathi/imdb-dataset-of-50k-movie-reviews), a set of 50,000 \"highly polar\" movie reviews collected from the [Internet Movie Database](https://www.imdb.com).\n",
    "\n",
    "First, we'll read in the data:"
   ]
  },
  {
   "cell_type": "code",
   "execution_count": 1,
   "id": "02cb5150",
   "metadata": {
    "id": "02cb5150"
   },
   "outputs": [],
   "source": [
    "import pandas as pd\n",
    "\n",
    "reviews_df = pd.read_csv('../data/imdb_reviews_sample.csv')"
   ]
  },
  {
   "cell_type": "markdown",
   "id": "4f721eff",
   "metadata": {
    "id": "4f721eff"
   },
   "source": [
    "Let's take a look at the data and see what we are working with:"
   ]
  },
  {
   "cell_type": "code",
   "execution_count": 14,
   "id": "f516150c",
   "metadata": {
    "colab": {
     "base_uri": "https://localhost:8080/",
     "height": 206
    },
    "id": "f516150c",
    "outputId": "0d0b058b-2d70-483e-c670-f45f99d268c2"
   },
   "outputs": [
    {
     "data": {
      "text/html": [
       "<div>\n",
       "<style scoped>\n",
       "    .dataframe tbody tr th:only-of-type {\n",
       "        vertical-align: middle;\n",
       "    }\n",
       "\n",
       "    .dataframe tbody tr th {\n",
       "        vertical-align: top;\n",
       "    }\n",
       "\n",
       "    .dataframe thead th {\n",
       "        text-align: right;\n",
       "    }\n",
       "</style>\n",
       "<table border=\"1\" class=\"dataframe\">\n",
       "  <thead>\n",
       "    <tr style=\"text-align: right;\">\n",
       "      <th></th>\n",
       "      <th>review</th>\n",
       "      <th>sentiment</th>\n",
       "    </tr>\n",
       "  </thead>\n",
       "  <tbody>\n",
       "    <tr>\n",
       "      <th>0</th>\n",
       "      <td>Valley Girl is an exceptionally well made film...</td>\n",
       "      <td>1</td>\n",
       "    </tr>\n",
       "    <tr>\n",
       "      <th>1</th>\n",
       "      <td>This is one of those inoffensive and mildly en...</td>\n",
       "      <td>0</td>\n",
       "    </tr>\n",
       "    <tr>\n",
       "      <th>2</th>\n",
       "      <td>I really wanted to like this movie - the locat...</td>\n",
       "      <td>0</td>\n",
       "    </tr>\n",
       "    <tr>\n",
       "      <th>3</th>\n",
       "      <td>I attended the premier last night. The movie s...</td>\n",
       "      <td>0</td>\n",
       "    </tr>\n",
       "    <tr>\n",
       "      <th>4</th>\n",
       "      <td>The Deadly Wake is THE PERFECT MOVIE for film ...</td>\n",
       "      <td>0</td>\n",
       "    </tr>\n",
       "  </tbody>\n",
       "</table>\n",
       "</div>"
      ],
      "text/plain": [
       "                                              review  sentiment\n",
       "0  Valley Girl is an exceptionally well made film...          1\n",
       "1  This is one of those inoffensive and mildly en...          0\n",
       "2  I really wanted to like this movie - the locat...          0\n",
       "3  I attended the premier last night. The movie s...          0\n",
       "4  The Deadly Wake is THE PERFECT MOVIE for film ...          0"
      ]
     },
     "execution_count": 14,
     "metadata": {},
     "output_type": "execute_result"
    }
   ],
   "source": [
    "reviews_df.head()"
   ]
  },
  {
   "cell_type": "markdown",
   "id": "a9e06520",
   "metadata": {
    "id": "3a1a9bd5"
   },
   "source": [
    "We can see that the there are two columns, the free-form text in the column `review`, and the sentiment class label in the column `sentiment`, with a zero for negative reviews and one for positive reviews. We can also see that we'll need to do some text preprocessing, as there are different letter cases and punctuation present in the review text."
   ]
  },
  {
   "cell_type": "code",
   "execution_count": 15,
   "id": "2b8d43df",
   "metadata": {},
   "outputs": [
    {
     "data": {
      "text/plain": [
       "'Valley Girl is an exceptionally well made film with an all-around great cast. Even though the dialogue is a bit dated now, when the movie was released it was very hip. To this day, I know many people (teenagers included) that cannot form a sentence without using the word \"like\". That is without a doubt the legacy this movie will leave. A rating of 8 was given for this, like, most excellent movie.'"
      ]
     },
     "execution_count": 15,
     "metadata": {},
     "output_type": "execute_result"
    }
   ],
   "source": [
    "reviews_df['review'][0]"
   ]
  },
  {
   "cell_type": "markdown",
   "id": "3a1a9bd5",
   "metadata": {
    "id": "3a1a9bd5"
   },
   "source": [
    "Because we have already covered preprocessing in [Part 2](https://github.com/mylesmharrison/nlp4free/blob/master/notebooks/NLP4Free_Part2_DataAcquisitionandPreprocessing.ipynb), we will gloss over the details here and apply the necessary steps all at once. Only here now, we are applying the preprocessing steps to all documents (reviews) in our corpus, instead of a single piece of text. We opt not to apply stemming in this case for simplicity's sake, and see if we are still able to attain good results."
   ]
  },
  {
   "cell_type": "code",
   "execution_count": 16,
   "id": "9ed2c535",
   "metadata": {},
   "outputs": [
    {
     "data": {
      "text/html": [
       "<div>\n",
       "<style scoped>\n",
       "    .dataframe tbody tr th:only-of-type {\n",
       "        vertical-align: middle;\n",
       "    }\n",
       "\n",
       "    .dataframe tbody tr th {\n",
       "        vertical-align: top;\n",
       "    }\n",
       "\n",
       "    .dataframe thead th {\n",
       "        text-align: right;\n",
       "    }\n",
       "</style>\n",
       "<table border=\"1\" class=\"dataframe\">\n",
       "  <thead>\n",
       "    <tr style=\"text-align: right;\">\n",
       "      <th></th>\n",
       "      <th>review</th>\n",
       "      <th>sentiment</th>\n",
       "    </tr>\n",
       "  </thead>\n",
       "  <tbody>\n",
       "    <tr>\n",
       "      <th>0</th>\n",
       "      <td>valley girl is an exceptionally well made film...</td>\n",
       "      <td>1</td>\n",
       "    </tr>\n",
       "    <tr>\n",
       "      <th>1</th>\n",
       "      <td>this is one of those inoffensive and mildly en...</td>\n",
       "      <td>0</td>\n",
       "    </tr>\n",
       "    <tr>\n",
       "      <th>2</th>\n",
       "      <td>i really wanted to like this movie  the locati...</td>\n",
       "      <td>0</td>\n",
       "    </tr>\n",
       "    <tr>\n",
       "      <th>3</th>\n",
       "      <td>i attended the premier last night the movie st...</td>\n",
       "      <td>0</td>\n",
       "    </tr>\n",
       "    <tr>\n",
       "      <th>4</th>\n",
       "      <td>the deadly wake is the perfect movie for film ...</td>\n",
       "      <td>0</td>\n",
       "    </tr>\n",
       "  </tbody>\n",
       "</table>\n",
       "</div>"
      ],
      "text/plain": [
       "                                              review  sentiment\n",
       "0  valley girl is an exceptionally well made film...          1\n",
       "1  this is one of those inoffensive and mildly en...          0\n",
       "2  i really wanted to like this movie  the locati...          0\n",
       "3  i attended the premier last night the movie st...          0\n",
       "4  the deadly wake is the perfect movie for film ...          0"
      ]
     },
     "execution_count": 16,
     "metadata": {},
     "output_type": "execute_result"
    }
   ],
   "source": [
    "# Make a copy of the original dataframe\n",
    "processed_df = reviews_df.copy()\n",
    "\n",
    "# Change everything to lowercase\n",
    "processed_df['review'] = processed_df['review'].str.lower()\n",
    "\n",
    "# Remove punctuation with regular expression (https://en.wikipedia.org/wiki/Regular_expression)\n",
    "processed_df['review'] = processed_df['review'].str.replace(r'[^\\w\\s]+', '')\n",
    "\n",
    "# Check\n",
    "processed_df.head()"
   ]
  },
  {
   "cell_type": "code",
   "execution_count": 17,
   "id": "d302d195",
   "metadata": {},
   "outputs": [
    {
     "data": {
      "text/plain": [
       "'valley girl is an exceptionally well made film with an allaround great cast even though the dialogue is a bit dated now when the movie was released it was very hip to this day i know many people teenagers included that cannot form a sentence without using the word like that is without a doubt the legacy this movie will leave a rating of 8 was given for this like most excellent movie'"
      ]
     },
     "execution_count": 17,
     "metadata": {},
     "output_type": "execute_result"
    }
   ],
   "source": [
    "processed_df['review'][0]"
   ]
  },
  {
   "cell_type": "code",
   "execution_count": 18,
   "id": "d9c7fdf4",
   "metadata": {},
   "outputs": [
    {
     "data": {
      "text/plain": [
       "<5000x1565 sparse matrix of type '<class 'numpy.int64'>'\n",
       "\twith 269110 stored elements in Compressed Sparse Row format>"
      ]
     },
     "execution_count": 18,
     "metadata": {},
     "output_type": "execute_result"
    }
   ],
   "source": [
    "# Apply count vectorization and remove stopwords\n",
    "# Use the min_df parameter to only keep tokens which appear in at least 1% of documents (50 reviews or more)\n",
    "from sklearn.feature_extraction.text import CountVectorizer\n",
    "\n",
    "cv = CountVectorizer(stop_words='english', min_df=0.01)\n",
    "X = cv.fit_transform(reviews_df['review'])\n",
    "X"
   ]
  },
  {
   "cell_type": "markdown",
   "id": "3fac8fd6",
   "metadata": {},
   "source": [
    "We can see that we have a 5,000 row dataframe with 1,565 columns - which are the features made up of the token counts. This matrix is sparse, so let's convert it to a nice dataframe for convenience. We will also use the tokens stored in the count vectorizer as the feature names to be the column names:"
   ]
  },
  {
   "cell_type": "code",
   "execution_count": 19,
   "id": "c3bf2e93",
   "metadata": {},
   "outputs": [
    {
     "data": {
      "text/html": [
       "<div>\n",
       "<style scoped>\n",
       "    .dataframe tbody tr th:only-of-type {\n",
       "        vertical-align: middle;\n",
       "    }\n",
       "\n",
       "    .dataframe tbody tr th {\n",
       "        vertical-align: top;\n",
       "    }\n",
       "\n",
       "    .dataframe thead th {\n",
       "        text-align: right;\n",
       "    }\n",
       "</style>\n",
       "<table border=\"1\" class=\"dataframe\">\n",
       "  <thead>\n",
       "    <tr style=\"text-align: right;\">\n",
       "      <th></th>\n",
       "      <th>10</th>\n",
       "      <th>100</th>\n",
       "      <th>11</th>\n",
       "      <th>12</th>\n",
       "      <th>13</th>\n",
       "      <th>15</th>\n",
       "      <th>20</th>\n",
       "      <th>30</th>\n",
       "      <th>40</th>\n",
       "      <th>50</th>\n",
       "      <th>...</th>\n",
       "      <th>wrong</th>\n",
       "      <th>wrote</th>\n",
       "      <th>yeah</th>\n",
       "      <th>year</th>\n",
       "      <th>years</th>\n",
       "      <th>yes</th>\n",
       "      <th>york</th>\n",
       "      <th>young</th>\n",
       "      <th>younger</th>\n",
       "      <th>zero</th>\n",
       "    </tr>\n",
       "  </thead>\n",
       "  <tbody>\n",
       "    <tr>\n",
       "      <th>0</th>\n",
       "      <td>0</td>\n",
       "      <td>0</td>\n",
       "      <td>0</td>\n",
       "      <td>0</td>\n",
       "      <td>0</td>\n",
       "      <td>0</td>\n",
       "      <td>0</td>\n",
       "      <td>0</td>\n",
       "      <td>0</td>\n",
       "      <td>0</td>\n",
       "      <td>...</td>\n",
       "      <td>0</td>\n",
       "      <td>0</td>\n",
       "      <td>0</td>\n",
       "      <td>0</td>\n",
       "      <td>0</td>\n",
       "      <td>0</td>\n",
       "      <td>0</td>\n",
       "      <td>0</td>\n",
       "      <td>0</td>\n",
       "      <td>0</td>\n",
       "    </tr>\n",
       "    <tr>\n",
       "      <th>1</th>\n",
       "      <td>0</td>\n",
       "      <td>0</td>\n",
       "      <td>0</td>\n",
       "      <td>0</td>\n",
       "      <td>0</td>\n",
       "      <td>0</td>\n",
       "      <td>0</td>\n",
       "      <td>0</td>\n",
       "      <td>0</td>\n",
       "      <td>0</td>\n",
       "      <td>...</td>\n",
       "      <td>0</td>\n",
       "      <td>0</td>\n",
       "      <td>0</td>\n",
       "      <td>0</td>\n",
       "      <td>0</td>\n",
       "      <td>0</td>\n",
       "      <td>0</td>\n",
       "      <td>0</td>\n",
       "      <td>0</td>\n",
       "      <td>0</td>\n",
       "    </tr>\n",
       "    <tr>\n",
       "      <th>2</th>\n",
       "      <td>0</td>\n",
       "      <td>0</td>\n",
       "      <td>0</td>\n",
       "      <td>0</td>\n",
       "      <td>0</td>\n",
       "      <td>0</td>\n",
       "      <td>0</td>\n",
       "      <td>0</td>\n",
       "      <td>0</td>\n",
       "      <td>0</td>\n",
       "      <td>...</td>\n",
       "      <td>0</td>\n",
       "      <td>0</td>\n",
       "      <td>0</td>\n",
       "      <td>0</td>\n",
       "      <td>0</td>\n",
       "      <td>0</td>\n",
       "      <td>0</td>\n",
       "      <td>0</td>\n",
       "      <td>0</td>\n",
       "      <td>0</td>\n",
       "    </tr>\n",
       "    <tr>\n",
       "      <th>3</th>\n",
       "      <td>0</td>\n",
       "      <td>0</td>\n",
       "      <td>0</td>\n",
       "      <td>0</td>\n",
       "      <td>0</td>\n",
       "      <td>1</td>\n",
       "      <td>0</td>\n",
       "      <td>0</td>\n",
       "      <td>0</td>\n",
       "      <td>0</td>\n",
       "      <td>...</td>\n",
       "      <td>1</td>\n",
       "      <td>0</td>\n",
       "      <td>0</td>\n",
       "      <td>0</td>\n",
       "      <td>0</td>\n",
       "      <td>0</td>\n",
       "      <td>0</td>\n",
       "      <td>0</td>\n",
       "      <td>0</td>\n",
       "      <td>0</td>\n",
       "    </tr>\n",
       "    <tr>\n",
       "      <th>4</th>\n",
       "      <td>0</td>\n",
       "      <td>0</td>\n",
       "      <td>0</td>\n",
       "      <td>0</td>\n",
       "      <td>0</td>\n",
       "      <td>1</td>\n",
       "      <td>0</td>\n",
       "      <td>0</td>\n",
       "      <td>0</td>\n",
       "      <td>0</td>\n",
       "      <td>...</td>\n",
       "      <td>0</td>\n",
       "      <td>0</td>\n",
       "      <td>0</td>\n",
       "      <td>0</td>\n",
       "      <td>0</td>\n",
       "      <td>0</td>\n",
       "      <td>0</td>\n",
       "      <td>0</td>\n",
       "      <td>0</td>\n",
       "      <td>0</td>\n",
       "    </tr>\n",
       "  </tbody>\n",
       "</table>\n",
       "<p>5 rows × 1565 columns</p>\n",
       "</div>"
      ],
      "text/plain": [
       "   10  100  11  12  13  15  20  30  40  50  ...  wrong  wrote  yeah  year  \\\n",
       "0   0    0   0   0   0   0   0   0   0   0  ...      0      0     0     0   \n",
       "1   0    0   0   0   0   0   0   0   0   0  ...      0      0     0     0   \n",
       "2   0    0   0   0   0   0   0   0   0   0  ...      0      0     0     0   \n",
       "3   0    0   0   0   0   1   0   0   0   0  ...      1      0     0     0   \n",
       "4   0    0   0   0   0   1   0   0   0   0  ...      0      0     0     0   \n",
       "\n",
       "   years  yes  york  young  younger  zero  \n",
       "0      0    0     0      0        0     0  \n",
       "1      0    0     0      0        0     0  \n",
       "2      0    0     0      0        0     0  \n",
       "3      0    0     0      0        0     0  \n",
       "4      0    0     0      0        0     0  \n",
       "\n",
       "[5 rows x 1565 columns]"
      ]
     },
     "execution_count": 19,
     "metadata": {},
     "output_type": "execute_result"
    }
   ],
   "source": [
    "X = pd.DataFrame(X.toarray(), columns=cv.get_feature_names_out())\n",
    "\n",
    "# Check\n",
    "X.head()"
   ]
  },
  {
   "cell_type": "markdown",
   "id": "4c65c18d",
   "metadata": {},
   "source": [
    "We can see that the dataframe is mostly zeros, as most tokens only appear in a very small number of reviews. Here we will also pull out the `y` variable which will be our target for the binary classification task:"
   ]
  },
  {
   "cell_type": "code",
   "execution_count": 20,
   "id": "e2bea2e0",
   "metadata": {},
   "outputs": [
    {
     "data": {
      "text/plain": [
       "0    1\n",
       "1    0\n",
       "2    0\n",
       "3    0\n",
       "4    0\n",
       "Name: sentiment, dtype: int64"
      ]
     },
     "execution_count": 20,
     "metadata": {},
     "output_type": "execute_result"
    }
   ],
   "source": [
    "y = processed_df['sentiment']\n",
    "y.head()"
   ]
  },
  {
   "cell_type": "markdown",
   "id": "5e5773e0",
   "metadata": {},
   "source": [
    "We now have our preprocessed text data and an associated target, and so we are ready to fit a supervised machine learning model."
   ]
  },
  {
   "cell_type": "markdown",
   "id": "91e2e6ec",
   "metadata": {},
   "source": [
    "### Fitting a Simple Linear Model\n",
    "\n",
    "Now that we have our training data and target feature, we can fit a simple linear model to make predictions about the sentiment of a given movie review from the words contained within. In this case, since we are doing a binary classification task, we will be using a [logistic regression](https://en.wikipedia.org/wiki/Logistic_regression) model, a type of linear classifier which returns probabilities between 0 and 1.\n",
    "\n",
    "First, in order to prevent overfitting, we will need to split our data into a training set and a test set. We can do this easily using the [train_test_split](https://scikit-learn.org/stable/modules/generated/sklearn.model_selection.train_test_split.html) function which is specifically designed for this purpose. Here we take a test set of 30%, and use 70% for training:"
   ]
  },
  {
   "cell_type": "code",
   "execution_count": 21,
   "id": "f23062cb",
   "metadata": {},
   "outputs": [],
   "source": [
    "from sklearn.model_selection import train_test_split\n",
    "\n",
    "X_train, X_test, y_train, y_test = train_test_split(X, y, test_size=0.3)"
   ]
  },
  {
   "cell_type": "markdown",
   "id": "7fab3c5b",
   "metadata": {},
   "source": [
    "Now we can fit our model. In scikit-learn, this is as easy as a few lines of code. We first import the `LogisticRegression` model class, then fit it on the training data, then call `.score`, passing in the training and test sets to get back accuracy scores. "
   ]
  },
  {
   "cell_type": "code",
   "execution_count": 22,
   "id": "c8b4104a",
   "metadata": {},
   "outputs": [
    {
     "data": {
      "text/plain": [
       "0.9882857142857143"
      ]
     },
     "metadata": {},
     "output_type": "display_data"
    },
    {
     "data": {
      "text/plain": [
       "0.828"
      ]
     },
     "metadata": {},
     "output_type": "display_data"
    }
   ],
   "source": [
    "from sklearn.linear_model import LogisticRegression\n",
    "\n",
    "logit = LogisticRegression()\n",
    "\n",
    "logit.fit(X_train, y_train)\n",
    "\n",
    "display(logit.score(X_train, y_train))\n",
    "display(logit.score(X_test, y_test))"
   ]
  },
  {
   "cell_type": "markdown",
   "id": "5ddc7aca",
   "metadata": {},
   "source": [
    "Here we can see our model is quite overfit, as the score on the training set is much higher than test set. Nonetheless, we will proceed. Since positive sentiment is class 1, the model coefficients which are positive will be more predictive of positive sentiment, and those which are negative more predictive of negative sentiment.\n",
    "\n",
    "We can take a look at the most predictive features (tokens) below with a few simple lines of code:"
   ]
  },
  {
   "cell_type": "code",
   "execution_count": 23,
   "id": "7aed3770",
   "metadata": {
    "colab": {
     "base_uri": "https://localhost:8080/",
     "height": 487
    },
    "id": "7aed3770",
    "outputId": "6b533c41-7239-423c-8d70-f00c7bb5031b"
   },
   "outputs": [
    {
     "data": {
      "image/png": "[encoded data removed]",
      "text/plain": [
       "<Figure size 640x480 with 2 Axes>"
      ]
     },
     "metadata": {},
     "output_type": "display_data"
    }
   ],
   "source": [
    "# Pull out the coefficients and feature names\n",
    "coef_series = pd.Series(logit.coef_[0], index=cv.get_feature_names_out())\n",
    "\n",
    "# Plot\n",
    "import matplotlib.pyplot as plt\n",
    "\n",
    "plt.subplots(1,2)\n",
    "\n",
    "# Positive\n",
    "plt.subplot(1,2,1)\n",
    "coef_series.nlargest(10).sort_values().plot(kind='barh', color='green')\n",
    "plt.title('Positive Coefficients')\n",
    "\n",
    "# Negative\n",
    "plt.subplot(1,2,2)\n",
    "coef_series.nsmallest(10).sort_values(ascending=False).plot(kind='barh', color='darkred')\n",
    "plt.title('Negative Coefficients')\n",
    "\n",
    "# Show\n",
    "plt.tight_layout()\n",
    "plt.show()"
   ]
  },
  {
   "cell_type": "markdown",
   "id": "dea695af",
   "metadata": {},
   "source": [
    "We can see that the words appearing in reviews with positive reviews are highly positive, and those in negative reviews are very negative as we would expect. Some tokens might warrant more further investigation into the data if they are nouns."
   ]
  },
  {
   "cell_type": "markdown",
   "id": "7f588c54",
   "metadata": {},
   "source": [
    "### Using an LLM for Sentiment\n",
    "\n",
    "In the section below, we will use the [transformers](https://huggingface.co/docs/transformers/index) library from Hugging Face to use a large language model, in this case, an example of one based on the very well-known [BERT](https://en.wikipedia.org/wiki/BERT_(language_model)) model, for sentiment analysis.\n",
    "\n",
    "If you've not already installed the `transformers` library, you'll need to do so below. The calls to the library will also download the model file. Note that these are large downloads, so may take a little while if you are running you code locally!"
   ]
  },
  {
   "cell_type": "code",
   "execution_count": 24,
   "id": "d96a8b51",
   "metadata": {},
   "outputs": [
    {
     "name": "stdout",
     "output_type": "stream",
     "text": [
      "Requirement already satisfied: transformers in c:\\users\\myles\\appdata\\local\\programs\\python\\python311\\lib\\site-packages (4.30.2)\n",
      "Requirement already satisfied: filelock in c:\\users\\myles\\appdata\\local\\programs\\python\\python311\\lib\\site-packages (from transformers) (3.9.0)\n",
      "Requirement already satisfied: huggingface-hub<1.0,>=0.14.1 in c:\\users\\myles\\appdata\\local\\programs\\python\\python311\\lib\\site-packages (from transformers) (0.16.4)\n",
      "Requirement already satisfied: numpy>=1.17 in c:\\users\\myles\\appdata\\local\\programs\\python\\python311\\lib\\site-packages (from transformers) (1.23.5)\n",
      "Requirement already satisfied: packaging>=20.0 in c:\\users\\myles\\appdata\\local\\programs\\python\\python311\\lib\\site-packages (from transformers) (22.0)\n",
      "Requirement already satisfied: pyyaml>=5.1 in c:\\users\\myles\\appdata\\local\\programs\\python\\python311\\lib\\site-packages (from transformers) (6.0)\n",
      "Requirement already satisfied: regex!=2019.12.17 in c:\\users\\myles\\appdata\\local\\programs\\python\\python311\\lib\\site-packages (from transformers) (2023.5.5)\n",
      "Requirement already satisfied: requests in c:\\users\\myles\\appdata\\local\\programs\\python\\python311\\lib\\site-packages (from transformers) (2.28.2)\n",
      "Requirement already satisfied: tokenizers!=0.11.3,<0.14,>=0.11.1 in c:\\users\\myles\\appdata\\local\\programs\\python\\python311\\lib\\site-packages (from transformers) (0.13.3)\n",
      "Requirement already satisfied: safetensors>=0.3.1 in c:\\users\\myles\\appdata\\local\\programs\\python\\python311\\lib\\site-packages (from transformers) (0.3.1)\n",
      "Requirement already satisfied: tqdm>=4.27 in c:\\users\\myles\\appdata\\local\\programs\\python\\python311\\lib\\site-packages (from transformers) (4.64.1)\n",
      "Requirement already satisfied: fsspec in c:\\users\\myles\\appdata\\local\\programs\\python\\python311\\lib\\site-packages (from huggingface-hub<1.0,>=0.14.1->transformers) (2023.6.0)\n",
      "Requirement already satisfied: typing-extensions>=3.7.4.3 in c:\\users\\myles\\appdata\\local\\programs\\python\\python311\\lib\\site-packages (from huggingface-hub<1.0,>=0.14.1->transformers) (4.5.0)\n",
      "Requirement already satisfied: colorama in c:\\users\\myles\\appdata\\local\\programs\\python\\python311\\lib\\site-packages (from tqdm>=4.27->transformers) (0.4.6)\n",
      "Requirement already satisfied: charset-normalizer<4,>=2 in c:\\users\\myles\\appdata\\local\\programs\\python\\python311\\lib\\site-packages (from requests->transformers) (3.0.1)\n",
      "Requirement already satisfied: idna<4,>=2.5 in c:\\users\\myles\\appdata\\local\\programs\\python\\python311\\lib\\site-packages (from requests->transformers) (3.4)\n",
      "Requirement already satisfied: urllib3<1.27,>=1.21.1 in c:\\users\\myles\\appdata\\local\\programs\\python\\python311\\lib\\site-packages (from requests->transformers) (1.26.14)\n",
      "Requirement already satisfied: certifi>=2017.4.17 in c:\\users\\myles\\appdata\\local\\programs\\python\\python311\\lib\\site-packages (from requests->transformers) (2022.12.7)\n"
     ]
    }
   ],
   "source": [
    "# Install the transformers library\n",
    "!pip install transformers"
   ]
  },
  {
   "cell_type": "code",
   "execution_count": 25,
   "id": "03814805",
   "metadata": {},
   "outputs": [
    {
     "name": "stderr",
     "output_type": "stream",
     "text": [
      "Xformers is not installed correctly. If you want to use memory_efficient_attention to accelerate training use the following command to install Xformers\n",
      "pip install xformers.\n"
     ]
    },
    {
     "data": {
      "text/plain": [
       "[{'label': 'LABEL_1', 'score': 0.9970933198928833},\n",
       " {'label': 'LABEL_0', 'score': 0.967010498046875},\n",
       " {'label': 'LABEL_1', 'score': 0.7049164175987244}]"
      ]
     },
     "execution_count": 25,
     "metadata": {},
     "output_type": "execute_result"
    }
   ],
   "source": [
    "# Create a model pipeline\n",
    "from transformers import pipeline, AutoModelForTokenClassification, AutoTokenizer\n",
    "\n",
    "# Create a sentiment analysis pipeline\n",
    "mypipeline = pipeline(\"sentiment-analysis\", \n",
    "                      model=\"assemblyai/distilbert-base-uncased-sst2\", \n",
    "                      tokenizer=\"assemblyai/distilbert-base-uncased-sst2\")\n",
    "\n",
    "mypipeline([\"I love applesauce!\", \"I hate applesauce!\", \"Applesauce is alright I guess\"])"
   ]
  },
  {
   "cell_type": "markdown",
   "id": "7527ab2f",
   "metadata": {},
   "source": [
    "Here, `LABEL_1` refers to positive sentiment, and `LABEL_0` to negative sentiment. We will delve more into Transformers and Large Language Models (LLMs) later in the course."
   ]
  },
  {
   "cell_type": "markdown",
   "id": "3332900e",
   "metadata": {},
   "source": [
    "### References\n",
    "\n",
    "• Maas, A., Daly, R., Pham, P., Huang, D., Ng, A., & Potts, C. (2011). Learning Word Vectors for Sentiment Analysis. In *Proceedings of the 49th Annual Meeting of the Association for Computational Linguistics: Human Language Technologies* (pp. 142–150). Association for Computational Linguistics.\n",
    "\n",
    "• Hutto, C.J. & Gilbert, E.E. (2014). VADER: A Parsimonious Rule-based Model for Sentiment Analysis of Social Media Text. In *Eighth International Conference on Weblogs and Social Media (ICWSM-14)*. Ann Arbor, MI, June 2014.\n",
    "\n",
    "• *IMDB Dataset of 50K Movie Reviews.* (2019, March 9). Kaggle. https://www.kaggle.com/datasets/lakshmi25npathi/imdb-dataset-of-50k-movie-reviews\n",
    "\n",
    "• *Distilbert-base-uncased-sst2 by AssemblyAI.* Hugging Face (Accessed July 21, 2023) https://huggingface.co/assemblyai/distilbert-base-uncased-sst2"
   ]
  },
  {
   "cell_type": "markdown",
   "id": "6e9507a8",
   "metadata": {},
   "source": [
    "----\n",
    "\n",
    "<table border=\"0\" bgcolor=\"white\">\n",
    "  <tr></tr>\n",
    "  <tr>\n",
    "      <th align=\"left\" style=\"align:left; vertical-align: bottom;\"><p><img src=\"https://raw.githubusercontent.com/nlpfromscratch/nlp4free/master/assets/Cc_by-nc_icon.png\" style=\"width:15%; float:left\">\n",
    "</p></th>\n",
    "      <th aligh=\"right\" width=\"33%\"><a href=\"https://www.nlpfromscratch.com?utm_source=notebook&utm_medium=nb-footer-img\"><img src=\"https://drive.google.com/uc?export=view&id=1-lt6Uft8lgBG9jPD0dO6w3dAcv_EUQRP\"></th>\n",
    "</tr>\n",
    "</table>"
   ]
  }
 ],
 "metadata": {
  "colab": {
   "provenance": []
  },
  "kernelspec": {
   "display_name": "Python 3 (ipykernel)",
   "language": "python",
   "name": "python3"
  },
  "language_info": {
   "codemirror_mode": {
    "name": "ipython",
    "version": 3
   },
   "file_extension": ".py",
   "mimetype": "text/x-python",
   "name": "python",
   "nbconvert_exporter": "python",
   "pygments_lexer": "ipython3",
   "version": "3.11.1"
  }
 },
 "nbformat": 4,
 "nbformat_minor": 5
}
