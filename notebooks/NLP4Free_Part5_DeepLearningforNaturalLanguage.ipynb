{
 "cells": [
  {
   "cell_type": "markdown",
   "id": "d6c54d8e",
   "metadata": {
    "id": "d6c54d8e"
   },
   "source": [
    "![image.png](https://raw.githubusercontent.com/mylesmharrison/nlp4free/master/assets/NLP4Free%20-%20Part%205%20-%20Deep%20Learning%20for%20Natural%20Language.png)\n",
    "\n",
    "---\n",
    "\n",
    "### License\n",
    "\n",
    "This work is licensed under a [Creative Commons NonCommerical License](https://creativecommons.org/licenses/by-nc/4.0/).\n",
    "\n",
    "\n",
    "<img src='https://raw.githubusercontent.com/nlpfromscratch/nlp4free/master/assets/Cc_by-nc_icon.png' style=\"width:25%\"/>\n",
    "\n",
    "You are free to:\n",
    "- **Share** — copy and redistribute the material in any medium or format\n",
    "- **Adapt** — remix, transform, and build upon the material. The licensor cannot revoke these freedoms as long as you follow the license terms.\n",
    "\n",
    "\n",
    "Under the following terms:\n",
    "- **Attribution** — You must give appropriate credit, provide a link to the license, and indicate if changes were made. You may do so in any reasonable manner, but not in any way that suggests the licensor endorses you or your use.\n",
    "- **NonCommercial** — You may not use the material for commercial purposes.\n",
    "\n",
    "---"
   ]
  },
  {
   "cell_type": "markdown",
   "id": "f323b7bd",
   "metadata": {
    "id": "2b6200c8"
   },
   "source": [
    "# Part 5 - Deep Learning for Natural Language"
   ]
  },
  {
   "cell_type": "markdown",
   "id": "982def44",
   "metadata": {
    "id": "2b6200c8"
   },
   "source": [
    "<a target=\"_blank\" href=\"https://colab.research.google.com/github/mylesmharrison/nlp4free/blob/master/notebooks/NLP4Free_Part5_DeepLearningforNaturalLanguage.ipynb\"><img src=\"https://colab.research.google.com/assets/colab-badge.svg\" alt=\"Open In Colab\" align=\"left\"/></a>"
   ]
  },
  {
   "cell_type": "markdown",
   "id": "cb5d20f3",
   "metadata": {
    "id": "d2109366"
   },
   "source": [
    "## Getting Started with Tensorflow\n",
    "\n",
    "Before we start applying neural networks to NLP, let's get acquianted with [Tensorflow](https://www.tensorflow.org/) and some of the different building blocks within it. We'll build a toy model first to get familiar with how to do so with code. In this notebook, we'll just be working with simple feed-forward networks as were discussed in the accompanying slides. We will actually be using [Keras](https://keras.io) which is a higher level API that makes working with Tensorflow easier. This has been integrated into TF proper as of version 2.0.\n",
    "\n",
    "Tensorflow has different model types built into it, for implementing a feed-forward network, this is done using the `Sequential` model type, so called because data flows in the model from left to right.\n",
    "\n",
    "First, we import this for Tensorflow, and then we will create a new empty Sequential model with nothing it:"
   ]
  },
  {
   "cell_type": "code",
   "execution_count": 1,
   "id": "62adce64",
   "metadata": {},
   "outputs": [],
   "source": [
    "from tensorflow.keras.models import Sequential\n",
    "\n",
    "# Create an empty model\n",
    "model = Sequential()"
   ]
  },
  {
   "cell_type": "markdown",
   "id": "9751682e",
   "metadata": {},
   "source": [
    "We can check the type of our model:"
   ]
  },
  {
   "cell_type": "code",
   "execution_count": 2,
   "id": "d2f7e56f",
   "metadata": {},
   "outputs": [
    {
     "data": {
      "text/plain": [
       "keras.src.engine.sequential.Sequential"
      ]
     },
     "execution_count": 2,
     "metadata": {},
     "output_type": "execute_result"
    }
   ],
   "source": [
    "type(model)"
   ]
  },
  {
   "cell_type": "markdown",
   "id": "62c94ffa",
   "metadata": {},
   "source": [
    "Now that we have an empty model, we can start adding some layers to it! First we will add our input layer. This also needs to be imported from the submodule within Keras. Let's create an input layer for our model that takes 3 columns, then add it to the model. In Keras, this is using the `InputLayer` class:"
   ]
  },
  {
   "cell_type": "code",
   "execution_count": 3,
   "id": "425ee5bf",
   "metadata": {},
   "outputs": [],
   "source": [
    "from tensorflow.keras.layers import InputLayer\n",
    "\n",
    "# Create the input layer\n",
    "input_layer = InputLayer(input_shape=(3,))\n",
    "\n",
    "# Add to the model\n",
    "model.add(input_layer)"
   ]
  },
  {
   "cell_type": "markdown",
   "id": "4da20494",
   "metadata": {},
   "source": [
    "Great, we're on our way! Now let's add two hidden layers, each with 5 nodes and associated activation functions. Remember the choice of the size of the hidden layers and activation functions is up to the modeler. Finding the best to train your model is part of the work.\n",
    "\n",
    "In Keras, fully-connected layers are referred to as `Dense` layers, and we can easily specify the activation function by just passing it as a parameter. Here we'll use ReLU which is fairly standard for many applications:"
   ]
  },
  {
   "cell_type": "code",
   "execution_count": 4,
   "id": "f9ea6696",
   "metadata": {},
   "outputs": [],
   "source": [
    "from tensorflow.keras.layers import Dense\n",
    "\n",
    "# Create hidden layer 1\n",
    "layer1 = Dense(5, activation=\"relu\")\n",
    "\n",
    "# Create hidden layer 2\n",
    "layer2 = Dense(5, activation=\"relu\")\n",
    "\n",
    "# Add to the model\n",
    "model.add(layer1)\n",
    "model.add(layer2)"
   ]
  },
  {
   "cell_type": "markdown",
   "id": "ef7a6206",
   "metadata": {},
   "source": [
    "Great, now let's see how our network is stacking up:"
   ]
  },
  {
   "cell_type": "code",
   "execution_count": 5,
   "id": "38385240",
   "metadata": {},
   "outputs": [
    {
     "name": "stdout",
     "output_type": "stream",
     "text": [
      "Model: \"sequential\"\n",
      "_________________________________________________________________\n",
      " Layer (type)                Output Shape              Param #   \n",
      "=================================================================\n",
      " dense (Dense)               (None, 5)                 20        \n",
      "                                                                 \n",
      " dense_1 (Dense)             (None, 5)                 30        \n",
      "                                                                 \n",
      "=================================================================\n",
      "Total params: 50 (200.00 Byte)\n",
      "Trainable params: 50 (200.00 Byte)\n",
      "Non-trainable params: 0 (0.00 Byte)\n",
      "_________________________________________________________________\n"
     ]
    }
   ],
   "source": [
    "model.summary()"
   ]
  },
  {
   "cell_type": "markdown",
   "id": "40c8e21d",
   "metadata": {},
   "source": [
    "We have 3 inputs $\\times$ 5 weights in our first layer, plus 5 bias terms for a total of 20 weights, then 5 outputs from layer 1 $\\times$ 5 weights = 25 + 5 bias terms for layer 2 for 30 weights. In total, our model has 50 different parameters that can be learned as part of the model training.\n",
    "\n",
    "Finally, let's add an output layer. For our final layer we will add a single node with a sigmoid activation, so it will return probabilities between 0 and 1:"
   ]
  },
  {
   "cell_type": "code",
   "execution_count": 6,
   "id": "26bc943e",
   "metadata": {},
   "outputs": [],
   "source": [
    "# Output layer\n",
    "output_layer = Dense(1, activation=\"sigmoid\")\n",
    "\n",
    "# Add to model\n",
    "model.add(output_layer)"
   ]
  },
  {
   "cell_type": "markdown",
   "id": "677dbc27",
   "metadata": {},
   "source": [
    "Ok, now let's check the result:"
   ]
  },
  {
   "cell_type": "code",
   "execution_count": 7,
   "id": "43abae28",
   "metadata": {},
   "outputs": [
    {
     "name": "stdout",
     "output_type": "stream",
     "text": [
      "Model: \"sequential\"\n",
      "_________________________________________________________________\n",
      " Layer (type)                Output Shape              Param #   \n",
      "=================================================================\n",
      " dense (Dense)               (None, 5)                 20        \n",
      "                                                                 \n",
      " dense_1 (Dense)             (None, 5)                 30        \n",
      "                                                                 \n",
      " dense_2 (Dense)             (None, 1)                 6         \n",
      "                                                                 \n",
      "=================================================================\n",
      "Total params: 56 (224.00 Byte)\n",
      "Trainable params: 56 (224.00 Byte)\n",
      "Non-trainable params: 0 (0.00 Byte)\n",
      "_________________________________________________________________\n"
     ]
    }
   ],
   "source": [
    "model.summary()"
   ]
  },
  {
   "cell_type": "markdown",
   "id": "f8305a12",
   "metadata": {},
   "source": [
    "Now we have 6 extra parameters for a total of 56. Finally, we compile our model and attach a loss function."
   ]
  },
  {
   "cell_type": "code",
   "execution_count": 8,
   "id": "1ad7e2a1",
   "metadata": {},
   "outputs": [],
   "source": [
    "# Attach a loss function and optimizier\n",
    "model.compile(optimizer='adam', loss='binary_crossentropy', metrics=['accuracy'])\n",
    "\n",
    "# Build\n",
    "model.build()"
   ]
  },
  {
   "cell_type": "markdown",
   "id": "d686010f",
   "metadata": {},
   "source": [
    "We won't train our model, but let's try passing some data through it:"
   ]
  },
  {
   "cell_type": "code",
   "execution_count": 9,
   "id": "d7b1dd87",
   "metadata": {},
   "outputs": [
    {
     "name": "stdout",
     "output_type": "stream",
     "text": [
      "tf.Tensor([[1. 1. 1.]], shape=(1, 3), dtype=float32)\n",
      "tf.Tensor([[0.5357391]], shape=(1, 1), dtype=float32)\n"
     ]
    }
   ],
   "source": [
    "from tensorflow import ones\n",
    "\n",
    "# Create a tensor of three 1's\n",
    "x = ones((1, 3))\n",
    "print(x)\n",
    "\n",
    "# Pass through the model\n",
    "print(model(x))"
   ]
  },
  {
   "cell_type": "markdown",
   "id": "95e4f1be",
   "metadata": {},
   "source": [
    "Great! We have built a super simple neural network in Tensorflow without training it. Now let's move on to applying this type of neural network to a natural language problem."
   ]
  },
  {
   "cell_type": "markdown",
   "id": "a930c50d",
   "metadata": {},
   "source": [
    "## Data Preprocessing\n",
    "\n",
    "Now we will revisit our original binary classification task for sentiment, so we will again be working with a random 10% sample of the [Large Movie Review Dataset](https://www.kaggle.com/datasets/lakshmi25npathi/imdb-dataset-of-50k-movie-reviews), a set of 50,000 \"highly polar\" movie reviews collected from the [Internet Movie Database](https://www.imdb.com).\n",
    "\n",
    "Before, we tackled this problem with a simple linear classifier in [scikit-learn](https://scikit-learn.org/). Now we will compare and contrast with fitting a deep learning model in Tensorflow based upon what we've seen above.\n",
    "\n",
    "We still need to go through the same preprocessing steps as before in order to arrive at our document-term matrix and target column vector, these steps have not changed from [Part 3](https://github.com/mylesmharrison/nlp4free/blob/master/notebooks/NLP4Free_Part3_MachineLearningandSentiment.ipynb).\n",
    "\n",
    "First, we import pandas and read in the data:"
   ]
  },
  {
   "cell_type": "code",
   "execution_count": 10,
   "id": "02cb5150",
   "metadata": {
    "id": "02cb5150"
   },
   "outputs": [],
   "source": [
    "import pandas as pd\n",
    "\n",
    "reviews_df = pd.read_csv('https://raw.githubusercontent.com/mylesmharrison/nlp4free/master/data/imdb_reviews_sample.csv')"
   ]
  },
  {
   "cell_type": "code",
   "execution_count": 11,
   "id": "94031e98",
   "metadata": {},
   "outputs": [
    {
     "data": {
      "text/html": [
       "<div>\n",
       "<style scoped>\n",
       "    .dataframe tbody tr th:only-of-type {\n",
       "        vertical-align: middle;\n",
       "    }\n",
       "\n",
       "    .dataframe tbody tr th {\n",
       "        vertical-align: top;\n",
       "    }\n",
       "\n",
       "    .dataframe thead th {\n",
       "        text-align: right;\n",
       "    }\n",
       "</style>\n",
       "<table border=\"1\" class=\"dataframe\">\n",
       "  <thead>\n",
       "    <tr style=\"text-align: right;\">\n",
       "      <th></th>\n",
       "      <th>review</th>\n",
       "      <th>sentiment</th>\n",
       "    </tr>\n",
       "  </thead>\n",
       "  <tbody>\n",
       "    <tr>\n",
       "      <th>0</th>\n",
       "      <td>Valley Girl is an exceptionally well made film...</td>\n",
       "      <td>1</td>\n",
       "    </tr>\n",
       "    <tr>\n",
       "      <th>1</th>\n",
       "      <td>This is one of those inoffensive and mildly en...</td>\n",
       "      <td>0</td>\n",
       "    </tr>\n",
       "    <tr>\n",
       "      <th>2</th>\n",
       "      <td>I really wanted to like this movie - the locat...</td>\n",
       "      <td>0</td>\n",
       "    </tr>\n",
       "    <tr>\n",
       "      <th>3</th>\n",
       "      <td>I attended the premier last night. The movie s...</td>\n",
       "      <td>0</td>\n",
       "    </tr>\n",
       "    <tr>\n",
       "      <th>4</th>\n",
       "      <td>The Deadly Wake is THE PERFECT MOVIE for film ...</td>\n",
       "      <td>0</td>\n",
       "    </tr>\n",
       "  </tbody>\n",
       "</table>\n",
       "</div>"
      ],
      "text/plain": [
       "                                              review  sentiment\n",
       "0  Valley Girl is an exceptionally well made film...          1\n",
       "1  This is one of those inoffensive and mildly en...          0\n",
       "2  I really wanted to like this movie - the locat...          0\n",
       "3  I attended the premier last night. The movie s...          0\n",
       "4  The Deadly Wake is THE PERFECT MOVIE for film ...          0"
      ]
     },
     "execution_count": 11,
     "metadata": {},
     "output_type": "execute_result"
    }
   ],
   "source": [
    "# Take a look\n",
    "reviews_df.head()"
   ]
  },
  {
   "cell_type": "markdown",
   "id": "60b85765",
   "metadata": {},
   "source": [
    "Next, we make a copy of the dataframe, change the review text to lowercase and remove all punctuation:"
   ]
  },
  {
   "cell_type": "code",
   "execution_count": 12,
   "id": "9ed2c535",
   "metadata": {},
   "outputs": [
    {
     "name": "stderr",
     "output_type": "stream",
     "text": [
      "C:\\Users\\myles\\AppData\\Local\\Temp\\ipykernel_15052\\2480546980.py:8: FutureWarning: The default value of regex will change from True to False in a future version.\n",
      "  processed_df['review'] = processed_df['review'].str.replace(r'[^\\w\\s]+', '')\n"
     ]
    }
   ],
   "source": [
    "# Make a copy of the original dataframe\n",
    "processed_df = reviews_df.copy()\n",
    "\n",
    "# Change everything to lowercase\n",
    "processed_df['review'] = processed_df['review'].str.lower()\n",
    "\n",
    "# Remove punctuation with regular expression (https://en.wikipedia.org/wiki/Regular_expression)\n",
    "processed_df['review'] = processed_df['review'].str.replace(r'[^\\w\\s]+', '')"
   ]
  },
  {
   "cell_type": "markdown",
   "id": "2c89eec1",
   "metadata": {},
   "source": [
    "Finally, we apply the CountVectorizer from sklearn to create the document-term matrix:"
   ]
  },
  {
   "cell_type": "code",
   "execution_count": 13,
   "id": "d9c7fdf4",
   "metadata": {},
   "outputs": [
    {
     "data": {
      "text/plain": [
       "<5000x1565 sparse matrix of type '<class 'numpy.int64'>'\n",
       "\twith 269110 stored elements in Compressed Sparse Row format>"
      ]
     },
     "execution_count": 13,
     "metadata": {},
     "output_type": "execute_result"
    }
   ],
   "source": [
    "# Apply count vectorization and remove stopwords\n",
    "# Use the min_df parameter to only keep tokens which appear in at least 1% of documents (50 reviews or more)\n",
    "from sklearn.feature_extraction.text import CountVectorizer\n",
    "\n",
    "cv = CountVectorizer(stop_words='english', min_df=0.01)\n",
    "X = cv.fit_transform(reviews_df['review'])\n",
    "X"
   ]
  },
  {
   "cell_type": "markdown",
   "id": "3fac8fd6",
   "metadata": {},
   "source": [
    "Again, this is unchanged from Part 3 and we once again arrive at our 5,000 row, 1,565 column matrix - one row for each movie review, and one column for each token which appears in 1% of the reviews or more (because of the `min_df` parameter). As before, we plunk this into a dataframe:"
   ]
  },
  {
   "cell_type": "code",
   "execution_count": 14,
   "id": "c3bf2e93",
   "metadata": {},
   "outputs": [
    {
     "data": {
      "text/html": [
       "<div>\n",
       "<style scoped>\n",
       "    .dataframe tbody tr th:only-of-type {\n",
       "        vertical-align: middle;\n",
       "    }\n",
       "\n",
       "    .dataframe tbody tr th {\n",
       "        vertical-align: top;\n",
       "    }\n",
       "\n",
       "    .dataframe thead th {\n",
       "        text-align: right;\n",
       "    }\n",
       "</style>\n",
       "<table border=\"1\" class=\"dataframe\">\n",
       "  <thead>\n",
       "    <tr style=\"text-align: right;\">\n",
       "      <th></th>\n",
       "      <th>10</th>\n",
       "      <th>100</th>\n",
       "      <th>11</th>\n",
       "      <th>12</th>\n",
       "      <th>13</th>\n",
       "      <th>15</th>\n",
       "      <th>20</th>\n",
       "      <th>30</th>\n",
       "      <th>40</th>\n",
       "      <th>50</th>\n",
       "      <th>...</th>\n",
       "      <th>wrong</th>\n",
       "      <th>wrote</th>\n",
       "      <th>yeah</th>\n",
       "      <th>year</th>\n",
       "      <th>years</th>\n",
       "      <th>yes</th>\n",
       "      <th>york</th>\n",
       "      <th>young</th>\n",
       "      <th>younger</th>\n",
       "      <th>zero</th>\n",
       "    </tr>\n",
       "  </thead>\n",
       "  <tbody>\n",
       "    <tr>\n",
       "      <th>0</th>\n",
       "      <td>0</td>\n",
       "      <td>0</td>\n",
       "      <td>0</td>\n",
       "      <td>0</td>\n",
       "      <td>0</td>\n",
       "      <td>0</td>\n",
       "      <td>0</td>\n",
       "      <td>0</td>\n",
       "      <td>0</td>\n",
       "      <td>0</td>\n",
       "      <td>...</td>\n",
       "      <td>0</td>\n",
       "      <td>0</td>\n",
       "      <td>0</td>\n",
       "      <td>0</td>\n",
       "      <td>0</td>\n",
       "      <td>0</td>\n",
       "      <td>0</td>\n",
       "      <td>0</td>\n",
       "      <td>0</td>\n",
       "      <td>0</td>\n",
       "    </tr>\n",
       "    <tr>\n",
       "      <th>1</th>\n",
       "      <td>0</td>\n",
       "      <td>0</td>\n",
       "      <td>0</td>\n",
       "      <td>0</td>\n",
       "      <td>0</td>\n",
       "      <td>0</td>\n",
       "      <td>0</td>\n",
       "      <td>0</td>\n",
       "      <td>0</td>\n",
       "      <td>0</td>\n",
       "      <td>...</td>\n",
       "      <td>0</td>\n",
       "      <td>0</td>\n",
       "      <td>0</td>\n",
       "      <td>0</td>\n",
       "      <td>0</td>\n",
       "      <td>0</td>\n",
       "      <td>0</td>\n",
       "      <td>0</td>\n",
       "      <td>0</td>\n",
       "      <td>0</td>\n",
       "    </tr>\n",
       "    <tr>\n",
       "      <th>2</th>\n",
       "      <td>0</td>\n",
       "      <td>0</td>\n",
       "      <td>0</td>\n",
       "      <td>0</td>\n",
       "      <td>0</td>\n",
       "      <td>0</td>\n",
       "      <td>0</td>\n",
       "      <td>0</td>\n",
       "      <td>0</td>\n",
       "      <td>0</td>\n",
       "      <td>...</td>\n",
       "      <td>0</td>\n",
       "      <td>0</td>\n",
       "      <td>0</td>\n",
       "      <td>0</td>\n",
       "      <td>0</td>\n",
       "      <td>0</td>\n",
       "      <td>0</td>\n",
       "      <td>0</td>\n",
       "      <td>0</td>\n",
       "      <td>0</td>\n",
       "    </tr>\n",
       "    <tr>\n",
       "      <th>3</th>\n",
       "      <td>0</td>\n",
       "      <td>0</td>\n",
       "      <td>0</td>\n",
       "      <td>0</td>\n",
       "      <td>0</td>\n",
       "      <td>1</td>\n",
       "      <td>0</td>\n",
       "      <td>0</td>\n",
       "      <td>0</td>\n",
       "      <td>0</td>\n",
       "      <td>...</td>\n",
       "      <td>1</td>\n",
       "      <td>0</td>\n",
       "      <td>0</td>\n",
       "      <td>0</td>\n",
       "      <td>0</td>\n",
       "      <td>0</td>\n",
       "      <td>0</td>\n",
       "      <td>0</td>\n",
       "      <td>0</td>\n",
       "      <td>0</td>\n",
       "    </tr>\n",
       "    <tr>\n",
       "      <th>4</th>\n",
       "      <td>0</td>\n",
       "      <td>0</td>\n",
       "      <td>0</td>\n",
       "      <td>0</td>\n",
       "      <td>0</td>\n",
       "      <td>1</td>\n",
       "      <td>0</td>\n",
       "      <td>0</td>\n",
       "      <td>0</td>\n",
       "      <td>0</td>\n",
       "      <td>...</td>\n",
       "      <td>0</td>\n",
       "      <td>0</td>\n",
       "      <td>0</td>\n",
       "      <td>0</td>\n",
       "      <td>0</td>\n",
       "      <td>0</td>\n",
       "      <td>0</td>\n",
       "      <td>0</td>\n",
       "      <td>0</td>\n",
       "      <td>0</td>\n",
       "    </tr>\n",
       "  </tbody>\n",
       "</table>\n",
       "<p>5 rows × 1565 columns</p>\n",
       "</div>"
      ],
      "text/plain": [
       "   10  100  11  12  13  15  20  30  40  50  ...  wrong  wrote  yeah  year  \\\n",
       "0   0    0   0   0   0   0   0   0   0   0  ...      0      0     0     0   \n",
       "1   0    0   0   0   0   0   0   0   0   0  ...      0      0     0     0   \n",
       "2   0    0   0   0   0   0   0   0   0   0  ...      0      0     0     0   \n",
       "3   0    0   0   0   0   1   0   0   0   0  ...      1      0     0     0   \n",
       "4   0    0   0   0   0   1   0   0   0   0  ...      0      0     0     0   \n",
       "\n",
       "   years  yes  york  young  younger  zero  \n",
       "0      0    0     0      0        0     0  \n",
       "1      0    0     0      0        0     0  \n",
       "2      0    0     0      0        0     0  \n",
       "3      0    0     0      0        0     0  \n",
       "4      0    0     0      0        0     0  \n",
       "\n",
       "[5 rows x 1565 columns]"
      ]
     },
     "execution_count": 14,
     "metadata": {},
     "output_type": "execute_result"
    }
   ],
   "source": [
    "X = pd.DataFrame(X.toarray(), columns=cv.get_feature_names_out())\n",
    "\n",
    "# Check\n",
    "X.head()"
   ]
  },
  {
   "cell_type": "markdown",
   "id": "4c65c18d",
   "metadata": {},
   "source": [
    "And pull out our `y` column, which here is the binary sentiment column:"
   ]
  },
  {
   "cell_type": "code",
   "execution_count": 15,
   "id": "e2bea2e0",
   "metadata": {},
   "outputs": [
    {
     "data": {
      "text/plain": [
       "0    1\n",
       "1    0\n",
       "2    0\n",
       "3    0\n",
       "4    0\n",
       "Name: sentiment, dtype: int64"
      ]
     },
     "execution_count": 15,
     "metadata": {},
     "output_type": "execute_result"
    }
   ],
   "source": [
    "y = processed_df['sentiment']\n",
    "y.head()"
   ]
  },
  {
   "cell_type": "markdown",
   "id": "b0a552bc",
   "metadata": {},
   "source": [
    "Note with this section, that even though we are applying a completely different type of machine learning with a deep learning model, the preprocessing steps as part of NLP beforehand are completely unchanged. The advantage here is that we apply the same preprocessing steps to arrive at our document-term matrix and target vector regardless of the type of modeling being applied in supervised learning.\n",
    "\n",
    "Let us now proceed to fitting our deep learning model."
   ]
  },
  {
   "cell_type": "markdown",
   "id": "91e2e6ec",
   "metadata": {},
   "source": [
    "### Fitting a Deep Learning Model\n",
    "\n",
    "As with Part 3, we will split our data into a training set and a test set. We can do this easily using the [train_test_split](https://scikit-learn.org/stable/modules/generated/sklearn.model_selection.train_test_split.html) function and set aside 30% of the data for testing:"
   ]
  },
  {
   "cell_type": "code",
   "execution_count": 16,
   "id": "f23062cb",
   "metadata": {},
   "outputs": [],
   "source": [
    "from sklearn.model_selection import train_test_split\n",
    "\n",
    "X_train, X_test, y_train, y_test = train_test_split(X, y, test_size=0.3)"
   ]
  },
  {
   "cell_type": "markdown",
   "id": "7fab3c5b",
   "metadata": {},
   "source": [
    "Now, using all the code from the first section together, we will build our model. We will again choose to build a super simple toy model with 2 hidden layers of 5 nodes each. Our output layer is still a single node with sigmoid activation since we are doing binary classification. The only thing that has changed here is that now for our input layer, we have 1,565 input features instead of 3!"
   ]
  },
  {
   "cell_type": "code",
   "execution_count": 17,
   "id": "c8b4104a",
   "metadata": {},
   "outputs": [],
   "source": [
    "from tensorflow.keras.models import Sequential\n",
    "from tensorflow.keras.layers import InputLayer, Dense\n",
    "\n",
    "# Create model\n",
    "model = Sequential()\n",
    "\n",
    "# Create layers\n",
    "input_layer = InputLayer(input_shape=(1565,))\n",
    "layer1 = Dense(5, activation=\"relu\")\n",
    "layer2 = Dense(5, activation=\"relu\")\n",
    "output_layer = Dense(1, activation=\"sigmoid\")\n",
    "\n",
    "# Add layer\n",
    "model.add(input_layer)\n",
    "model.add(layer1)\n",
    "model.add(layer2)\n",
    "model.add(output_layer)\n",
    "\n",
    "# Add loss function and build and compile\n",
    "model.compile(optimizer='adam', loss='binary_crossentropy', metrics=['accuracy'])\n",
    "model.build()"
   ]
  },
  {
   "cell_type": "markdown",
   "id": "06caed88",
   "metadata": {},
   "source": [
    "Great! Now we have our model skeleton laid out. Let's take a look at how this differs from our toy model:"
   ]
  },
  {
   "cell_type": "code",
   "execution_count": 18,
   "id": "705759af",
   "metadata": {},
   "outputs": [
    {
     "name": "stdout",
     "output_type": "stream",
     "text": [
      "Model: \"sequential_1\"\n",
      "_________________________________________________________________\n",
      " Layer (type)                Output Shape              Param #   \n",
      "=================================================================\n",
      " dense_3 (Dense)             (None, 5)                 7830      \n",
      "                                                                 \n",
      " dense_4 (Dense)             (None, 5)                 30        \n",
      "                                                                 \n",
      " dense_5 (Dense)             (None, 1)                 6         \n",
      "                                                                 \n",
      "=================================================================\n",
      "Total params: 7866 (30.73 KB)\n",
      "Trainable params: 7866 (30.73 KB)\n",
      "Non-trainable params: 0 (0.00 Byte)\n",
      "_________________________________________________________________\n"
     ]
    }
   ],
   "source": [
    "model.summary()"
   ]
  },
  {
   "cell_type": "markdown",
   "id": "01fa62ef",
   "metadata": {},
   "source": [
    "We can see that this model has 7,866 different parameters to be fit! This is significantly more given the size of our input.\n",
    "\n",
    "Finally, let's train out model by passing in the dataset."
   ]
  },
  {
   "cell_type": "code",
   "execution_count": 19,
   "id": "8882da77",
   "metadata": {},
   "outputs": [
    {
     "name": "stdout",
     "output_type": "stream",
     "text": [
      "Epoch 1/3\n",
      "110/110 [==============================] - 2s 3ms/step - loss: 0.6465 - accuracy: 0.6551\n",
      "Epoch 2/3\n",
      "110/110 [==============================] - 0s 3ms/step - loss: 0.4109 - accuracy: 0.8566\n",
      "Epoch 3/3\n",
      "110/110 [==============================] - 0s 3ms/step - loss: 0.2804 - accuracy: 0.9089\n"
     ]
    },
    {
     "data": {
      "text/plain": [
       "<keras.src.callbacks.History at 0x1b66553ce10>"
      ]
     },
     "execution_count": 19,
     "metadata": {},
     "output_type": "execute_result"
    }
   ],
   "source": [
    "model.fit(X_train, y_train, epochs=3)"
   ]
  },
  {
   "cell_type": "markdown",
   "id": "45c21175",
   "metadata": {},
   "source": [
    "We can see here that even after just a few epochs of training, the model has reached ~90% accuracy! This is being evaluated on the test set, however. Let's evaluate our model against the test set to make sure it is not overfit.\n",
    "\n",
    "In Tensorflow, we do this by calling `model.evaluate`:"
   ]
  },
  {
   "cell_type": "code",
   "execution_count": 20,
   "id": "7df7ad0e",
   "metadata": {},
   "outputs": [
    {
     "name": "stdout",
     "output_type": "stream",
     "text": [
      "110/110 [==============================] - 1s 3ms/step - loss: 0.2190 - accuracy: 0.9366\n",
      "47/47 [==============================] - 0s 3ms/step - loss: 0.3689 - accuracy: 0.8467\n"
     ]
    },
    {
     "data": {
      "text/plain": [
       "[0.3688924014568329, 0.846666693687439]"
      ]
     },
     "execution_count": 20,
     "metadata": {},
     "output_type": "execute_result"
    }
   ],
   "source": [
    "model.evaluate(X_train, y_train)\n",
    "model.evaluate(X_test, y_test)"
   ]
  },
  {
   "cell_type": "markdown",
   "id": "e06f846c",
   "metadata": {},
   "source": [
    "We can see here that the model has a ~92% accuracy on the training set but only ~84% on the test set, so it may be slightly overfit. Nonetheless, we have a well-performing model for this small dataset after only a few epochs of training.\n",
    "\n",
    "Unfortunately, unlike an explainable model like Logistic Regression in Part 3, there are no simple coefficients to look at to see which words are most predictive of negative and positive reviews, as in general, neural network approaches are considered a type of [black box model](https://en.wikipedia.org/wiki/Black_box).\n",
    "\n",
    "We, can however, make predictions, about new reviews sentiment, based on their words. All we need to do is pass them through the same preprocessing steps and then pass that into the model to get predicted probability scores. We must use the same CountVectorizer as before, so the dimensionality of the processed data remains the same:"
   ]
  },
  {
   "cell_type": "code",
   "execution_count": 21,
   "id": "a002d9a8",
   "metadata": {},
   "outputs": [
    {
     "name": "stderr",
     "output_type": "stream",
     "text": [
      "C:\\Users\\myles\\AppData\\Local\\Temp\\ipykernel_15052\\3698939415.py:8: FutureWarning: The default value of regex will change from True to False in a future version.\n",
      "  test_reviews['review'] = test_reviews['review'].str.replace(r'[^\\w\\s]+', '')\n"
     ]
    },
    {
     "name": "stdout",
     "output_type": "stream",
     "text": [
      "1/1 [==============================] - 0s 216ms/step\n"
     ]
    }
   ],
   "source": [
    "# Make sample review data\n",
    "test_reviews = pd.DataFrame(['I hated this movie, absolute worst',\n",
    "               'I loved this movie, it was the best ever! Highly recommend',\n",
    "               'Acting was ok, direction was great. Would watch again!'], columns=['review'])\n",
    "\n",
    "# preprocessing\n",
    "test_reviews['review'] = test_reviews['review'].str.lower()\n",
    "test_reviews['review'] = test_reviews['review'].str.replace(r'[^\\w\\s]+', '')\n",
    "test_review_dtm = cv.transform(test_reviews['review'])\n",
    "\n",
    "# score\n",
    "scores = model.predict(test_review_dtm)"
   ]
  },
  {
   "cell_type": "markdown",
   "id": "0c40699d",
   "metadata": {},
   "source": [
    "Here we get back a score between 0 and 1 for each movie review, which is the probability it is in the positive class (1), *i.e.* the sentiment of the movie review is positive:"
   ]
  },
  {
   "cell_type": "code",
   "execution_count": 22,
   "id": "0fb8d47c",
   "metadata": {},
   "outputs": [
    {
     "data": {
      "text/plain": [
       "array([[0.32080942],\n",
       "       [0.728011  ],\n",
       "       [0.48956048]], dtype=float32)"
      ]
     },
     "execution_count": 22,
     "metadata": {},
     "output_type": "execute_result"
    }
   ],
   "source": [
    "scores"
   ]
  },
  {
   "cell_type": "markdown",
   "id": "d7716607",
   "metadata": {},
   "source": [
    "Now let's visualize the result with some [matplotlib](https://matplotlib.org/):"
   ]
  },
  {
   "cell_type": "code",
   "execution_count": 23,
   "id": "fd0a2c82",
   "metadata": {},
   "outputs": [
    {
     "data": {
      "image/png": "[encoded data removed]",
      "text/plain": [
       "<Figure size 640x480 with 1 Axes>"
      ]
     },
     "metadata": {},
     "output_type": "display_data"
    }
   ],
   "source": [
    "# Plot the result\n",
    "import matplotlib.pyplot as plt\n",
    "pd.DataFrame(scores, index=test_reviews['review']).plot(kind='barh', legend=False)\n",
    "plt.title('Test Movie Review Sentiment')\n",
    "plt.xlim(0, 1)\n",
    "plt.ylabel('')\n",
    "plt.xlabel('Sentiment')\n",
    "plt.show()"
   ]
  },
  {
   "cell_type": "markdown",
   "id": "0d4e1279",
   "metadata": {},
   "source": [
    "As we can see, the model has assigned low sentiment scores for those reviews we would expect (3). However, even though review 2 appears highly positive, it only assigned a score of 0.71. Perhaps the model does not assign scores in the high range in general, or these movie reviews are too short compared to the data the model was trained on.\n",
    "\n",
    "There you have it, deep learning for an NLP task in Tensorflow, without too much code at all! This just a simple example and we've only scratched the surface, but the same principles can be applied to more complex tasks with natural language, even forming the basis for state of the art NLP such as large language models (LLMs)."
   ]
  },
  {
   "cell_type": "markdown",
   "id": "3332900e",
   "metadata": {},
   "source": [
    "### References\n",
    "\n",
    "• Maas, A., Daly, R., Pham, P., Huang, D., Ng, A., & Potts, C. (2011). Learning Word Vectors for Sentiment Analysis. In *Proceedings of the 49th Annual Meeting of the Association for Computational Linguistics: Human Language Technologies* (pp. 142–150). Association for Computational Linguistics.\n",
    "\n",
    "• Hutto, C.J. & Gilbert, E.E. (2014). VADER: A Parsimonious Rule-based Model for Sentiment Analysis of Social Media Text. In *Eighth International Conference on Weblogs and Social Media (ICWSM-14)*. Ann Arbor, MI, June 2014.\n",
    "\n",
    "• *IMDB Dataset of 50K Movie Reviews.* (2019, March 9). Kaggle. https://www.kaggle.com/datasets/lakshmi25npathi/imdb-dataset-of-50k-movie-reviews\n",
    "\n",
    "• *Distilbert-base-uncased-sst2 by AssemblyAI.* Hugging Face (Accessed July 21, 2023) https://huggingface.co/assemblyai/distilbert-base-uncased-sst2"
   ]
  },
  {
   "cell_type": "markdown",
   "id": "61e9da27",
   "metadata": {},
   "source": [
    "----\n",
    "\n",
    "<table border=\"0\" bgcolor=\"white\">\n",
    "  <tr></tr>\n",
    "  <tr>\n",
    "      <th align=\"left\" style=\"align:left; vertical-align: bottom;\"><p><img src=\"https://raw.githubusercontent.com/nlpfromscratch/nlp4free/master/assets/Cc_by-nc_icon.png\" style=\"width:15%; float:left\">\n",
    "</p></th>\n",
    "      <th aligh=\"right\" width=\"33%\"><a href=\"https://www.nlpfromscratch.com?utm_source=notebook&utm_medium=nb-footer-img\"><img src=\"https://drive.google.com/uc?export=view&id=1-lt6Uft8lgBG9jPD0dO6w3dAcv_EUQRP\"></th>\n",
    "</tr>\n",
    "</table>"
   ]
  }
 ],
 "metadata": {
  "colab": {
   "provenance": []
  },
  "kernelspec": {
   "display_name": "Python 3 (ipykernel)",
   "language": "python",
   "name": "python3"
  },
  "language_info": {
   "codemirror_mode": {
    "name": "ipython",
    "version": 3
   },
   "file_extension": ".py",
   "mimetype": "text/x-python",
   "name": "python",
   "nbconvert_exporter": "python",
   "pygments_lexer": "ipython3",
   "version": "3.11.1"
  }
 },
 "nbformat": 4,
 "nbformat_minor": 5
}
